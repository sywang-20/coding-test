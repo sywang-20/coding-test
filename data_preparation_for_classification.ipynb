{
 "cells": [
  {
   "cell_type": "code",
   "execution_count": 2,
   "id": "orange-october",
   "metadata": {},
   "outputs": [],
   "source": [
    "import os, sys \n",
    "import pandas as pd\n",
    "import pickle as pk\n",
    "from pathlib2 import Path\n",
    "#from evaluate import autoGrader\n",
    "import matplotlib.pyplot as plt\n",
    "import seaborn as sns\n",
    "import numpy as np\n",
    "#import dataframe as df\n",
    "#pip install pathlib2"
   ]
  },
  {
   "cell_type": "code",
   "execution_count": 11,
   "id": "regulation-seminar",
   "metadata": {},
   "outputs": [],
   "source": [
    "data=pd.read_csv('D:/code_own/CodingTest-SunyuWang/to_players/data/training_data.csv',parse_dates = ['t_ob'])"
   ]
  },
  {
   "cell_type": "code",
   "execution_count": 14,
   "id": "increased-budget",
   "metadata": {},
   "outputs": [],
   "source": [
    "# 用中位数将数据分成两部分\n",
    "median=data['PM2.5'].median()\n",
    "# 增加serious这一列，用于判断是否严重\n",
    "data['serious']=data.apply(lambda x:1 if x['PM2.5']>median else 0,axis=1)"
   ]
  },
  {
   "cell_type": "code",
   "execution_count": 33,
   "id": "german-kentucky",
   "metadata": {},
   "outputs": [
    {
     "data": {
      "text/html": [
       "<div>\n",
       "<style scoped>\n",
       "    .dataframe tbody tr th:only-of-type {\n",
       "        vertical-align: middle;\n",
       "    }\n",
       "\n",
       "    .dataframe tbody tr th {\n",
       "        vertical-align: top;\n",
       "    }\n",
       "\n",
       "    .dataframe thead th {\n",
       "        text-align: right;\n",
       "    }\n",
       "</style>\n",
       "<table border=\"1\" class=\"dataframe\">\n",
       "  <thead>\n",
       "    <tr style=\"text-align: right;\">\n",
       "      <th></th>\n",
       "      <th>t_ob</th>\n",
       "      <th>风向</th>\n",
       "      <th>PM10</th>\n",
       "      <th>PM2.5</th>\n",
       "      <th>室内温度</th>\n",
       "      <th>室内湿度</th>\n",
       "      <th>SO2</th>\n",
       "      <th>O3</th>\n",
       "      <th>NOx</th>\n",
       "      <th>NO2</th>\n",
       "      <th>NO</th>\n",
       "      <th>CO</th>\n",
       "      <th>气压</th>\n",
       "      <th>大气湿度</th>\n",
       "      <th>大气温度</th>\n",
       "      <th>风速</th>\n",
       "      <th>serious</th>\n",
       "    </tr>\n",
       "  </thead>\n",
       "  <tbody>\n",
       "    <tr>\n",
       "      <th>13</th>\n",
       "      <td>2020-03-01 02:20:00</td>\n",
       "      <td>64.666667</td>\n",
       "      <td>44.983333</td>\n",
       "      <td>32.433333</td>\n",
       "      <td>24.621667</td>\n",
       "      <td>32.118333</td>\n",
       "      <td>4.736667</td>\n",
       "      <td>31.413333</td>\n",
       "      <td>25.588333</td>\n",
       "      <td>24.091667</td>\n",
       "      <td>0.975</td>\n",
       "      <td>0.608333</td>\n",
       "      <td>1014.75</td>\n",
       "      <td>94.916667</td>\n",
       "      <td>9.033333</td>\n",
       "      <td>1.666667</td>\n",
       "      <td>1</td>\n",
       "    </tr>\n",
       "  </tbody>\n",
       "</table>\n",
       "</div>"
      ],
      "text/plain": [
       "                  t_ob         风向       PM10      PM2.5       室内温度       室内湿度  \\\n",
       "13 2020-03-01 02:20:00  64.666667  44.983333  32.433333  24.621667  32.118333   \n",
       "\n",
       "         SO2         O3        NOx        NO2     NO        CO       气压  \\\n",
       "13  4.736667  31.413333  25.588333  24.091667  0.975  0.608333  1014.75   \n",
       "\n",
       "         大气湿度      大气温度        风速  serious  \n",
       "13  94.916667  9.033333  1.666667        1  "
      ]
     },
     "execution_count": 33,
     "metadata": {},
     "output_type": "execute_result"
    }
   ],
   "source": [
    "data[data['serious']==1].head(1)"
   ]
  },
  {
   "cell_type": "code",
   "execution_count": 34,
   "id": "subtle-spanking",
   "metadata": {},
   "outputs": [
    {
     "data": {
      "text/html": [
       "<div>\n",
       "<style scoped>\n",
       "    .dataframe tbody tr th:only-of-type {\n",
       "        vertical-align: middle;\n",
       "    }\n",
       "\n",
       "    .dataframe tbody tr th {\n",
       "        vertical-align: top;\n",
       "    }\n",
       "\n",
       "    .dataframe thead th {\n",
       "        text-align: right;\n",
       "    }\n",
       "</style>\n",
       "<table border=\"1\" class=\"dataframe\">\n",
       "  <thead>\n",
       "    <tr style=\"text-align: right;\">\n",
       "      <th></th>\n",
       "      <th>t_ob</th>\n",
       "      <th>风向</th>\n",
       "      <th>PM10</th>\n",
       "      <th>PM2.5</th>\n",
       "      <th>室内温度</th>\n",
       "      <th>室内湿度</th>\n",
       "      <th>SO2</th>\n",
       "      <th>O3</th>\n",
       "      <th>NOx</th>\n",
       "      <th>NO2</th>\n",
       "      <th>NO</th>\n",
       "      <th>CO</th>\n",
       "      <th>气压</th>\n",
       "      <th>大气湿度</th>\n",
       "      <th>大气温度</th>\n",
       "      <th>风速</th>\n",
       "      <th>serious</th>\n",
       "    </tr>\n",
       "  </thead>\n",
       "  <tbody>\n",
       "    <tr>\n",
       "      <th>0</th>\n",
       "      <td>2020-03-01 00:10:00</td>\n",
       "      <td>338.0</td>\n",
       "      <td>32.7</td>\n",
       "      <td>23.4</td>\n",
       "      <td>25.0</td>\n",
       "      <td>31.35</td>\n",
       "      <td>3.74</td>\n",
       "      <td>38.23</td>\n",
       "      <td>28.54</td>\n",
       "      <td>27.04</td>\n",
       "      <td>0.98</td>\n",
       "      <td>0.76</td>\n",
       "      <td>1015.2</td>\n",
       "      <td>91.0</td>\n",
       "      <td>9.3</td>\n",
       "      <td>1.4</td>\n",
       "      <td>0</td>\n",
       "    </tr>\n",
       "  </tbody>\n",
       "</table>\n",
       "</div>"
      ],
      "text/plain": [
       "                 t_ob     风向  PM10  PM2.5  室内温度   室内湿度   SO2     O3    NOx  \\\n",
       "0 2020-03-01 00:10:00  338.0  32.7   23.4  25.0  31.35  3.74  38.23  28.54   \n",
       "\n",
       "     NO2    NO    CO      气压  大气湿度  大气温度   风速  serious  \n",
       "0  27.04  0.98  0.76  1015.2  91.0   9.3  1.4        0  "
      ]
     },
     "execution_count": 34,
     "metadata": {},
     "output_type": "execute_result"
    }
   ],
   "source": [
    "data[data['serious']==0].head(1)"
   ]
  },
  {
   "cell_type": "code",
   "execution_count": 32,
   "id": "attached-structure",
   "metadata": {},
   "outputs": [],
   "source": [
    "# 保存文件\n",
    "data.to_csv('data-for-practice/balanced-classification-data.csv',encoding='utf-8')"
   ]
  }
 ],
 "metadata": {
  "kernelspec": {
   "display_name": "sds2020",
   "language": "python",
   "name": "sds2020"
  },
  "language_info": {
   "codemirror_mode": {
    "name": "ipython",
    "version": 3
   },
   "file_extension": ".py",
   "mimetype": "text/x-python",
   "name": "python",
   "nbconvert_exporter": "python",
   "pygments_lexer": "ipython3",
   "version": "3.8.8"
  }
 },
 "nbformat": 4,
 "nbformat_minor": 5
}
