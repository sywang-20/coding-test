{
 "cells": [
  {
   "cell_type": "code",
   "execution_count": 108,
   "id": "permanent-snake",
   "metadata": {},
   "outputs": [],
   "source": [
    "import os, sys \n",
    "import pandas as pd\n",
    "import pickle as pk\n",
    "from pathlib2 import Path\n",
    "from evaluate import autoGrader\n",
    "import matplotlib.pyplot as plt\n",
    "import seaborn as sns\n",
    "import numpy as np\n",
    "#import dataframe as df\n",
    "#pip install pathlib2\n",
    "\n",
    "fd = Path(os.getcwd())\n",
    "fd_data = fd/'data'"
   ]
  },
  {
   "cell_type": "markdown",
   "id": "pleased-straight",
   "metadata": {},
   "source": [
    "### get the data"
   ]
  },
  {
   "cell_type": "code",
   "execution_count": 109,
   "id": "dying-spice",
   "metadata": {},
   "outputs": [],
   "source": [
    "# load training data\n",
    "d_train = pd.read_csv(fd_data/'training_data.csv',parse_dates = ['t_ob'])  #parse_dates: parse as date，自动改为时间，不需要再用pd.to_datetime转换\n",
    "# load features for closed test data\n",
    "X_ind_test = pd.read_csv(fd_data/'closed_test_X.csv', parse_dates = ['t_ob'])"
   ]
  },
  {
   "cell_type": "code",
   "execution_count": 110,
   "id": "undefined-strategy",
   "metadata": {},
   "outputs": [],
   "source": [
    "from datetime import datetime, date\n",
    "time_original = '2020-03-01 00:00:00'\n",
    "time_original_1 = datetime.strptime(time_original,\"%Y-%m-%d %H:%M:%S\")\n",
    "d_train['time'] = d_train['t_ob']-time_original_1 \n",
    "d_train['duration']=d_train['time'].astype('timedelta64[s]')/60\n",
    "\n",
    "X_ind_test['time'] = X_ind_test['t_ob']-time_original_1\n",
    "X_ind_test['duration']=X_ind_test['time'].astype('timedelta64[s]')/60"
   ]
  },
  {
   "cell_type": "code",
   "execution_count": 2,
   "id": "middle-latino",
   "metadata": {},
   "outputs": [],
   "source": [
    "# 不考虑时间，把每个时刻的数据作为一组(x,y)，直接去掉t_ob这一列\n",
    "#d_train=d_train.drop('t_ob',axis=1)\n",
    "#X_ind_test=X_ind_test.drop('t_ob',axis=1)"
   ]
  },
  {
   "cell_type": "markdown",
   "id": "faced-release",
   "metadata": {},
   "source": [
    "### train_test split"
   ]
  },
  {
   "cell_type": "code",
   "execution_count": 111,
   "id": "unnecessary-legend",
   "metadata": {},
   "outputs": [],
   "source": [
    "# create X and Y and run the basic regression model\n",
    "y = d_train['PM2.5']  # y:PM2.5 \n",
    "X= d_train.drop(['PM2.5','t_ob','time'], axis=1)  #x:other variable\n",
    "\n",
    "# split the dataset in training set and test set\n",
    "from sklearn.model_selection import train_test_split\n",
    "# training set 80%, testing set 20%\n",
    "X_train, X_test, y_train, y_test = train_test_split(X, y, test_size=0.2, random_state=1) "
   ]
  },
  {
   "cell_type": "markdown",
   "id": "intended-finish",
   "metadata": {},
   "source": [
    "### data standardization"
   ]
  },
  {
   "cell_type": "code",
   "execution_count": 112,
   "id": "amber-arrest",
   "metadata": {},
   "outputs": [
    {
     "data": {
      "text/html": [
       "<div>\n",
       "<style scoped>\n",
       "    .dataframe tbody tr th:only-of-type {\n",
       "        vertical-align: middle;\n",
       "    }\n",
       "\n",
       "    .dataframe tbody tr th {\n",
       "        vertical-align: top;\n",
       "    }\n",
       "\n",
       "    .dataframe thead th {\n",
       "        text-align: right;\n",
       "    }\n",
       "</style>\n",
       "<table border=\"1\" class=\"dataframe\">\n",
       "  <thead>\n",
       "    <tr style=\"text-align: right;\">\n",
       "      <th></th>\n",
       "      <th>风向</th>\n",
       "      <th>PM10</th>\n",
       "      <th>室内温度</th>\n",
       "      <th>室内湿度</th>\n",
       "      <th>SO2</th>\n",
       "      <th>O3</th>\n",
       "      <th>NOx</th>\n",
       "      <th>NO2</th>\n",
       "      <th>NO</th>\n",
       "      <th>CO</th>\n",
       "      <th>气压</th>\n",
       "      <th>大气湿度</th>\n",
       "      <th>大气温度</th>\n",
       "      <th>风速</th>\n",
       "      <th>duration</th>\n",
       "    </tr>\n",
       "  </thead>\n",
       "  <tbody>\n",
       "    <tr>\n",
       "      <th>3283</th>\n",
       "      <td>66.666667</td>\n",
       "      <td>35.483333</td>\n",
       "      <td>27.918333</td>\n",
       "      <td>19.231667</td>\n",
       "      <td>6.698333</td>\n",
       "      <td>78.585000</td>\n",
       "      <td>38.89</td>\n",
       "      <td>37.710</td>\n",
       "      <td>0.768333</td>\n",
       "      <td>0.486667</td>\n",
       "      <td>1016.316667</td>\n",
       "      <td>36.950000</td>\n",
       "      <td>15.316667</td>\n",
       "      <td>3.483333</td>\n",
       "      <td>32890.0</td>\n",
       "    </tr>\n",
       "    <tr>\n",
       "      <th>4126</th>\n",
       "      <td>17.166667</td>\n",
       "      <td>38.950000</td>\n",
       "      <td>24.685000</td>\n",
       "      <td>32.845000</td>\n",
       "      <td>4.456667</td>\n",
       "      <td>40.253333</td>\n",
       "      <td>48.55</td>\n",
       "      <td>40.535</td>\n",
       "      <td>5.228333</td>\n",
       "      <td>0.978333</td>\n",
       "      <td>1017.066667</td>\n",
       "      <td>92.583333</td>\n",
       "      <td>9.150000</td>\n",
       "      <td>1.400000</td>\n",
       "      <td>42410.0</td>\n",
       "    </tr>\n",
       "  </tbody>\n",
       "</table>\n",
       "</div>"
      ],
      "text/plain": [
       "             风向       PM10       室内温度       室内湿度       SO2         O3    NOx  \\\n",
       "3283  66.666667  35.483333  27.918333  19.231667  6.698333  78.585000  38.89   \n",
       "4126  17.166667  38.950000  24.685000  32.845000  4.456667  40.253333  48.55   \n",
       "\n",
       "         NO2        NO        CO           气压       大气湿度       大气温度        风速  \\\n",
       "3283  37.710  0.768333  0.486667  1016.316667  36.950000  15.316667  3.483333   \n",
       "4126  40.535  5.228333  0.978333  1017.066667  92.583333   9.150000  1.400000   \n",
       "\n",
       "      duration  \n",
       "3283   32890.0  \n",
       "4126   42410.0  "
      ]
     },
     "execution_count": 112,
     "metadata": {},
     "output_type": "execute_result"
    }
   ],
   "source": [
    "X_train.head(2)"
   ]
  },
  {
   "cell_type": "code",
   "execution_count": 113,
   "id": "purple-cherry",
   "metadata": {},
   "outputs": [
    {
     "data": {
      "text/plain": [
       "Index(['风向', 'PM10', '室内温度', '室内湿度', 'SO2', 'O3', 'NOx', 'NO2', 'NO', 'CO',\n",
       "       '气压', '大气湿度', '大气温度', '风速', 'duration'],\n",
       "      dtype='object')"
      ]
     },
     "execution_count": 113,
     "metadata": {},
     "output_type": "execute_result"
    }
   ],
   "source": [
    "X_train.columns"
   ]
  },
  {
   "cell_type": "code",
   "execution_count": 114,
   "id": "premier-vector",
   "metadata": {},
   "outputs": [],
   "source": [
    "# 计算均值和方差，用于之后的标准化\n",
    "training_mean = np.mean(X_train,axis=0)\n",
    "training_std=np.std(X_train,axis=0)"
   ]
  },
  {
   "cell_type": "code",
   "execution_count": 115,
   "id": "banned-motel",
   "metadata": {},
   "outputs": [
    {
     "name": "stderr",
     "output_type": "stream",
     "text": [
      "<ipython-input-115-e6fe28e2c03e>:5: SettingWithCopyWarning: \n",
      "A value is trying to be set on a copy of a slice from a DataFrame.\n",
      "Try using .loc[row_indexer,col_indexer] = value instead\n",
      "\n",
      "See the caveats in the documentation: https://pandas.pydata.org/pandas-docs/stable/user_guide/indexing.html#returning-a-view-versus-a-copy\n",
      "  X_train[i]=(X_train[i]-training_mean[i])/training_std[i]\n",
      "<ipython-input-115-e6fe28e2c03e>:8: SettingWithCopyWarning: \n",
      "A value is trying to be set on a copy of a slice from a DataFrame.\n",
      "Try using .loc[row_indexer,col_indexer] = value instead\n",
      "\n",
      "See the caveats in the documentation: https://pandas.pydata.org/pandas-docs/stable/user_guide/indexing.html#returning-a-view-versus-a-copy\n",
      "  X_test[i]=(X_test[i]-training_mean[i])/training_std[i]\n"
     ]
    }
   ],
   "source": [
    "data_columns=['风向', 'PM10', '室内温度', '室内湿度', 'SO2', 'O3', 'NOx', 'NO2', 'NO',\n",
    "       'CO', '气压', '大气湿度', '大气温度', '风速', 'duration']\n",
    "# 标准化training data\n",
    "for i in data_columns:\n",
    "    X_train[i]=(X_train[i]-training_mean[i])/training_std[i]\n",
    "# 标准化test data\n",
    "for i in data_columns:\n",
    "    X_test[i]=(X_test[i]-training_mean[i])/training_std[i]"
   ]
  },
  {
   "cell_type": "markdown",
   "id": "checked-inquiry",
   "metadata": {},
   "source": [
    "### knn"
   ]
  },
  {
   "cell_type": "code",
   "execution_count": 116,
   "id": "delayed-replacement",
   "metadata": {},
   "outputs": [],
   "source": [
    "# 1. import the model\n",
    "from sklearn.neighbors import KNeighborsRegressor\n",
    "\n",
    "# 2. initialize the model\n",
    "# n_neighbors: hyperparameter k\n",
    "knn = KNeighborsRegressor(n_neighbors=10)\n",
    "\n",
    "# 3. fit the model to the training set\n",
    "knn_model=knn.fit(X_train,y_train)"
   ]
  },
  {
   "cell_type": "code",
   "execution_count": 117,
   "id": "hidden-settlement",
   "metadata": {
    "scrolled": true
   },
   "outputs": [
    {
     "data": {
      "text/plain": [
       "0.9849304031106163"
      ]
     },
     "execution_count": 117,
     "metadata": {},
     "output_type": "execute_result"
    }
   ],
   "source": [
    "# 4. evaluate the model performance\n",
    "knn.score(X_train,y_train)"
   ]
  },
  {
   "cell_type": "code",
   "execution_count": 26,
   "id": "adequate-celebration",
   "metadata": {},
   "outputs": [],
   "source": [
    "predictions=knn.predict(X_train)\n",
    "predicted = pd.DataFrame(list(predictions))"
   ]
  },
  {
   "cell_type": "code",
   "execution_count": 27,
   "id": "accessible-record",
   "metadata": {},
   "outputs": [
    {
     "data": {
      "text/html": [
       "<div>\n",
       "<style scoped>\n",
       "    .dataframe tbody tr th:only-of-type {\n",
       "        vertical-align: middle;\n",
       "    }\n",
       "\n",
       "    .dataframe tbody tr th {\n",
       "        vertical-align: top;\n",
       "    }\n",
       "\n",
       "    .dataframe thead th {\n",
       "        text-align: right;\n",
       "    }\n",
       "</style>\n",
       "<table border=\"1\" class=\"dataframe\">\n",
       "  <thead>\n",
       "    <tr style=\"text-align: right;\">\n",
       "      <th></th>\n",
       "      <th>0</th>\n",
       "    </tr>\n",
       "  </thead>\n",
       "  <tbody>\n",
       "    <tr>\n",
       "      <th>0</th>\n",
       "      <td>14.010000</td>\n",
       "    </tr>\n",
       "    <tr>\n",
       "      <th>1</th>\n",
       "      <td>29.531667</td>\n",
       "    </tr>\n",
       "    <tr>\n",
       "      <th>2</th>\n",
       "      <td>62.775000</td>\n",
       "    </tr>\n",
       "    <tr>\n",
       "      <th>3</th>\n",
       "      <td>31.483333</td>\n",
       "    </tr>\n",
       "    <tr>\n",
       "      <th>4</th>\n",
       "      <td>18.070000</td>\n",
       "    </tr>\n",
       "    <tr>\n",
       "      <th>...</th>\n",
       "      <td>...</td>\n",
       "    </tr>\n",
       "    <tr>\n",
       "      <th>9144</th>\n",
       "      <td>38.215000</td>\n",
       "    </tr>\n",
       "    <tr>\n",
       "      <th>9145</th>\n",
       "      <td>46.451667</td>\n",
       "    </tr>\n",
       "    <tr>\n",
       "      <th>9146</th>\n",
       "      <td>62.160000</td>\n",
       "    </tr>\n",
       "    <tr>\n",
       "      <th>9147</th>\n",
       "      <td>23.168333</td>\n",
       "    </tr>\n",
       "    <tr>\n",
       "      <th>9148</th>\n",
       "      <td>22.296667</td>\n",
       "    </tr>\n",
       "  </tbody>\n",
       "</table>\n",
       "<p>9149 rows × 1 columns</p>\n",
       "</div>"
      ],
      "text/plain": [
       "              0\n",
       "0     14.010000\n",
       "1     29.531667\n",
       "2     62.775000\n",
       "3     31.483333\n",
       "4     18.070000\n",
       "...         ...\n",
       "9144  38.215000\n",
       "9145  46.451667\n",
       "9146  62.160000\n",
       "9147  23.168333\n",
       "9148  22.296667\n",
       "\n",
       "[9149 rows x 1 columns]"
      ]
     },
     "execution_count": 27,
     "metadata": {},
     "output_type": "execute_result"
    }
   ],
   "source": [
    "predicted"
   ]
  },
  {
   "cell_type": "markdown",
   "id": "disturbed-roberts",
   "metadata": {},
   "source": [
    "### choose the optimal k"
   ]
  },
  {
   "cell_type": "code",
   "execution_count": 48,
   "id": "medical-flavor",
   "metadata": {},
   "outputs": [
    {
     "name": "stdout",
     "output_type": "stream",
     "text": [
      "The best parameter value is: \n",
      "{'n_neighbors': 2}\n",
      "The best score is: \n",
      "0.9933128195390057\n"
     ]
    }
   ],
   "source": [
    "import time\n",
    "from sklearn import model_selection\n",
    "start_cv=time.time()\n",
    "# values of k\n",
    "parameters = {'n_neighbors':[i for i in range(1,30)]}\n",
    "\n",
    "# initialize the knn model\n",
    "knn = KNeighborsRegressor()\n",
    "\n",
    "# Exhaustive search over specified parameter values for an estimator\n",
    "clf = model_selection.GridSearchCV(knn, parameters)\n",
    "\n",
    "# fit the model on the training set\n",
    "clf.fit(X_train, y_train)\n",
    "\n",
    "# we can query the best parameter value and its accuracy score\n",
    "print (\"The best parameter value is: \")\n",
    "print (clf.best_params_)\n",
    "print (\"The best score is: \")\n",
    "print (clf.best_score_)\n",
    "end_cv=time.time()"
   ]
  },
  {
   "cell_type": "code",
   "execution_count": 118,
   "id": "differential-mystery",
   "metadata": {},
   "outputs": [],
   "source": [
    "# get the final model\n",
    "knn_final = KNeighborsRegressor(n_neighbors = clf.best_params_['n_neighbors']) #把通过上面测试得到的最优值"
   ]
  },
  {
   "cell_type": "code",
   "execution_count": 120,
   "id": "suffering-shooting",
   "metadata": {},
   "outputs": [
    {
     "data": {
      "text/plain": [
       "0.9984979442621738"
      ]
     },
     "execution_count": 120,
     "metadata": {},
     "output_type": "execute_result"
    }
   ],
   "source": [
    "# train the final model\n",
    "knn_final.fit(X_train, y_train)\n",
    "knn_final.score(X_train,y_train)"
   ]
  },
  {
   "cell_type": "code",
   "execution_count": 121,
   "id": "expanded-insight",
   "metadata": {},
   "outputs": [
    {
     "data": {
      "text/plain": [
       "0.996615948700408"
      ]
     },
     "execution_count": 121,
     "metadata": {},
     "output_type": "execute_result"
    }
   ],
   "source": [
    "# evaluate the model using test dataset\n",
    "knn_final.score(X_test,y_test)"
   ]
  },
  {
   "cell_type": "markdown",
   "id": "after-actor",
   "metadata": {},
   "source": [
    "### use the final model for prediction"
   ]
  },
  {
   "cell_type": "code",
   "execution_count": 122,
   "id": "loose-piece",
   "metadata": {},
   "outputs": [
    {
     "data": {
      "text/html": [
       "<div>\n",
       "<style scoped>\n",
       "    .dataframe tbody tr th:only-of-type {\n",
       "        vertical-align: middle;\n",
       "    }\n",
       "\n",
       "    .dataframe tbody tr th {\n",
       "        vertical-align: top;\n",
       "    }\n",
       "\n",
       "    .dataframe thead th {\n",
       "        text-align: right;\n",
       "    }\n",
       "</style>\n",
       "<table border=\"1\" class=\"dataframe\">\n",
       "  <thead>\n",
       "    <tr style=\"text-align: right;\">\n",
       "      <th></th>\n",
       "      <th>风向</th>\n",
       "      <th>PM10</th>\n",
       "      <th>室内温度</th>\n",
       "      <th>室内湿度</th>\n",
       "      <th>SO2</th>\n",
       "      <th>O3</th>\n",
       "      <th>NOx</th>\n",
       "      <th>NO2</th>\n",
       "      <th>NO</th>\n",
       "      <th>CO</th>\n",
       "      <th>气压</th>\n",
       "      <th>大气湿度</th>\n",
       "      <th>大气温度</th>\n",
       "      <th>风速</th>\n",
       "      <th>duration</th>\n",
       "    </tr>\n",
       "  </thead>\n",
       "  <tbody>\n",
       "    <tr>\n",
       "      <th>0</th>\n",
       "      <td>129.5</td>\n",
       "      <td>50.266667</td>\n",
       "      <td>26.851667</td>\n",
       "      <td>52.27</td>\n",
       "      <td>5.965</td>\n",
       "      <td>180.263333</td>\n",
       "      <td>7.696667</td>\n",
       "      <td>6.688333</td>\n",
       "      <td>0.656667</td>\n",
       "      <td>0.653333</td>\n",
       "      <td>1006.8</td>\n",
       "      <td>76.333333</td>\n",
       "      <td>24.916667</td>\n",
       "      <td>1.483333</td>\n",
       "      <td>132480.0</td>\n",
       "    </tr>\n",
       "  </tbody>\n",
       "</table>\n",
       "</div>"
      ],
      "text/plain": [
       "      风向       PM10       室内温度   室内湿度    SO2          O3       NOx       NO2  \\\n",
       "0  129.5  50.266667  26.851667  52.27  5.965  180.263333  7.696667  6.688333   \n",
       "\n",
       "         NO        CO      气压       大气湿度       大气温度        风速  duration  \n",
       "0  0.656667  0.653333  1006.8  76.333333  24.916667  1.483333  132480.0  "
      ]
     },
     "execution_count": 122,
     "metadata": {},
     "output_type": "execute_result"
    }
   ],
   "source": [
    "# x for prediction\n",
    "# training set和test set是标准化过的，用到新的数据集上怎么处理\n",
    "x_for_prediction=X_ind_test.drop(['t_ob','time'], axis=1) \n",
    "#x_for_prediction=X_ind_test.drop(['t_ob','time'], axis=1) \n",
    "x_for_prediction.head(1)"
   ]
  },
  {
   "cell_type": "code",
   "execution_count": 123,
   "id": "numerical-mauritius",
   "metadata": {},
   "outputs": [],
   "source": [
    "# 对其进行标准化处理\n",
    "for i in data_columns:\n",
    "    x_for_prediction[i]=(x_for_prediction[i]-training_mean[i])/training_std[i]"
   ]
  },
  {
   "cell_type": "code",
   "execution_count": 124,
   "id": "deadly-training",
   "metadata": {},
   "outputs": [],
   "source": [
    "X_ind_test['prediction'] = knn_final.predict(x_for_prediction)"
   ]
  },
  {
   "cell_type": "code",
   "execution_count": 125,
   "id": "musical-hierarchy",
   "metadata": {},
   "outputs": [],
   "source": [
    "result=X_ind_test[['t_ob','prediction']] #提取出需要的列\n",
    "result = result.rename(columns={ 'prediction': 'PM2.5'})  #修改列名\n",
    "result.to_csv('submission_knn.csv',index=False)  #保存文件"
   ]
  },
  {
   "cell_type": "code",
   "execution_count": 126,
   "id": "rational-westminster",
   "metadata": {},
   "outputs": [
    {
     "name": "stdout",
     "output_type": "stream",
     "text": [
      "[Enter] to confirm your submission file is placed at D:\\code_own\\CodingTest-SunyuWang\\to_players\\submission_knn.csv)\n",
      "\n",
      "Submission time: 2022-06-17 17:49:25.157007\n",
      " - RMSE: 10.325\n",
      " - R sq.: 0.278\n",
      " - Max. abs. residual: 32.450\n",
      " - Min. abs. residual: 0.008\n",
      " - Logging results. [Enter] to make sure 'submission_history.csv' is closed: \n",
      " - Notes for this submission: \n",
      " ! Results logged in 'submission_history.csv'.\n",
      " ! Submission file saved to '/old_submissions/submission_2022_06_17_17_49_25.csv'.\n",
      "Evaluation Successful. Press to quit...\n"
     ]
    }
   ],
   "source": [
    "autoGrader(fd/'submission_knn.csv')"
   ]
  },
  {
   "cell_type": "markdown",
   "id": "constitutional-watts",
   "metadata": {},
   "source": [
    "结果并不是很理想，虽然是用grid search找到的最优k，在test dataset上表现也不错，但是用于预测最终得到的结果很差\n",
    "\n",
    "R2只有0.278，感觉是overfit，因为前面k的取值也非常小，模型过于复杂\n",
    "\n",
    "利用validation curve看一看每个k对应的train score和test score，但似乎k=2是最优的"
   ]
  },
  {
   "cell_type": "code",
   "execution_count": 128,
   "id": "international-calendar",
   "metadata": {},
   "outputs": [
    {
     "data": {
      "image/png": "[encoded data removed]",
      "text/plain": [
       "<Figure size 1440x720 with 1 Axes>"
      ]
     },
     "metadata": {
      "needs_background": "light"
     },
     "output_type": "display_data"
    }
   ],
   "source": [
    "# A validation curve is used to evaluate an existing model based on hyper-parameters and is not used to tune a model. \n",
    "# This is because, if we tune the model according to the validation score, \n",
    "# the model may be biased towards the specific data against which the model is tuned; \n",
    "# thereby, not being a good estimate of the generalization of the model.\n",
    "\n",
    "# source: https://www.geeksforgeeks.org/validation-curve/\n",
    "# https://scikit-learn.org/stable/modules/learning_curve.html\n",
    "\n",
    "import numpy as np\n",
    "from sklearn.model_selection import validation_curve\n",
    "import matplotlib.pyplot as plt\n",
    "\n",
    "n_estimators_range = [i for i in range(1,50)]\n",
    "\n",
    "# validation_curve\n",
    "train_scores, valid_scores = validation_curve(estimator=KNeighborsRegressor(), \n",
    "                                              X=X_train, y=y_train, \n",
    "                                              param_name=\"n_neighbors\",\n",
    "                                              param_range=n_estimators_range,\n",
    "                                              cv=5)\n",
    "\n",
    "# plotting the validation curve\n",
    "train_scores_mean = np.mean(train_scores, axis=1)\n",
    "train_scores_std = np.std(train_scores, axis=1)\n",
    "valid_scores_mean = np.mean(valid_scores, axis=1)\n",
    "valid_scores_std = np.std(valid_scores, axis=1)\n",
    "\n",
    "\n",
    "plt.figure(figsize=(20,10))\n",
    "plt.title(\"Validation Curve with knn\")\n",
    "plt.xlabel(r\"number of neighbors\")\n",
    "plt.ylabel(\"Score\")\n",
    "plt.ylim(0.8, 1.0)\n",
    "lw = 2\n",
    "plt.semilogx(n_estimators_range, train_scores_mean, label=\"Training score\",\n",
    "             color=\"darkorange\", lw=lw)\n",
    "plt.fill_between(n_estimators_range, train_scores_mean - train_scores_std,\n",
    "                 train_scores_mean + train_scores_std, alpha=0.2,\n",
    "                 color=\"darkorange\", lw=lw)\n",
    "plt.semilogx(n_estimators_range, valid_scores_mean, label=\"Cross-validation score\",\n",
    "             color=\"navy\", lw=lw)\n",
    "plt.fill_between(n_estimators_range, valid_scores_mean - valid_scores_std,\n",
    "                 valid_scores_mean + valid_scores_std, alpha=0.2,\n",
    "                 color=\"navy\", lw=lw)\n",
    "plt.legend(loc=\"best\")\n",
    "plt.show()"
   ]
  },
  {
   "cell_type": "code",
   "execution_count": 83,
   "id": "bridal-breakfast",
   "metadata": {},
   "outputs": [],
   "source": [
    "train=pd.DataFrame(list(train_scores_mean))\n",
    "valid=pd.DataFrame(list(valid_scores_mean))\n",
    "result=pd.concat([train,valid],axis=1)\n",
    "result.columns=['train_score','test_score']\n",
    "result['delta']=result['train_score']-result['test_score']"
   ]
  }
 ],
 "metadata": {
  "kernelspec": {
   "display_name": "sds2020",
   "language": "python",
   "name": "sds2020"
  },
  "language_info": {
   "codemirror_mode": {
    "name": "ipython",
    "version": 3
   },
   "file_extension": ".py",
   "mimetype": "text/x-python",
   "name": "python",
   "nbconvert_exporter": "python",
   "pygments_lexer": "ipython3",
   "version": "3.8.8"
  }
 },
 "nbformat": 4,
 "nbformat_minor": 5
}
