{
 "cells": [
  {
   "cell_type": "code",
   "execution_count": 1,
   "metadata": {},
   "outputs": [],
   "source": [
    "import os, sys \n",
    "import pandas as pd\n",
    "import pickle as pk\n",
    "from pathlib2 import Path\n",
    "from evaluate import autoGrader\n",
    "import matplotlib.pyplot as plt\n",
    "import seaborn as sns\n",
    "import numpy as np\n",
    "#import dataframe as df\n",
    "#pip install pathlib2\n",
    "\n",
    "fd = Path(os.getcwd())\n",
    "fd_data = fd/'data'"
   ]
  },
  {
   "cell_type": "markdown",
   "metadata": {},
   "source": [
    "# Step 1: getting the data\n",
    "*load training data*"
   ]
  },
  {
   "cell_type": "code",
   "execution_count": 3,
   "metadata": {},
   "outputs": [
    {
     "data": {
      "text/html": [
       "<div>\n",
       "<style scoped>\n",
       "    .dataframe tbody tr th:only-of-type {\n",
       "        vertical-align: middle;\n",
       "    }\n",
       "\n",
       "    .dataframe tbody tr th {\n",
       "        vertical-align: top;\n",
       "    }\n",
       "\n",
       "    .dataframe thead th {\n",
       "        text-align: right;\n",
       "    }\n",
       "</style>\n",
       "<table border=\"1\" class=\"dataframe\">\n",
       "  <thead>\n",
       "    <tr style=\"text-align: right;\">\n",
       "      <th></th>\n",
       "      <th>t_ob</th>\n",
       "      <th>风向</th>\n",
       "      <th>PM10</th>\n",
       "      <th>PM2.5</th>\n",
       "      <th>室内温度</th>\n",
       "      <th>室内湿度</th>\n",
       "      <th>SO2</th>\n",
       "      <th>O3</th>\n",
       "      <th>NOx</th>\n",
       "      <th>NO2</th>\n",
       "      <th>NO</th>\n",
       "      <th>CO</th>\n",
       "      <th>气压</th>\n",
       "      <th>大气湿度</th>\n",
       "      <th>大气温度</th>\n",
       "      <th>风速</th>\n",
       "    </tr>\n",
       "  </thead>\n",
       "  <tbody>\n",
       "    <tr>\n",
       "      <th>0</th>\n",
       "      <td>2020-03-01 00:10:00</td>\n",
       "      <td>338.0</td>\n",
       "      <td>32.7</td>\n",
       "      <td>23.4</td>\n",
       "      <td>25.0</td>\n",
       "      <td>31.35</td>\n",
       "      <td>3.74</td>\n",
       "      <td>38.23</td>\n",
       "      <td>28.54</td>\n",
       "      <td>27.04</td>\n",
       "      <td>0.98</td>\n",
       "      <td>0.76</td>\n",
       "      <td>1015.2</td>\n",
       "      <td>91.0</td>\n",
       "      <td>9.3</td>\n",
       "      <td>1.4</td>\n",
       "    </tr>\n",
       "  </tbody>\n",
       "</table>\n",
       "</div>"
      ],
      "text/plain": [
       "                 t_ob     风向  PM10  PM2.5  室内温度   室内湿度   SO2     O3    NOx  \\\n",
       "0 2020-03-01 00:10:00  338.0  32.7   23.4  25.0  31.35  3.74  38.23  28.54   \n",
       "\n",
       "     NO2    NO    CO      气压  大气湿度  大气温度   风速  \n",
       "0  27.04  0.98  0.76  1015.2  91.0   9.3  1.4  "
      ]
     },
     "execution_count": 3,
     "metadata": {},
     "output_type": "execute_result"
    }
   ],
   "source": [
    "d_train = pd.read_csv(fd_data/'training_data.csv',parse_dates = ['t_ob'])  #parse_dates: parse as date，自动改为时间，不需要再用pd.to_datetime转换\n",
    "d_train.head(1)"
   ]
  },
  {
   "cell_type": "code",
   "execution_count": 4,
   "metadata": {},
   "outputs": [
    {
     "name": "stdout",
     "output_type": "stream",
     "text": [
      "<class 'pandas.core.frame.DataFrame'>\n",
      "RangeIndex: 11437 entries, 0 to 11436\n",
      "Data columns (total 16 columns):\n",
      " #   Column  Non-Null Count  Dtype         \n",
      "---  ------  --------------  -----         \n",
      " 0   t_ob    11437 non-null  datetime64[ns]\n",
      " 1   风向      11437 non-null  float64       \n",
      " 2   PM10    11437 non-null  float64       \n",
      " 3   PM2.5   11437 non-null  float64       \n",
      " 4   室内温度    11437 non-null  float64       \n",
      " 5   室内湿度    11437 non-null  float64       \n",
      " 6   SO2     11437 non-null  float64       \n",
      " 7   O3      11437 non-null  float64       \n",
      " 8   NOx     11437 non-null  float64       \n",
      " 9   NO2     11437 non-null  float64       \n",
      " 10  NO      11437 non-null  float64       \n",
      " 11  CO      11437 non-null  float64       \n",
      " 12  气压      11437 non-null  float64       \n",
      " 13  大气湿度    11437 non-null  float64       \n",
      " 14  大气温度    11437 non-null  float64       \n",
      " 15  风速      11437 non-null  float64       \n",
      "dtypes: datetime64[ns](1), float64(15)\n",
      "memory usage: 1.4 MB\n"
     ]
    }
   ],
   "source": [
    "# 检查数据，很干净，没有缺失，不需要额外清洗\n",
    "d_train.info()"
   ]
  },
  {
   "cell_type": "code",
   "execution_count": 20,
   "metadata": {},
   "outputs": [],
   "source": [
    "#import matplotlib.pyplot as plt\n",
    "#x=d_train['t_ob']\n",
    "#y=d_train['PM2.5']\n",
    "#plt.plot(x,y)"
   ]
  },
  {
   "cell_type": "code",
   "execution_count": 4,
   "metadata": {},
   "outputs": [],
   "source": [
    "# Convert the time 't_ob' to the time since 2020-03-01 00:00:00\n",
    "# This variable was used to take account of the trend over time\n",
    "from datetime import datetime, date\n",
    "time_original = '2020-03-01 00:00:00'\n",
    "time_original_1 = datetime.strptime(time_original,\"%Y-%m-%d %H:%M:%S\")\n",
    "d_train['time'] = d_train['t_ob']-time_original_1 \n",
    "d_train['duration']=d_train['time'].astype('timedelta64[s]')/60"
   ]
  },
  {
   "cell_type": "code",
   "execution_count": 6,
   "metadata": {},
   "outputs": [
    {
     "data": {
      "text/html": [
       "<div>\n",
       "<style scoped>\n",
       "    .dataframe tbody tr th:only-of-type {\n",
       "        vertical-align: middle;\n",
       "    }\n",
       "\n",
       "    .dataframe tbody tr th {\n",
       "        vertical-align: top;\n",
       "    }\n",
       "\n",
       "    .dataframe thead th {\n",
       "        text-align: right;\n",
       "    }\n",
       "</style>\n",
       "<table border=\"1\" class=\"dataframe\">\n",
       "  <thead>\n",
       "    <tr style=\"text-align: right;\">\n",
       "      <th></th>\n",
       "      <th>t_ob</th>\n",
       "      <th>风向</th>\n",
       "      <th>PM10</th>\n",
       "      <th>PM2.5</th>\n",
       "      <th>室内温度</th>\n",
       "      <th>室内湿度</th>\n",
       "      <th>SO2</th>\n",
       "      <th>O3</th>\n",
       "      <th>NOx</th>\n",
       "      <th>NO2</th>\n",
       "      <th>NO</th>\n",
       "      <th>CO</th>\n",
       "      <th>气压</th>\n",
       "      <th>大气湿度</th>\n",
       "      <th>大气温度</th>\n",
       "      <th>风速</th>\n",
       "      <th>time</th>\n",
       "      <th>duration</th>\n",
       "    </tr>\n",
       "  </thead>\n",
       "  <tbody>\n",
       "    <tr>\n",
       "      <th>0</th>\n",
       "      <td>2020-03-01 00:10:00</td>\n",
       "      <td>338.0</td>\n",
       "      <td>32.7</td>\n",
       "      <td>23.4</td>\n",
       "      <td>25.0</td>\n",
       "      <td>31.35</td>\n",
       "      <td>3.74</td>\n",
       "      <td>38.23</td>\n",
       "      <td>28.54</td>\n",
       "      <td>27.04</td>\n",
       "      <td>0.98</td>\n",
       "      <td>0.76</td>\n",
       "      <td>1015.2</td>\n",
       "      <td>91.0</td>\n",
       "      <td>9.3</td>\n",
       "      <td>1.4</td>\n",
       "      <td>0 days 00:10:00</td>\n",
       "      <td>10.0</td>\n",
       "    </tr>\n",
       "  </tbody>\n",
       "</table>\n",
       "</div>"
      ],
      "text/plain": [
       "                 t_ob     风向  PM10  PM2.5  室内温度   室内湿度   SO2     O3    NOx  \\\n",
       "0 2020-03-01 00:10:00  338.0  32.7   23.4  25.0  31.35  3.74  38.23  28.54   \n",
       "\n",
       "     NO2    NO    CO      气压  大气湿度  大气温度   风速            time  duration  \n",
       "0  27.04  0.98  0.76  1015.2  91.0   9.3  1.4 0 days 00:10:00      10.0  "
      ]
     },
     "execution_count": 6,
     "metadata": {},
     "output_type": "execute_result"
    }
   ],
   "source": [
    "d_train.head(1)"
   ]
  },
  {
   "cell_type": "code",
   "execution_count": 24,
   "metadata": {
    "collapsed": true
   },
   "outputs": [
    {
     "data": {
      "text/html": [
       "<div>\n",
       "<style scoped>\n",
       "    .dataframe tbody tr th:only-of-type {\n",
       "        vertical-align: middle;\n",
       "    }\n",
       "\n",
       "    .dataframe tbody tr th {\n",
       "        vertical-align: top;\n",
       "    }\n",
       "\n",
       "    .dataframe thead th {\n",
       "        text-align: right;\n",
       "    }\n",
       "</style>\n",
       "<table border=\"1\" class=\"dataframe\">\n",
       "  <thead>\n",
       "    <tr style=\"text-align: right;\">\n",
       "      <th></th>\n",
       "      <th>风向</th>\n",
       "      <th>PM10</th>\n",
       "      <th>PM2.5</th>\n",
       "      <th>室内温度</th>\n",
       "      <th>室内湿度</th>\n",
       "      <th>SO2</th>\n",
       "      <th>O3</th>\n",
       "      <th>NOx</th>\n",
       "      <th>NO2</th>\n",
       "      <th>NO</th>\n",
       "      <th>CO</th>\n",
       "      <th>气压</th>\n",
       "      <th>大气湿度</th>\n",
       "      <th>大气温度</th>\n",
       "      <th>风速</th>\n",
       "      <th>duration</th>\n",
       "    </tr>\n",
       "  </thead>\n",
       "  <tbody>\n",
       "    <tr>\n",
       "      <th>风向</th>\n",
       "      <td>1.000000</td>\n",
       "      <td>0.006869</td>\n",
       "      <td>0.025860</td>\n",
       "      <td>-0.087779</td>\n",
       "      <td>0.108137</td>\n",
       "      <td>0.138783</td>\n",
       "      <td>0.098514</td>\n",
       "      <td>-0.043319</td>\n",
       "      <td>-0.076065</td>\n",
       "      <td>0.088882</td>\n",
       "      <td>0.198285</td>\n",
       "      <td>-0.226646</td>\n",
       "      <td>-0.047083</td>\n",
       "      <td>0.150992</td>\n",
       "      <td>0.087857</td>\n",
       "      <td>0.061140</td>\n",
       "    </tr>\n",
       "    <tr>\n",
       "      <th>PM10</th>\n",
       "      <td>0.006869</td>\n",
       "      <td>1.000000</td>\n",
       "      <td>0.828606</td>\n",
       "      <td>0.138276</td>\n",
       "      <td>-0.163246</td>\n",
       "      <td>0.527362</td>\n",
       "      <td>0.057018</td>\n",
       "      <td>0.436437</td>\n",
       "      <td>0.470015</td>\n",
       "      <td>0.127349</td>\n",
       "      <td>0.392112</td>\n",
       "      <td>-0.002375</td>\n",
       "      <td>-0.250987</td>\n",
       "      <td>0.134616</td>\n",
       "      <td>-0.086153</td>\n",
       "      <td>0.047587</td>\n",
       "    </tr>\n",
       "    <tr>\n",
       "      <th>PM2.5</th>\n",
       "      <td>0.025860</td>\n",
       "      <td>0.828606</td>\n",
       "      <td>1.000000</td>\n",
       "      <td>0.065903</td>\n",
       "      <td>0.051086</td>\n",
       "      <td>0.406424</td>\n",
       "      <td>-0.059772</td>\n",
       "      <td>0.423575</td>\n",
       "      <td>0.443626</td>\n",
       "      <td>0.166886</td>\n",
       "      <td>0.546273</td>\n",
       "      <td>0.003758</td>\n",
       "      <td>0.074167</td>\n",
       "      <td>0.015691</td>\n",
       "      <td>-0.223474</td>\n",
       "      <td>-0.037758</td>\n",
       "    </tr>\n",
       "    <tr>\n",
       "      <th>室内温度</th>\n",
       "      <td>-0.087779</td>\n",
       "      <td>0.138276</td>\n",
       "      <td>0.065903</td>\n",
       "      <td>1.000000</td>\n",
       "      <td>0.213570</td>\n",
       "      <td>0.265436</td>\n",
       "      <td>0.100132</td>\n",
       "      <td>0.186924</td>\n",
       "      <td>0.227100</td>\n",
       "      <td>-0.034484</td>\n",
       "      <td>-0.038728</td>\n",
       "      <td>-0.437545</td>\n",
       "      <td>-0.077902</td>\n",
       "      <td>0.468843</td>\n",
       "      <td>-0.049331</td>\n",
       "      <td>0.457950</td>\n",
       "    </tr>\n",
       "    <tr>\n",
       "      <th>室内湿度</th>\n",
       "      <td>0.108137</td>\n",
       "      <td>-0.163246</td>\n",
       "      <td>0.051086</td>\n",
       "      <td>0.213570</td>\n",
       "      <td>1.000000</td>\n",
       "      <td>-0.070110</td>\n",
       "      <td>0.042318</td>\n",
       "      <td>-0.081266</td>\n",
       "      <td>-0.100437</td>\n",
       "      <td>0.020884</td>\n",
       "      <td>0.314790</td>\n",
       "      <td>-0.700927</td>\n",
       "      <td>0.501949</td>\n",
       "      <td>0.522099</td>\n",
       "      <td>-0.025879</td>\n",
       "      <td>0.594780</td>\n",
       "    </tr>\n",
       "    <tr>\n",
       "      <th>SO2</th>\n",
       "      <td>0.138783</td>\n",
       "      <td>0.527362</td>\n",
       "      <td>0.406424</td>\n",
       "      <td>0.265436</td>\n",
       "      <td>-0.070110</td>\n",
       "      <td>1.000000</td>\n",
       "      <td>0.126625</td>\n",
       "      <td>0.420186</td>\n",
       "      <td>0.429361</td>\n",
       "      <td>0.202512</td>\n",
       "      <td>0.339423</td>\n",
       "      <td>-0.154747</td>\n",
       "      <td>-0.371687</td>\n",
       "      <td>0.326764</td>\n",
       "      <td>0.006135</td>\n",
       "      <td>0.204087</td>\n",
       "    </tr>\n",
       "    <tr>\n",
       "      <th>O3</th>\n",
       "      <td>0.098514</td>\n",
       "      <td>0.057018</td>\n",
       "      <td>-0.059772</td>\n",
       "      <td>0.100132</td>\n",
       "      <td>0.042318</td>\n",
       "      <td>0.126625</td>\n",
       "      <td>1.000000</td>\n",
       "      <td>-0.470714</td>\n",
       "      <td>-0.469510</td>\n",
       "      <td>-0.266523</td>\n",
       "      <td>-0.175111</td>\n",
       "      <td>-0.337163</td>\n",
       "      <td>-0.601084</td>\n",
       "      <td>0.642521</td>\n",
       "      <td>0.325676</td>\n",
       "      <td>0.375715</td>\n",
       "    </tr>\n",
       "    <tr>\n",
       "      <th>NOx</th>\n",
       "      <td>-0.043319</td>\n",
       "      <td>0.436437</td>\n",
       "      <td>0.423575</td>\n",
       "      <td>0.186924</td>\n",
       "      <td>-0.081266</td>\n",
       "      <td>0.420186</td>\n",
       "      <td>-0.470714</td>\n",
       "      <td>1.000000</td>\n",
       "      <td>0.975084</td>\n",
       "      <td>0.643328</td>\n",
       "      <td>0.376245</td>\n",
       "      <td>0.114371</td>\n",
       "      <td>0.053623</td>\n",
       "      <td>-0.115623</td>\n",
       "      <td>-0.260202</td>\n",
       "      <td>-0.113100</td>\n",
       "    </tr>\n",
       "    <tr>\n",
       "      <th>NO2</th>\n",
       "      <td>-0.076065</td>\n",
       "      <td>0.470015</td>\n",
       "      <td>0.443626</td>\n",
       "      <td>0.227100</td>\n",
       "      <td>-0.100437</td>\n",
       "      <td>0.429361</td>\n",
       "      <td>-0.469510</td>\n",
       "      <td>0.975084</td>\n",
       "      <td>1.000000</td>\n",
       "      <td>0.457464</td>\n",
       "      <td>0.355513</td>\n",
       "      <td>0.102672</td>\n",
       "      <td>0.045740</td>\n",
       "      <td>-0.114286</td>\n",
       "      <td>-0.280706</td>\n",
       "      <td>-0.093434</td>\n",
       "    </tr>\n",
       "    <tr>\n",
       "      <th>NO</th>\n",
       "      <td>0.088882</td>\n",
       "      <td>0.127349</td>\n",
       "      <td>0.166886</td>\n",
       "      <td>-0.034484</td>\n",
       "      <td>0.020884</td>\n",
       "      <td>0.202512</td>\n",
       "      <td>-0.266523</td>\n",
       "      <td>0.643328</td>\n",
       "      <td>0.457464</td>\n",
       "      <td>1.000000</td>\n",
       "      <td>0.281260</td>\n",
       "      <td>0.104118</td>\n",
       "      <td>0.057110</td>\n",
       "      <td>-0.069063</td>\n",
       "      <td>-0.074253</td>\n",
       "      <td>-0.130919</td>\n",
       "    </tr>\n",
       "    <tr>\n",
       "      <th>CO</th>\n",
       "      <td>0.198285</td>\n",
       "      <td>0.392112</td>\n",
       "      <td>0.546273</td>\n",
       "      <td>-0.038728</td>\n",
       "      <td>0.314790</td>\n",
       "      <td>0.339423</td>\n",
       "      <td>-0.175111</td>\n",
       "      <td>0.376245</td>\n",
       "      <td>0.355513</td>\n",
       "      <td>0.281260</td>\n",
       "      <td>1.000000</td>\n",
       "      <td>-0.131901</td>\n",
       "      <td>0.283909</td>\n",
       "      <td>0.049655</td>\n",
       "      <td>-0.211198</td>\n",
       "      <td>0.109840</td>\n",
       "    </tr>\n",
       "    <tr>\n",
       "      <th>气压</th>\n",
       "      <td>-0.226646</td>\n",
       "      <td>-0.002375</td>\n",
       "      <td>0.003758</td>\n",
       "      <td>-0.437545</td>\n",
       "      <td>-0.700927</td>\n",
       "      <td>-0.154747</td>\n",
       "      <td>-0.337163</td>\n",
       "      <td>0.114371</td>\n",
       "      <td>0.102672</td>\n",
       "      <td>0.104118</td>\n",
       "      <td>-0.131901</td>\n",
       "      <td>1.000000</td>\n",
       "      <td>-0.025120</td>\n",
       "      <td>-0.786680</td>\n",
       "      <td>-0.127995</td>\n",
       "      <td>-0.643279</td>\n",
       "    </tr>\n",
       "    <tr>\n",
       "      <th>大气湿度</th>\n",
       "      <td>-0.047083</td>\n",
       "      <td>-0.250987</td>\n",
       "      <td>0.074167</td>\n",
       "      <td>-0.077902</td>\n",
       "      <td>0.501949</td>\n",
       "      <td>-0.371687</td>\n",
       "      <td>-0.601084</td>\n",
       "      <td>0.053623</td>\n",
       "      <td>0.045740</td>\n",
       "      <td>0.057110</td>\n",
       "      <td>0.283909</td>\n",
       "      <td>-0.025120</td>\n",
       "      <td>1.000000</td>\n",
       "      <td>-0.406487</td>\n",
       "      <td>-0.281829</td>\n",
       "      <td>-0.085397</td>\n",
       "    </tr>\n",
       "    <tr>\n",
       "      <th>大气温度</th>\n",
       "      <td>0.150992</td>\n",
       "      <td>0.134616</td>\n",
       "      <td>0.015691</td>\n",
       "      <td>0.468843</td>\n",
       "      <td>0.522099</td>\n",
       "      <td>0.326764</td>\n",
       "      <td>0.642521</td>\n",
       "      <td>-0.115623</td>\n",
       "      <td>-0.114286</td>\n",
       "      <td>-0.069063</td>\n",
       "      <td>0.049655</td>\n",
       "      <td>-0.786680</td>\n",
       "      <td>-0.406487</td>\n",
       "      <td>1.000000</td>\n",
       "      <td>0.215417</td>\n",
       "      <td>0.748714</td>\n",
       "    </tr>\n",
       "    <tr>\n",
       "      <th>风速</th>\n",
       "      <td>0.087857</td>\n",
       "      <td>-0.086153</td>\n",
       "      <td>-0.223474</td>\n",
       "      <td>-0.049331</td>\n",
       "      <td>-0.025879</td>\n",
       "      <td>0.006135</td>\n",
       "      <td>0.325676</td>\n",
       "      <td>-0.260202</td>\n",
       "      <td>-0.280706</td>\n",
       "      <td>-0.074253</td>\n",
       "      <td>-0.211198</td>\n",
       "      <td>-0.127995</td>\n",
       "      <td>-0.281829</td>\n",
       "      <td>0.215417</td>\n",
       "      <td>1.000000</td>\n",
       "      <td>0.055060</td>\n",
       "    </tr>\n",
       "    <tr>\n",
       "      <th>duration</th>\n",
       "      <td>0.061140</td>\n",
       "      <td>0.047587</td>\n",
       "      <td>-0.037758</td>\n",
       "      <td>0.457950</td>\n",
       "      <td>0.594780</td>\n",
       "      <td>0.204087</td>\n",
       "      <td>0.375715</td>\n",
       "      <td>-0.113100</td>\n",
       "      <td>-0.093434</td>\n",
       "      <td>-0.130919</td>\n",
       "      <td>0.109840</td>\n",
       "      <td>-0.643279</td>\n",
       "      <td>-0.085397</td>\n",
       "      <td>0.748714</td>\n",
       "      <td>0.055060</td>\n",
       "      <td>1.000000</td>\n",
       "    </tr>\n",
       "  </tbody>\n",
       "</table>\n",
       "</div>"
      ],
      "text/plain": [
       "                风向      PM10     PM2.5      室内温度      室内湿度       SO2  \\\n",
       "风向        1.000000  0.006869  0.025860 -0.087779  0.108137  0.138783   \n",
       "PM10      0.006869  1.000000  0.828606  0.138276 -0.163246  0.527362   \n",
       "PM2.5     0.025860  0.828606  1.000000  0.065903  0.051086  0.406424   \n",
       "室内温度     -0.087779  0.138276  0.065903  1.000000  0.213570  0.265436   \n",
       "室内湿度      0.108137 -0.163246  0.051086  0.213570  1.000000 -0.070110   \n",
       "SO2       0.138783  0.527362  0.406424  0.265436 -0.070110  1.000000   \n",
       "O3        0.098514  0.057018 -0.059772  0.100132  0.042318  0.126625   \n",
       "NOx      -0.043319  0.436437  0.423575  0.186924 -0.081266  0.420186   \n",
       "NO2      -0.076065  0.470015  0.443626  0.227100 -0.100437  0.429361   \n",
       "NO        0.088882  0.127349  0.166886 -0.034484  0.020884  0.202512   \n",
       "CO        0.198285  0.392112  0.546273 -0.038728  0.314790  0.339423   \n",
       "气压       -0.226646 -0.002375  0.003758 -0.437545 -0.700927 -0.154747   \n",
       "大气湿度     -0.047083 -0.250987  0.074167 -0.077902  0.501949 -0.371687   \n",
       "大气温度      0.150992  0.134616  0.015691  0.468843  0.522099  0.326764   \n",
       "风速        0.087857 -0.086153 -0.223474 -0.049331 -0.025879  0.006135   \n",
       "duration  0.061140  0.047587 -0.037758  0.457950  0.594780  0.204087   \n",
       "\n",
       "                O3       NOx       NO2        NO        CO        气压  \\\n",
       "风向        0.098514 -0.043319 -0.076065  0.088882  0.198285 -0.226646   \n",
       "PM10      0.057018  0.436437  0.470015  0.127349  0.392112 -0.002375   \n",
       "PM2.5    -0.059772  0.423575  0.443626  0.166886  0.546273  0.003758   \n",
       "室内温度      0.100132  0.186924  0.227100 -0.034484 -0.038728 -0.437545   \n",
       "室内湿度      0.042318 -0.081266 -0.100437  0.020884  0.314790 -0.700927   \n",
       "SO2       0.126625  0.420186  0.429361  0.202512  0.339423 -0.154747   \n",
       "O3        1.000000 -0.470714 -0.469510 -0.266523 -0.175111 -0.337163   \n",
       "NOx      -0.470714  1.000000  0.975084  0.643328  0.376245  0.114371   \n",
       "NO2      -0.469510  0.975084  1.000000  0.457464  0.355513  0.102672   \n",
       "NO       -0.266523  0.643328  0.457464  1.000000  0.281260  0.104118   \n",
       "CO       -0.175111  0.376245  0.355513  0.281260  1.000000 -0.131901   \n",
       "气压       -0.337163  0.114371  0.102672  0.104118 -0.131901  1.000000   \n",
       "大气湿度     -0.601084  0.053623  0.045740  0.057110  0.283909 -0.025120   \n",
       "大气温度      0.642521 -0.115623 -0.114286 -0.069063  0.049655 -0.786680   \n",
       "风速        0.325676 -0.260202 -0.280706 -0.074253 -0.211198 -0.127995   \n",
       "duration  0.375715 -0.113100 -0.093434 -0.130919  0.109840 -0.643279   \n",
       "\n",
       "              大气湿度      大气温度        风速  duration  \n",
       "风向       -0.047083  0.150992  0.087857  0.061140  \n",
       "PM10     -0.250987  0.134616 -0.086153  0.047587  \n",
       "PM2.5     0.074167  0.015691 -0.223474 -0.037758  \n",
       "室内温度     -0.077902  0.468843 -0.049331  0.457950  \n",
       "室内湿度      0.501949  0.522099 -0.025879  0.594780  \n",
       "SO2      -0.371687  0.326764  0.006135  0.204087  \n",
       "O3       -0.601084  0.642521  0.325676  0.375715  \n",
       "NOx       0.053623 -0.115623 -0.260202 -0.113100  \n",
       "NO2       0.045740 -0.114286 -0.280706 -0.093434  \n",
       "NO        0.057110 -0.069063 -0.074253 -0.130919  \n",
       "CO        0.283909  0.049655 -0.211198  0.109840  \n",
       "气压       -0.025120 -0.786680 -0.127995 -0.643279  \n",
       "大气湿度      1.000000 -0.406487 -0.281829 -0.085397  \n",
       "大气温度     -0.406487  1.000000  0.215417  0.748714  \n",
       "风速       -0.281829  0.215417  1.000000  0.055060  \n",
       "duration -0.085397  0.748714  0.055060  1.000000  "
      ]
     },
     "execution_count": 24,
     "metadata": {},
     "output_type": "execute_result"
    }
   ],
   "source": [
    "d_train.corr()"
   ]
  },
  {
   "cell_type": "markdown",
   "metadata": {},
   "source": [
    "*load features for closed test data*"
   ]
  },
  {
   "cell_type": "code",
   "execution_count": 5,
   "metadata": {},
   "outputs": [
    {
     "data": {
      "text/html": [
       "<div>\n",
       "<style scoped>\n",
       "    .dataframe tbody tr th:only-of-type {\n",
       "        vertical-align: middle;\n",
       "    }\n",
       "\n",
       "    .dataframe tbody tr th {\n",
       "        vertical-align: top;\n",
       "    }\n",
       "\n",
       "    .dataframe thead th {\n",
       "        text-align: right;\n",
       "    }\n",
       "</style>\n",
       "<table border=\"1\" class=\"dataframe\">\n",
       "  <thead>\n",
       "    <tr style=\"text-align: right;\">\n",
       "      <th></th>\n",
       "      <th>t_ob</th>\n",
       "      <th>风向</th>\n",
       "      <th>PM10</th>\n",
       "      <th>室内温度</th>\n",
       "      <th>室内湿度</th>\n",
       "      <th>SO2</th>\n",
       "      <th>O3</th>\n",
       "      <th>NOx</th>\n",
       "      <th>NO2</th>\n",
       "      <th>NO</th>\n",
       "      <th>CO</th>\n",
       "      <th>气压</th>\n",
       "      <th>大气湿度</th>\n",
       "      <th>大气温度</th>\n",
       "      <th>风速</th>\n",
       "    </tr>\n",
       "  </thead>\n",
       "  <tbody>\n",
       "    <tr>\n",
       "      <th>0</th>\n",
       "      <td>2020-06-01 00:00:00</td>\n",
       "      <td>129.500000</td>\n",
       "      <td>50.266667</td>\n",
       "      <td>26.851667</td>\n",
       "      <td>52.270000</td>\n",
       "      <td>5.965000</td>\n",
       "      <td>180.263333</td>\n",
       "      <td>7.696667</td>\n",
       "      <td>6.688333</td>\n",
       "      <td>0.656667</td>\n",
       "      <td>0.653333</td>\n",
       "      <td>1006.800000</td>\n",
       "      <td>76.333333</td>\n",
       "      <td>24.916667</td>\n",
       "      <td>1.483333</td>\n",
       "    </tr>\n",
       "    <tr>\n",
       "      <th>1</th>\n",
       "      <td>2020-06-01 00:10:00</td>\n",
       "      <td>134.333333</td>\n",
       "      <td>49.266667</td>\n",
       "      <td>26.870000</td>\n",
       "      <td>54.566667</td>\n",
       "      <td>6.213333</td>\n",
       "      <td>181.400000</td>\n",
       "      <td>7.388333</td>\n",
       "      <td>6.356667</td>\n",
       "      <td>0.671667</td>\n",
       "      <td>0.640000</td>\n",
       "      <td>1006.716667</td>\n",
       "      <td>74.866667</td>\n",
       "      <td>24.883333</td>\n",
       "      <td>1.466667</td>\n",
       "    </tr>\n",
       "  </tbody>\n",
       "</table>\n",
       "</div>"
      ],
      "text/plain": [
       "                 t_ob          风向       PM10       室内温度       室内湿度       SO2  \\\n",
       "0 2020-06-01 00:00:00  129.500000  50.266667  26.851667  52.270000  5.965000   \n",
       "1 2020-06-01 00:10:00  134.333333  49.266667  26.870000  54.566667  6.213333   \n",
       "\n",
       "           O3       NOx       NO2        NO        CO           气压       大气湿度  \\\n",
       "0  180.263333  7.696667  6.688333  0.656667  0.653333  1006.800000  76.333333   \n",
       "1  181.400000  7.388333  6.356667  0.671667  0.640000  1006.716667  74.866667   \n",
       "\n",
       "        大气温度        风速  \n",
       "0  24.916667  1.483333  \n",
       "1  24.883333  1.466667  "
      ]
     },
     "execution_count": 5,
     "metadata": {},
     "output_type": "execute_result"
    }
   ],
   "source": [
    "X_ind_test = pd.read_csv(fd_data/'closed_test_X.csv', parse_dates = ['t_ob'])\n",
    "X_ind_test.head(2)"
   ]
  },
  {
   "cell_type": "code",
   "execution_count": 6,
   "metadata": {},
   "outputs": [],
   "source": [
    "X_ind_test['time'] = X_ind_test['t_ob']-time_original_1\n",
    "X_ind_test['duration']=X_ind_test['time'].astype('timedelta64[s]')/60"
   ]
  },
  {
   "cell_type": "markdown",
   "metadata": {},
   "source": [
    "*build model*"
   ]
  },
  {
   "cell_type": "markdown",
   "metadata": {},
   "source": [
    "# Step 2: create X,Y and train-test split"
   ]
  },
  {
   "cell_type": "code",
   "execution_count": 32,
   "metadata": {},
   "outputs": [],
   "source": [
    "# random forest 有超参数，先试一下添加validation set的方法\n",
    "# 70% train,15% validation,15% test  \n",
    "X_train_rf, X_test_rf, y_train_rf, y_test_rf = train_test_split(X, y, test_size=0.3, random_state=1)\n",
    "X_val_rf, X_test_rf, y_val_rf, y_test_rf = train_test_split(X_test_rf, y_test_rf, test_size=0.5, random_state=1)"
   ]
  },
  {
   "cell_type": "code",
   "execution_count": 33,
   "metadata": {},
   "outputs": [
    {
     "name": "stdout",
     "output_type": "stream",
     "text": [
      "(8005, 15) (1716, 15) (1716, 15)\n"
     ]
    }
   ],
   "source": [
    "print(X_train_rf.shape,X_val_rf.shape,X_test_rf.shape)"
   ]
  },
  {
   "cell_type": "markdown",
   "metadata": {},
   "source": [
    "# Step 3: build a more complex model"
   ]
  },
  {
   "cell_type": "code",
   "execution_count": null,
   "metadata": {},
   "outputs": [],
   "source": [
    "# random forest\n",
    "# 1.import the model\n",
    "from sklearn.ensemble import RandomForestRegressor\n",
    "# 2.initialize the random forest model\n",
    "rf = RandomForestRegressor(n_estimators=100)  #n_estimators: hyper-parameter, represent the number of trees, default=100,test it"
   ]
  },
  {
   "cell_type": "code",
   "execution_count": 34,
   "metadata": {},
   "outputs": [],
   "source": [
    "# 3.fit the model to the training set\n",
    "model_rf=rf.fit(X_train_rf,y_train_rf)"
   ]
  },
  {
   "cell_type": "code",
   "execution_count": 35,
   "metadata": {},
   "outputs": [
    {
     "data": {
      "text/plain": [
       "0.9986568618500528"
      ]
     },
     "execution_count": 35,
     "metadata": {},
     "output_type": "execute_result"
    }
   ],
   "source": [
    "# 4.evaluate the model performance\n",
    "# R2 for random forest is much higher than linear regression\n",
    "rf.score(X_train_rf, y_train_rf)"
   ]
  },
  {
   "cell_type": "code",
   "execution_count": 36,
   "metadata": {},
   "outputs": [
    {
     "data": {
      "text/plain": [
       "0.9906280942744059"
      ]
     },
     "execution_count": 36,
     "metadata": {},
     "output_type": "execute_result"
    }
   ],
   "source": [
    "rf.score(X_val_rf, y_val_rf)"
   ]
  },
  {
   "cell_type": "code",
   "execution_count": 37,
   "metadata": {},
   "outputs": [
    {
     "name": "stdout",
     "output_type": "stream",
     "text": [
      "0.998634422224369 0.9905824193526855\n"
     ]
    }
   ],
   "source": [
    "# test n_estimators as 80,120 manually\n",
    "rf2 = RandomForestRegressor(n_estimators=80)\n",
    "# fit the model to the training set\n",
    "model_rf2=rf2.fit(X_train_rf,y_train_rf)\n",
    "print(rf2.score(X_train_rf, y_train_rf),rf2.score(X_val_rf, y_val_rf))"
   ]
  },
  {
   "cell_type": "code",
   "execution_count": 38,
   "metadata": {},
   "outputs": [
    {
     "name": "stdout",
     "output_type": "stream",
     "text": [
      "0.9987506163280425 0.9907491423001845\n"
     ]
    }
   ],
   "source": [
    "rf2 = RandomForestRegressor(n_estimators=120)\n",
    "# fit the model to the training set\n",
    "model_rf2=rf2.fit(X_train_rf,y_train_rf)\n",
    "print(rf2.score(X_train_rf, y_train_rf),rf2.score(X_val_rf, y_val_rf))"
   ]
  },
  {
   "cell_type": "markdown",
   "metadata": {},
   "source": [
    "# Step 4: hyperparameter tuning"
   ]
  },
  {
   "cell_type": "markdown",
   "metadata": {},
   "source": [
    "###### method 1: using training set and validation set"
   ]
  },
  {
   "cell_type": "code",
   "execution_count": 39,
   "metadata": {},
   "outputs": [],
   "source": [
    "import time"
   ]
  },
  {
   "cell_type": "code",
   "execution_count": 40,
   "metadata": {},
   "outputs": [],
   "source": [
    "# hyper-parameter tuning\n",
    "# number of trees to tune, set the potential value\n",
    "start=time.time()\n",
    "no_trees = [40,60,80,100,120,140,160,180,200,220,240,260,280,300]\n",
    "\n",
    "# process of tune the number of trees\n",
    "max_score = 0\n",
    "best_no_trees = None\n",
    "for t in no_trees:\n",
    "    m = RandomForestRegressor(n_estimators=t).fit(X_train_rf,y_train_rf)  #train the model on the training set\n",
    "    score = m.score(X_val_rf, y_val_rf)   # evaluate how the model performs on the validation set\n",
    "    if score > max_score:\n",
    "        max_score = score   # replace the former one if it performs better\n",
    "        best_no_trees = t  \n",
    "end=time.time()"
   ]
  },
  {
   "cell_type": "code",
   "execution_count": 44,
   "metadata": {},
   "outputs": [],
   "source": [
    "?time.time"
   ]
  },
  {
   "cell_type": "code",
   "execution_count": 41,
   "metadata": {},
   "outputs": [
    {
     "name": "stdout",
     "output_type": "stream",
     "text": [
      "157.53649711608887\n"
     ]
    }
   ],
   "source": [
    "# time for running the code\n",
    "print(end-start)"
   ]
  },
  {
   "cell_type": "code",
   "execution_count": 45,
   "metadata": {},
   "outputs": [
    {
     "name": "stdout",
     "output_type": "stream",
     "text": [
      "0.9909398332497187 200\n"
     ]
    }
   ],
   "source": [
    "# get the best result, r2 for validation set improved\n",
    "print(max_score,best_no_trees)  "
   ]
  },
  {
   "cell_type": "code",
   "execution_count": 46,
   "metadata": {},
   "outputs": [
    {
     "data": {
      "text/plain": [
       "RandomForestRegressor(n_estimators=200)"
      ]
     },
     "execution_count": 46,
     "metadata": {},
     "output_type": "execute_result"
    }
   ],
   "source": [
    "rf_final = RandomForestRegressor(n_estimators = best_no_trees) #把通过上面测试得到的最优值带进去\n",
    "rf_final.fit(X_train_rf, y_train_rf) #retrain the model"
   ]
  },
  {
   "cell_type": "code",
   "execution_count": 47,
   "metadata": {},
   "outputs": [
    {
     "name": "stdout",
     "output_type": "stream",
     "text": [
      "The score on the training data:\n",
      "0.9987520278641333\n",
      "The score on the validation data:\n",
      "0.9908117393911386\n"
     ]
    }
   ],
   "source": [
    "print('The score on the training data:')\n",
    "print(rf_final.score(X_train_rf, y_train_rf))\n",
    "print('The score on the validation data:')\n",
    "print(rf_final.score(X_val_rf, y_val_rf))"
   ]
  },
  {
   "cell_type": "markdown",
   "metadata": {},
   "source": [
    "###### method 2: cross validation"
   ]
  },
  {
   "cell_type": "code",
   "execution_count": 48,
   "metadata": {},
   "outputs": [
    {
     "name": "stdout",
     "output_type": "stream",
     "text": [
      "The best parameter value is: \n",
      "{'n_estimators': 240}\n",
      "The best score is: \n",
      "0.9886951014602609\n"
     ]
    }
   ],
   "source": [
    "from sklearn import model_selection\n",
    "start_cv=time.time()\n",
    "# values of n_estimators and max_depth\n",
    "parameters = {'n_estimators':[40,60,80,100,120,140,160,180,200,220,240,260,280,300]}\n",
    "              #'max_depth':[10,20,30,40,50]}\n",
    "\n",
    "# initialize the random forest model\n",
    "rf = RandomForestRegressor()\n",
    "\n",
    "#Exhaustive search over specified parameter values for an estimator\n",
    "clf = model_selection.GridSearchCV(rf, parameters)\n",
    "\n",
    "# fit the model on the training set\n",
    "clf.fit(X_train_rf, y_train_rf)\n",
    "\n",
    "# we can query the best parameter value and its accuracy score\n",
    "print (\"The best parameter value is: \")\n",
    "print (clf.best_params_)\n",
    "print (\"The best score is: \")\n",
    "print (clf.best_score_)\n",
    "end_cv=time.time()"
   ]
  },
  {
   "cell_type": "code",
   "execution_count": 49,
   "metadata": {},
   "outputs": [
    {
     "name": "stdout",
     "output_type": "stream",
     "text": [
      "627.0394279956818\n"
     ]
    }
   ],
   "source": [
    "print(end_cv-start_cv)"
   ]
  },
  {
   "cell_type": "code",
   "execution_count": 50,
   "metadata": {},
   "outputs": [
    {
     "data": {
      "text/plain": [
       "240"
      ]
     },
     "execution_count": 50,
     "metadata": {},
     "output_type": "execute_result"
    }
   ],
   "source": [
    "clf.best_params_['n_estimators']"
   ]
  },
  {
   "cell_type": "code",
   "execution_count": 51,
   "metadata": {},
   "outputs": [
    {
     "data": {
      "text/plain": [
       "RandomForestRegressor(n_estimators=240)"
      ]
     },
     "execution_count": 51,
     "metadata": {},
     "output_type": "execute_result"
    }
   ],
   "source": [
    "rf_final_cv = RandomForestRegressor(n_estimators = clf.best_params_['n_estimators']) #把通过上面测试得到的最优值带进去\n",
    "rf_final_cv.fit(X_train_rf, y_train_rf) "
   ]
  },
  {
   "cell_type": "code",
   "execution_count": 52,
   "metadata": {},
   "outputs": [
    {
     "name": "stdout",
     "output_type": "stream",
     "text": [
      "The score on the training data:\n",
      "0.9987520278641333\n",
      "The score on the validation data:\n",
      "0.9908117393911386\n"
     ]
    }
   ],
   "source": [
    "# 添加validation set获得的结果\n",
    "print('The score on the training data:')\n",
    "print(rf_final.score(X_train_rf, y_train_rf))\n",
    "print('The score on the validation data:')\n",
    "print(rf_final.score(X_val_rf, y_val_rf))"
   ]
  },
  {
   "cell_type": "code",
   "execution_count": 53,
   "metadata": {},
   "outputs": [
    {
     "name": "stdout",
     "output_type": "stream",
     "text": [
      "The score on the training data:\n",
      "0.9988096946466758\n",
      "The score on the validation data:\n",
      "0.9907041876804705\n"
     ]
    }
   ],
   "source": [
    "# cross validation获得的结果\n",
    "print('The score on the training data:')\n",
    "print(rf_final_cv.score(X_train_rf, y_train_rf))\n",
    "print('The score on the validation data:')\n",
    "print(rf_final_cv.score(X_val_rf, y_val_rf))"
   ]
  },
  {
   "cell_type": "markdown",
   "metadata": {},
   "source": [
    "# Step 5: use the final model for prediction"
   ]
  },
  {
   "cell_type": "code",
   "execution_count": 54,
   "metadata": {
    "scrolled": true
   },
   "outputs": [
    {
     "data": {
      "text/plain": [
       "0.9912436713689449"
      ]
     },
     "execution_count": 54,
     "metadata": {},
     "output_type": "execute_result"
    }
   ],
   "source": [
    "# get final estimate\n",
    "rf_final.score(X_test_rf, y_test_rf)"
   ]
  },
  {
   "cell_type": "code",
   "execution_count": 63,
   "metadata": {},
   "outputs": [
    {
     "data": {
      "text/html": [
       "<div>\n",
       "<style scoped>\n",
       "    .dataframe tbody tr th:only-of-type {\n",
       "        vertical-align: middle;\n",
       "    }\n",
       "\n",
       "    .dataframe tbody tr th {\n",
       "        vertical-align: top;\n",
       "    }\n",
       "\n",
       "    .dataframe thead th {\n",
       "        text-align: right;\n",
       "    }\n",
       "</style>\n",
       "<table border=\"1\" class=\"dataframe\">\n",
       "  <thead>\n",
       "    <tr style=\"text-align: right;\">\n",
       "      <th></th>\n",
       "      <th>风向</th>\n",
       "      <th>PM10</th>\n",
       "      <th>室内温度</th>\n",
       "      <th>室内湿度</th>\n",
       "      <th>SO2</th>\n",
       "      <th>O3</th>\n",
       "      <th>NOx</th>\n",
       "      <th>NO2</th>\n",
       "      <th>NO</th>\n",
       "      <th>CO</th>\n",
       "      <th>气压</th>\n",
       "      <th>大气湿度</th>\n",
       "      <th>大气温度</th>\n",
       "      <th>风速</th>\n",
       "      <th>duration</th>\n",
       "    </tr>\n",
       "  </thead>\n",
       "  <tbody>\n",
       "    <tr>\n",
       "      <th>0</th>\n",
       "      <td>129.5</td>\n",
       "      <td>50.266667</td>\n",
       "      <td>26.851667</td>\n",
       "      <td>52.27</td>\n",
       "      <td>5.965</td>\n",
       "      <td>180.263333</td>\n",
       "      <td>7.696667</td>\n",
       "      <td>6.688333</td>\n",
       "      <td>0.656667</td>\n",
       "      <td>0.653333</td>\n",
       "      <td>1006.8</td>\n",
       "      <td>76.333333</td>\n",
       "      <td>24.916667</td>\n",
       "      <td>1.483333</td>\n",
       "      <td>132480.0</td>\n",
       "    </tr>\n",
       "  </tbody>\n",
       "</table>\n",
       "</div>"
      ],
      "text/plain": [
       "      风向       PM10       室内温度   室内湿度    SO2          O3       NOx       NO2  \\\n",
       "0  129.5  50.266667  26.851667  52.27  5.965  180.263333  7.696667  6.688333   \n",
       "\n",
       "         NO        CO      气压       大气湿度       大气温度        风速  duration  \n",
       "0  0.656667  0.653333  1006.8  76.333333  24.916667  1.483333  132480.0  "
      ]
     },
     "execution_count": 63,
     "metadata": {},
     "output_type": "execute_result"
    }
   ],
   "source": [
    "# x for prediction\n",
    "x_for_prediction=X_ind_test.drop(['t_ob','time'], axis=1) \n",
    "x_for_prediction.head(1)"
   ]
  },
  {
   "cell_type": "code",
   "execution_count": 64,
   "metadata": {},
   "outputs": [],
   "source": [
    "X_ind_test['prediction'] = rf_final.predict(x_for_prediction)"
   ]
  },
  {
   "cell_type": "code",
   "execution_count": 65,
   "metadata": {},
   "outputs": [],
   "source": [
    "X_ind_test['prediction'] = rf_final.predict(x_for_prediction)\n",
    "result=X_ind_test[['t_ob','prediction']] #提取出需要的列\n",
    "result = result.rename(columns={ 'prediction': 'PM2.5'})  #修改列名\n",
    "result.to_csv('submission_rf.csv',index=False)  #保存文件"
   ]
  },
  {
   "cell_type": "code",
   "execution_count": 66,
   "metadata": {},
   "outputs": [
    {
     "name": "stdout",
     "output_type": "stream",
     "text": [
      "[Enter] to confirm your submission file is placed at D:\\code_own\\CodingTest-SunyuWang\\to_players\\submission_rf.csv)\n",
      "\n",
      "Submission time: 2022-05-13 08:30:42.508629\n",
      " - RMSE: 4.877\n",
      " - R sq.: 0.839\n",
      " - Max. abs. residual: 26.675\n",
      " - Min. abs. residual: 0.003\n",
      " - Logging results. [Enter] to make sure 'submission_history.csv' is closed: \n",
      " - Notes for this submission: \n",
      " ! Results logged in 'submission_history.csv'.\n",
      " ! Submission file saved to '/old_submissions/submission_2022_05_13_08_30_42.csv'.\n",
      "Evaluation Successful. Press to quit...\n"
     ]
    }
   ],
   "source": [
    "# R2 improved a little bit\n",
    "# max residual is big, outlier?\n",
    "# try to tune more hyper-parameters, like max_depth\n",
    "autoGrader(fd/'submission_rf.csv')"
   ]
  }
 ],
 "metadata": {
  "kernelspec": {
   "display_name": "sds2020",
   "language": "python",
   "name": "sds2020"
  },
  "language_info": {
   "codemirror_mode": {
    "name": "ipython",
    "version": 3
   },
   "file_extension": ".py",
   "mimetype": "text/x-python",
   "name": "python",
   "nbconvert_exporter": "python",
   "pygments_lexer": "ipython3",
   "version": "3.8.8"
  }
 },
 "nbformat": 4,
 "nbformat_minor": 2
}
