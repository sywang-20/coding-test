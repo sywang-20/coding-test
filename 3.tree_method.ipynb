{
 "cells": [
  {
   "cell_type": "code",
   "execution_count": 1,
   "metadata": {},
   "outputs": [],
   "source": [
    "import os, sys \n",
    "import pandas as pd\n",
    "import pickle as pk\n",
    "from pathlib2 import Path\n",
    "from evaluate import autoGrader\n",
    "import numpy as np\n",
    "from sklearn import metrics\n",
    "#pip install pathlib2\n",
    "import seaborn as sns\n",
    "import matplotlib.pyplot as plt"
   ]
  },
  {
   "cell_type": "code",
   "execution_count": 2,
   "metadata": {},
   "outputs": [],
   "source": [
    "fd = Path(os.getcwd())\n",
    "fd_data = fd/'data'"
   ]
  },
  {
   "cell_type": "markdown",
   "metadata": {},
   "source": [
    "# Step 1: getting the data\n",
    "*load training data*"
   ]
  },
  {
   "cell_type": "markdown",
   "metadata": {},
   "source": [
    "标准化后提高到0.84，但标准化数据对tree-method其实影响不大"
   ]
  },
  {
   "cell_type": "code",
   "execution_count": 3,
   "metadata": {},
   "outputs": [
    {
     "data": {
      "text/html": [
       "<div>\n",
       "<style scoped>\n",
       "    .dataframe tbody tr th:only-of-type {\n",
       "        vertical-align: middle;\n",
       "    }\n",
       "\n",
       "    .dataframe tbody tr th {\n",
       "        vertical-align: top;\n",
       "    }\n",
       "\n",
       "    .dataframe thead th {\n",
       "        text-align: right;\n",
       "    }\n",
       "</style>\n",
       "<table border=\"1\" class=\"dataframe\">\n",
       "  <thead>\n",
       "    <tr style=\"text-align: right;\">\n",
       "      <th></th>\n",
       "      <th>t_ob</th>\n",
       "      <th>风向</th>\n",
       "      <th>PM10</th>\n",
       "      <th>PM2.5</th>\n",
       "      <th>室内温度</th>\n",
       "      <th>室内湿度</th>\n",
       "      <th>SO2</th>\n",
       "      <th>O3</th>\n",
       "      <th>NOx</th>\n",
       "      <th>NO2</th>\n",
       "      <th>NO</th>\n",
       "      <th>CO</th>\n",
       "      <th>气压</th>\n",
       "      <th>大气湿度</th>\n",
       "      <th>大气温度</th>\n",
       "      <th>风速</th>\n",
       "    </tr>\n",
       "  </thead>\n",
       "  <tbody>\n",
       "    <tr>\n",
       "      <th>0</th>\n",
       "      <td>2020-03-01 00:10:00</td>\n",
       "      <td>338.0</td>\n",
       "      <td>32.7</td>\n",
       "      <td>23.4</td>\n",
       "      <td>25.0</td>\n",
       "      <td>31.35</td>\n",
       "      <td>3.74</td>\n",
       "      <td>38.23</td>\n",
       "      <td>28.54</td>\n",
       "      <td>27.04</td>\n",
       "      <td>0.98</td>\n",
       "      <td>0.76</td>\n",
       "      <td>1015.2</td>\n",
       "      <td>91.0</td>\n",
       "      <td>9.3</td>\n",
       "      <td>1.4</td>\n",
       "    </tr>\n",
       "  </tbody>\n",
       "</table>\n",
       "</div>"
      ],
      "text/plain": [
       "                 t_ob     风向  PM10  PM2.5  室内温度   室内湿度   SO2     O3    NOx  \\\n",
       "0 2020-03-01 00:10:00  338.0  32.7   23.4  25.0  31.35  3.74  38.23  28.54   \n",
       "\n",
       "     NO2    NO    CO      气压  大气湿度  大气温度   风速  \n",
       "0  27.04  0.98  0.76  1015.2  91.0   9.3  1.4  "
      ]
     },
     "execution_count": 3,
     "metadata": {},
     "output_type": "execute_result"
    }
   ],
   "source": [
    "d_train = pd.read_csv(fd_data/'training_data.csv',parse_dates = ['t_ob'])  #parse_dates: parse as date，自动改为时间，不需要再用pd.to_datetime转换\n",
    "d_train.head(1)"
   ]
  },
  {
   "cell_type": "code",
   "execution_count": 4,
   "metadata": {},
   "outputs": [
    {
     "name": "stdout",
     "output_type": "stream",
     "text": [
      "<class 'pandas.core.frame.DataFrame'>\n",
      "RangeIndex: 11437 entries, 0 to 11436\n",
      "Data columns (total 16 columns):\n",
      " #   Column  Non-Null Count  Dtype         \n",
      "---  ------  --------------  -----         \n",
      " 0   t_ob    11437 non-null  datetime64[ns]\n",
      " 1   风向      11437 non-null  float64       \n",
      " 2   PM10    11437 non-null  float64       \n",
      " 3   PM2.5   11437 non-null  float64       \n",
      " 4   室内温度    11437 non-null  float64       \n",
      " 5   室内湿度    11437 non-null  float64       \n",
      " 6   SO2     11437 non-null  float64       \n",
      " 7   O3      11437 non-null  float64       \n",
      " 8   NOx     11437 non-null  float64       \n",
      " 9   NO2     11437 non-null  float64       \n",
      " 10  NO      11437 non-null  float64       \n",
      " 11  CO      11437 non-null  float64       \n",
      " 12  气压      11437 non-null  float64       \n",
      " 13  大气湿度    11437 non-null  float64       \n",
      " 14  大气温度    11437 non-null  float64       \n",
      " 15  风速      11437 non-null  float64       \n",
      "dtypes: datetime64[ns](1), float64(15)\n",
      "memory usage: 1.4 MB\n"
     ]
    }
   ],
   "source": [
    "# 检查数据，很干净，没有缺失，不需要额外清洗\n",
    "d_train.info()"
   ]
  },
  {
   "cell_type": "code",
   "execution_count": 20,
   "metadata": {},
   "outputs": [],
   "source": [
    "#import matplotlib.pyplot as plt\n",
    "#x=d_train['t_ob']\n",
    "#y=d_train['PM2.5']\n",
    "#plt.plot(x,y)"
   ]
  },
  {
   "cell_type": "code",
   "execution_count": 5,
   "metadata": {},
   "outputs": [],
   "source": [
    "# Convert the time 't_ob' to the time since 2020-03-01 00:00:00\n",
    "# This variable was used to take account of the trend over time\n",
    "\n",
    "from datetime import datetime, date\n",
    "time_original = '2020-03-01 00:00:00'\n",
    "time_original_1 = datetime.strptime(time_original,\"%Y-%m-%d %H:%M:%S\")\n",
    "d_train['time'] = d_train['t_ob']-time_original_1 \n",
    "d_train['duration']=d_train['time'].astype('timedelta64[s]')/60"
   ]
  },
  {
   "cell_type": "code",
   "execution_count": 6,
   "metadata": {},
   "outputs": [
    {
     "data": {
      "text/html": [
       "<div>\n",
       "<style scoped>\n",
       "    .dataframe tbody tr th:only-of-type {\n",
       "        vertical-align: middle;\n",
       "    }\n",
       "\n",
       "    .dataframe tbody tr th {\n",
       "        vertical-align: top;\n",
       "    }\n",
       "\n",
       "    .dataframe thead th {\n",
       "        text-align: right;\n",
       "    }\n",
       "</style>\n",
       "<table border=\"1\" class=\"dataframe\">\n",
       "  <thead>\n",
       "    <tr style=\"text-align: right;\">\n",
       "      <th></th>\n",
       "      <th>t_ob</th>\n",
       "      <th>风向</th>\n",
       "      <th>PM10</th>\n",
       "      <th>PM2.5</th>\n",
       "      <th>室内温度</th>\n",
       "      <th>室内湿度</th>\n",
       "      <th>SO2</th>\n",
       "      <th>O3</th>\n",
       "      <th>NOx</th>\n",
       "      <th>NO2</th>\n",
       "      <th>NO</th>\n",
       "      <th>CO</th>\n",
       "      <th>气压</th>\n",
       "      <th>大气湿度</th>\n",
       "      <th>大气温度</th>\n",
       "      <th>风速</th>\n",
       "      <th>time</th>\n",
       "      <th>duration</th>\n",
       "    </tr>\n",
       "  </thead>\n",
       "  <tbody>\n",
       "    <tr>\n",
       "      <th>0</th>\n",
       "      <td>2020-03-01 00:10:00</td>\n",
       "      <td>338.0</td>\n",
       "      <td>32.7</td>\n",
       "      <td>23.4</td>\n",
       "      <td>25.0</td>\n",
       "      <td>31.35</td>\n",
       "      <td>3.74</td>\n",
       "      <td>38.23</td>\n",
       "      <td>28.54</td>\n",
       "      <td>27.04</td>\n",
       "      <td>0.98</td>\n",
       "      <td>0.76</td>\n",
       "      <td>1015.2</td>\n",
       "      <td>91.0</td>\n",
       "      <td>9.3</td>\n",
       "      <td>1.4</td>\n",
       "      <td>0 days 00:10:00</td>\n",
       "      <td>10.0</td>\n",
       "    </tr>\n",
       "  </tbody>\n",
       "</table>\n",
       "</div>"
      ],
      "text/plain": [
       "                 t_ob     风向  PM10  PM2.5  室内温度   室内湿度   SO2     O3    NOx  \\\n",
       "0 2020-03-01 00:10:00  338.0  32.7   23.4  25.0  31.35  3.74  38.23  28.54   \n",
       "\n",
       "     NO2    NO    CO      气压  大气湿度  大气温度   风速            time  duration  \n",
       "0  27.04  0.98  0.76  1015.2  91.0   9.3  1.4 0 days 00:10:00      10.0  "
      ]
     },
     "execution_count": 6,
     "metadata": {},
     "output_type": "execute_result"
    }
   ],
   "source": [
    "d_train.head(1)"
   ]
  },
  {
   "cell_type": "markdown",
   "metadata": {},
   "source": [
    "*load features for closed test data*"
   ]
  },
  {
   "cell_type": "code",
   "execution_count": 7,
   "metadata": {},
   "outputs": [
    {
     "data": {
      "text/html": [
       "<div>\n",
       "<style scoped>\n",
       "    .dataframe tbody tr th:only-of-type {\n",
       "        vertical-align: middle;\n",
       "    }\n",
       "\n",
       "    .dataframe tbody tr th {\n",
       "        vertical-align: top;\n",
       "    }\n",
       "\n",
       "    .dataframe thead th {\n",
       "        text-align: right;\n",
       "    }\n",
       "</style>\n",
       "<table border=\"1\" class=\"dataframe\">\n",
       "  <thead>\n",
       "    <tr style=\"text-align: right;\">\n",
       "      <th></th>\n",
       "      <th>t_ob</th>\n",
       "      <th>风向</th>\n",
       "      <th>PM10</th>\n",
       "      <th>室内温度</th>\n",
       "      <th>室内湿度</th>\n",
       "      <th>SO2</th>\n",
       "      <th>O3</th>\n",
       "      <th>NOx</th>\n",
       "      <th>NO2</th>\n",
       "      <th>NO</th>\n",
       "      <th>CO</th>\n",
       "      <th>气压</th>\n",
       "      <th>大气湿度</th>\n",
       "      <th>大气温度</th>\n",
       "      <th>风速</th>\n",
       "    </tr>\n",
       "  </thead>\n",
       "  <tbody>\n",
       "    <tr>\n",
       "      <th>0</th>\n",
       "      <td>2020-06-01 00:00:00</td>\n",
       "      <td>129.500000</td>\n",
       "      <td>50.266667</td>\n",
       "      <td>26.851667</td>\n",
       "      <td>52.270000</td>\n",
       "      <td>5.965000</td>\n",
       "      <td>180.263333</td>\n",
       "      <td>7.696667</td>\n",
       "      <td>6.688333</td>\n",
       "      <td>0.656667</td>\n",
       "      <td>0.653333</td>\n",
       "      <td>1006.800000</td>\n",
       "      <td>76.333333</td>\n",
       "      <td>24.916667</td>\n",
       "      <td>1.483333</td>\n",
       "    </tr>\n",
       "    <tr>\n",
       "      <th>1</th>\n",
       "      <td>2020-06-01 00:10:00</td>\n",
       "      <td>134.333333</td>\n",
       "      <td>49.266667</td>\n",
       "      <td>26.870000</td>\n",
       "      <td>54.566667</td>\n",
       "      <td>6.213333</td>\n",
       "      <td>181.400000</td>\n",
       "      <td>7.388333</td>\n",
       "      <td>6.356667</td>\n",
       "      <td>0.671667</td>\n",
       "      <td>0.640000</td>\n",
       "      <td>1006.716667</td>\n",
       "      <td>74.866667</td>\n",
       "      <td>24.883333</td>\n",
       "      <td>1.466667</td>\n",
       "    </tr>\n",
       "  </tbody>\n",
       "</table>\n",
       "</div>"
      ],
      "text/plain": [
       "                 t_ob          风向       PM10       室内温度       室内湿度       SO2  \\\n",
       "0 2020-06-01 00:00:00  129.500000  50.266667  26.851667  52.270000  5.965000   \n",
       "1 2020-06-01 00:10:00  134.333333  49.266667  26.870000  54.566667  6.213333   \n",
       "\n",
       "           O3       NOx       NO2        NO        CO           气压       大气湿度  \\\n",
       "0  180.263333  7.696667  6.688333  0.656667  0.653333  1006.800000  76.333333   \n",
       "1  181.400000  7.388333  6.356667  0.671667  0.640000  1006.716667  74.866667   \n",
       "\n",
       "        大气温度        风速  \n",
       "0  24.916667  1.483333  \n",
       "1  24.883333  1.466667  "
      ]
     },
     "execution_count": 7,
     "metadata": {},
     "output_type": "execute_result"
    }
   ],
   "source": [
    "X_ind_test = pd.read_csv(fd_data/'closed_test_X.csv', parse_dates = ['t_ob'])\n",
    "X_ind_test.head(2)"
   ]
  },
  {
   "cell_type": "code",
   "execution_count": 8,
   "metadata": {},
   "outputs": [],
   "source": [
    "X_ind_test['time'] = X_ind_test['t_ob']-time_original_1\n",
    "X_ind_test['duration']=X_ind_test['time'].astype('timedelta64[s]')/60"
   ]
  },
  {
   "cell_type": "code",
   "execution_count": 9,
   "metadata": {},
   "outputs": [
    {
     "data": {
      "text/html": [
       "<div>\n",
       "<style scoped>\n",
       "    .dataframe tbody tr th:only-of-type {\n",
       "        vertical-align: middle;\n",
       "    }\n",
       "\n",
       "    .dataframe tbody tr th {\n",
       "        vertical-align: top;\n",
       "    }\n",
       "\n",
       "    .dataframe thead th {\n",
       "        text-align: right;\n",
       "    }\n",
       "</style>\n",
       "<table border=\"1\" class=\"dataframe\">\n",
       "  <thead>\n",
       "    <tr style=\"text-align: right;\">\n",
       "      <th></th>\n",
       "      <th>t_ob</th>\n",
       "      <th>风向</th>\n",
       "      <th>PM10</th>\n",
       "      <th>室内温度</th>\n",
       "      <th>室内湿度</th>\n",
       "      <th>SO2</th>\n",
       "      <th>O3</th>\n",
       "      <th>NOx</th>\n",
       "      <th>NO2</th>\n",
       "      <th>NO</th>\n",
       "      <th>CO</th>\n",
       "      <th>气压</th>\n",
       "      <th>大气湿度</th>\n",
       "      <th>大气温度</th>\n",
       "      <th>风速</th>\n",
       "      <th>time</th>\n",
       "      <th>duration</th>\n",
       "    </tr>\n",
       "  </thead>\n",
       "  <tbody>\n",
       "    <tr>\n",
       "      <th>0</th>\n",
       "      <td>2020-06-01 00:00:00</td>\n",
       "      <td>129.500000</td>\n",
       "      <td>50.266667</td>\n",
       "      <td>26.851667</td>\n",
       "      <td>52.270000</td>\n",
       "      <td>5.965000</td>\n",
       "      <td>180.263333</td>\n",
       "      <td>7.696667</td>\n",
       "      <td>6.688333</td>\n",
       "      <td>0.656667</td>\n",
       "      <td>0.653333</td>\n",
       "      <td>1006.800000</td>\n",
       "      <td>76.333333</td>\n",
       "      <td>24.916667</td>\n",
       "      <td>1.483333</td>\n",
       "      <td>92 days 00:00:00</td>\n",
       "      <td>132480.0</td>\n",
       "    </tr>\n",
       "    <tr>\n",
       "      <th>1</th>\n",
       "      <td>2020-06-01 00:10:00</td>\n",
       "      <td>134.333333</td>\n",
       "      <td>49.266667</td>\n",
       "      <td>26.870000</td>\n",
       "      <td>54.566667</td>\n",
       "      <td>6.213333</td>\n",
       "      <td>181.400000</td>\n",
       "      <td>7.388333</td>\n",
       "      <td>6.356667</td>\n",
       "      <td>0.671667</td>\n",
       "      <td>0.640000</td>\n",
       "      <td>1006.716667</td>\n",
       "      <td>74.866667</td>\n",
       "      <td>24.883333</td>\n",
       "      <td>1.466667</td>\n",
       "      <td>92 days 00:10:00</td>\n",
       "      <td>132490.0</td>\n",
       "    </tr>\n",
       "  </tbody>\n",
       "</table>\n",
       "</div>"
      ],
      "text/plain": [
       "                 t_ob          风向       PM10       室内温度       室内湿度       SO2  \\\n",
       "0 2020-06-01 00:00:00  129.500000  50.266667  26.851667  52.270000  5.965000   \n",
       "1 2020-06-01 00:10:00  134.333333  49.266667  26.870000  54.566667  6.213333   \n",
       "\n",
       "           O3       NOx       NO2        NO        CO           气压       大气湿度  \\\n",
       "0  180.263333  7.696667  6.688333  0.656667  0.653333  1006.800000  76.333333   \n",
       "1  181.400000  7.388333  6.356667  0.671667  0.640000  1006.716667  74.866667   \n",
       "\n",
       "        大气温度        风速             time  duration  \n",
       "0  24.916667  1.483333 92 days 00:00:00  132480.0  \n",
       "1  24.883333  1.466667 92 days 00:10:00  132490.0  "
      ]
     },
     "execution_count": 9,
     "metadata": {},
     "output_type": "execute_result"
    }
   ],
   "source": [
    "X_ind_test.head(2)"
   ]
  },
  {
   "cell_type": "code",
   "execution_count": 10,
   "metadata": {},
   "outputs": [
    {
     "data": {
      "text/html": [
       "<div>\n",
       "<style scoped>\n",
       "    .dataframe tbody tr th:only-of-type {\n",
       "        vertical-align: middle;\n",
       "    }\n",
       "\n",
       "    .dataframe tbody tr th {\n",
       "        vertical-align: top;\n",
       "    }\n",
       "\n",
       "    .dataframe thead th {\n",
       "        text-align: right;\n",
       "    }\n",
       "</style>\n",
       "<table border=\"1\" class=\"dataframe\">\n",
       "  <thead>\n",
       "    <tr style=\"text-align: right;\">\n",
       "      <th></th>\n",
       "      <th>风向</th>\n",
       "      <th>PM10</th>\n",
       "      <th>PM2.5</th>\n",
       "      <th>室内温度</th>\n",
       "      <th>室内湿度</th>\n",
       "      <th>SO2</th>\n",
       "      <th>O3</th>\n",
       "      <th>NOx</th>\n",
       "      <th>NO2</th>\n",
       "      <th>NO</th>\n",
       "      <th>CO</th>\n",
       "      <th>气压</th>\n",
       "      <th>大气湿度</th>\n",
       "      <th>大气温度</th>\n",
       "      <th>风速</th>\n",
       "      <th>time</th>\n",
       "      <th>duration</th>\n",
       "    </tr>\n",
       "  </thead>\n",
       "  <tbody>\n",
       "    <tr>\n",
       "      <th>count</th>\n",
       "      <td>11437.000000</td>\n",
       "      <td>11437.000000</td>\n",
       "      <td>11437.000000</td>\n",
       "      <td>11437.000000</td>\n",
       "      <td>11437.000000</td>\n",
       "      <td>11437.000000</td>\n",
       "      <td>11437.000000</td>\n",
       "      <td>11437.000000</td>\n",
       "      <td>11437.000000</td>\n",
       "      <td>11437.000000</td>\n",
       "      <td>11437.000000</td>\n",
       "      <td>11437.000000</td>\n",
       "      <td>11437.000000</td>\n",
       "      <td>11437.000000</td>\n",
       "      <td>1.143700e+04</td>\n",
       "      <td>11437</td>\n",
       "      <td>11437.000000</td>\n",
       "    </tr>\n",
       "    <tr>\n",
       "      <th>mean</th>\n",
       "      <td>139.058289</td>\n",
       "      <td>62.581067</td>\n",
       "      <td>34.589047</td>\n",
       "      <td>26.508754</td>\n",
       "      <td>32.015774</td>\n",
       "      <td>8.037296</td>\n",
       "      <td>101.850400</td>\n",
       "      <td>30.551121</td>\n",
       "      <td>27.311207</td>\n",
       "      <td>2.113133</td>\n",
       "      <td>0.801241</td>\n",
       "      <td>1012.535302</td>\n",
       "      <td>65.696977</td>\n",
       "      <td>16.259896</td>\n",
       "      <td>2.461683e+00</td>\n",
       "      <td>42 days 23:56:45.001311532</td>\n",
       "      <td>61916.750022</td>\n",
       "    </tr>\n",
       "    <tr>\n",
       "      <th>std</th>\n",
       "      <td>77.974586</td>\n",
       "      <td>28.772283</td>\n",
       "      <td>18.746774</td>\n",
       "      <td>1.639887</td>\n",
       "      <td>9.800393</td>\n",
       "      <td>3.071383</td>\n",
       "      <td>52.339394</td>\n",
       "      <td>15.051652</td>\n",
       "      <td>12.958800</td>\n",
       "      <td>2.449024</td>\n",
       "      <td>0.256533</td>\n",
       "      <td>6.294068</td>\n",
       "      <td>21.037003</td>\n",
       "      <td>5.811326</td>\n",
       "      <td>1.313624e+00</td>\n",
       "      <td>26 days 18:18:18.049959448</td>\n",
       "      <td>38538.300833</td>\n",
       "    </tr>\n",
       "    <tr>\n",
       "      <th>min</th>\n",
       "      <td>0.000000</td>\n",
       "      <td>6.100000</td>\n",
       "      <td>4.016667</td>\n",
       "      <td>19.296667</td>\n",
       "      <td>13.613333</td>\n",
       "      <td>2.310000</td>\n",
       "      <td>-9.226667</td>\n",
       "      <td>7.128333</td>\n",
       "      <td>6.446667</td>\n",
       "      <td>0.140000</td>\n",
       "      <td>-0.083333</td>\n",
       "      <td>994.216667</td>\n",
       "      <td>18.850000</td>\n",
       "      <td>0.466667</td>\n",
       "      <td>4.450144e-15</td>\n",
       "      <td>0 days 00:10:00</td>\n",
       "      <td>10.000000</td>\n",
       "    </tr>\n",
       "    <tr>\n",
       "      <th>25%</th>\n",
       "      <td>83.333333</td>\n",
       "      <td>40.316667</td>\n",
       "      <td>20.916667</td>\n",
       "      <td>25.913333</td>\n",
       "      <td>24.390000</td>\n",
       "      <td>5.728333</td>\n",
       "      <td>64.030000</td>\n",
       "      <td>20.561667</td>\n",
       "      <td>18.318333</td>\n",
       "      <td>1.083333</td>\n",
       "      <td>0.630000</td>\n",
       "      <td>1007.516667</td>\n",
       "      <td>49.316667</td>\n",
       "      <td>11.733333</td>\n",
       "      <td>1.433333e+00</td>\n",
       "      <td>19 days 21:30:00</td>\n",
       "      <td>28650.000000</td>\n",
       "    </tr>\n",
       "    <tr>\n",
       "      <th>50%</th>\n",
       "      <td>135.666667</td>\n",
       "      <td>57.800000</td>\n",
       "      <td>30.583333</td>\n",
       "      <td>26.800000</td>\n",
       "      <td>29.803333</td>\n",
       "      <td>7.580000</td>\n",
       "      <td>94.043333</td>\n",
       "      <td>26.751667</td>\n",
       "      <td>24.175000</td>\n",
       "      <td>1.391667</td>\n",
       "      <td>0.761667</td>\n",
       "      <td>1013.083333</td>\n",
       "      <td>65.783333</td>\n",
       "      <td>16.166667</td>\n",
       "      <td>2.316667e+00</td>\n",
       "      <td>40 days 12:10:00</td>\n",
       "      <td>58330.000000</td>\n",
       "    </tr>\n",
       "    <tr>\n",
       "      <th>75%</th>\n",
       "      <td>175.166667</td>\n",
       "      <td>80.133333</td>\n",
       "      <td>43.983333</td>\n",
       "      <td>27.558333</td>\n",
       "      <td>37.168333</td>\n",
       "      <td>9.588333</td>\n",
       "      <td>133.053333</td>\n",
       "      <td>36.636667</td>\n",
       "      <td>33.001667</td>\n",
       "      <td>2.270000</td>\n",
       "      <td>0.935000</td>\n",
       "      <td>1017.266667</td>\n",
       "      <td>83.333333</td>\n",
       "      <td>20.616667</td>\n",
       "      <td>3.300000e+00</td>\n",
       "      <td>70 days 02:20:00</td>\n",
       "      <td>100940.000000</td>\n",
       "    </tr>\n",
       "    <tr>\n",
       "      <th>max</th>\n",
       "      <td>354.000000</td>\n",
       "      <td>191.933333</td>\n",
       "      <td>111.016667</td>\n",
       "      <td>38.848333</td>\n",
       "      <td>59.465000</td>\n",
       "      <td>26.795000</td>\n",
       "      <td>510.740000</td>\n",
       "      <td>152.298333</td>\n",
       "      <td>104.753333</td>\n",
       "      <td>47.725000</td>\n",
       "      <td>2.743333</td>\n",
       "      <td>1027.050000</td>\n",
       "      <td>99.000000</td>\n",
       "      <td>30.200000</td>\n",
       "      <td>7.550000e+00</td>\n",
       "      <td>90 days 00:00:00</td>\n",
       "      <td>129600.000000</td>\n",
       "    </tr>\n",
       "  </tbody>\n",
       "</table>\n",
       "</div>"
      ],
      "text/plain": [
       "                 风向          PM10         PM2.5          室内温度          室内湿度  \\\n",
       "count  11437.000000  11437.000000  11437.000000  11437.000000  11437.000000   \n",
       "mean     139.058289     62.581067     34.589047     26.508754     32.015774   \n",
       "std       77.974586     28.772283     18.746774      1.639887      9.800393   \n",
       "min        0.000000      6.100000      4.016667     19.296667     13.613333   \n",
       "25%       83.333333     40.316667     20.916667     25.913333     24.390000   \n",
       "50%      135.666667     57.800000     30.583333     26.800000     29.803333   \n",
       "75%      175.166667     80.133333     43.983333     27.558333     37.168333   \n",
       "max      354.000000    191.933333    111.016667     38.848333     59.465000   \n",
       "\n",
       "                SO2            O3           NOx           NO2            NO  \\\n",
       "count  11437.000000  11437.000000  11437.000000  11437.000000  11437.000000   \n",
       "mean       8.037296    101.850400     30.551121     27.311207      2.113133   \n",
       "std        3.071383     52.339394     15.051652     12.958800      2.449024   \n",
       "min        2.310000     -9.226667      7.128333      6.446667      0.140000   \n",
       "25%        5.728333     64.030000     20.561667     18.318333      1.083333   \n",
       "50%        7.580000     94.043333     26.751667     24.175000      1.391667   \n",
       "75%        9.588333    133.053333     36.636667     33.001667      2.270000   \n",
       "max       26.795000    510.740000    152.298333    104.753333     47.725000   \n",
       "\n",
       "                 CO            气压          大气湿度          大气温度            风速  \\\n",
       "count  11437.000000  11437.000000  11437.000000  11437.000000  1.143700e+04   \n",
       "mean       0.801241   1012.535302     65.696977     16.259896  2.461683e+00   \n",
       "std        0.256533      6.294068     21.037003      5.811326  1.313624e+00   \n",
       "min       -0.083333    994.216667     18.850000      0.466667  4.450144e-15   \n",
       "25%        0.630000   1007.516667     49.316667     11.733333  1.433333e+00   \n",
       "50%        0.761667   1013.083333     65.783333     16.166667  2.316667e+00   \n",
       "75%        0.935000   1017.266667     83.333333     20.616667  3.300000e+00   \n",
       "max        2.743333   1027.050000     99.000000     30.200000  7.550000e+00   \n",
       "\n",
       "                             time       duration  \n",
       "count                       11437   11437.000000  \n",
       "mean   42 days 23:56:45.001311532   61916.750022  \n",
       "std    26 days 18:18:18.049959448   38538.300833  \n",
       "min               0 days 00:10:00      10.000000  \n",
       "25%              19 days 21:30:00   28650.000000  \n",
       "50%              40 days 12:10:00   58330.000000  \n",
       "75%              70 days 02:20:00  100940.000000  \n",
       "max              90 days 00:00:00  129600.000000  "
      ]
     },
     "execution_count": 10,
     "metadata": {},
     "output_type": "execute_result"
    }
   ],
   "source": [
    "# 查看一下数据情况，气压/duration的最大、最小值差了很多，考虑是否标准化\n",
    "d_train.describe()"
   ]
  },
  {
   "cell_type": "markdown",
   "metadata": {},
   "source": [
    "*build model*"
   ]
  },
  {
   "cell_type": "markdown",
   "metadata": {},
   "source": [
    "# Step 2: create X,Y and train-test split"
   ]
  },
  {
   "cell_type": "markdown",
   "metadata": {},
   "source": [
    "Note: we should split the dataset first, and then apply the standardization method\n",
    "\n",
    "Reason: Don't forget that testing data points represent real-world data. Feature normalization (or data standardization) of the explanatory (or predictor) variables is a technique used to center and normalise the data by subtracting the mean and dividing by the variance. If you take the mean and variance of the whole dataset you'll be introducing future information into the training explanatory variables (i.e. the mean and variance).\n",
    "\n",
    "Therefore, you should perform feature normalisation over the training data. Then perform normalisation on testing instances as well, but this time using the mean and variance of training explanatory variables. In this way, we can test and evaluate whether our model can generalize well to new, unseen data points."
   ]
  },
  {
   "cell_type": "code",
   "execution_count": 10,
   "metadata": {},
   "outputs": [
    {
     "data": {
      "text/plain": [
       "(11437, 18)"
      ]
     },
     "execution_count": 10,
     "metadata": {},
     "output_type": "execute_result"
    }
   ],
   "source": [
    "d_train.shape"
   ]
  },
  {
   "cell_type": "code",
   "execution_count": 11,
   "metadata": {},
   "outputs": [],
   "source": [
    "# create X and Y and run the basic regression model\n",
    "y = d_train['PM2.5']  # y:PM2.5\n",
    "X= d_train.drop(['PM2.5','t_ob','time'], axis=1)\n",
    "#X= d_train.drop(['PM2.5','t_ob','time'], axis=1) #x:other variable"
   ]
  },
  {
   "cell_type": "code",
   "execution_count": 12,
   "metadata": {},
   "outputs": [
    {
     "data": {
      "text/html": [
       "<div>\n",
       "<style scoped>\n",
       "    .dataframe tbody tr th:only-of-type {\n",
       "        vertical-align: middle;\n",
       "    }\n",
       "\n",
       "    .dataframe tbody tr th {\n",
       "        vertical-align: top;\n",
       "    }\n",
       "\n",
       "    .dataframe thead th {\n",
       "        text-align: right;\n",
       "    }\n",
       "</style>\n",
       "<table border=\"1\" class=\"dataframe\">\n",
       "  <thead>\n",
       "    <tr style=\"text-align: right;\">\n",
       "      <th></th>\n",
       "      <th>风向</th>\n",
       "      <th>PM10</th>\n",
       "      <th>室内温度</th>\n",
       "      <th>室内湿度</th>\n",
       "      <th>SO2</th>\n",
       "      <th>O3</th>\n",
       "      <th>NOx</th>\n",
       "      <th>NO2</th>\n",
       "      <th>NO</th>\n",
       "      <th>CO</th>\n",
       "      <th>气压</th>\n",
       "      <th>大气湿度</th>\n",
       "      <th>大气温度</th>\n",
       "      <th>风速</th>\n",
       "      <th>duration</th>\n",
       "    </tr>\n",
       "  </thead>\n",
       "  <tbody>\n",
       "    <tr>\n",
       "      <th>0</th>\n",
       "      <td>338.0</td>\n",
       "      <td>32.70</td>\n",
       "      <td>25.0</td>\n",
       "      <td>31.35</td>\n",
       "      <td>3.74</td>\n",
       "      <td>38.230</td>\n",
       "      <td>28.54</td>\n",
       "      <td>27.04</td>\n",
       "      <td>0.98</td>\n",
       "      <td>0.760</td>\n",
       "      <td>1015.20</td>\n",
       "      <td>91.0</td>\n",
       "      <td>9.3</td>\n",
       "      <td>1.4</td>\n",
       "      <td>10.0</td>\n",
       "    </tr>\n",
       "    <tr>\n",
       "      <th>1</th>\n",
       "      <td>173.5</td>\n",
       "      <td>31.85</td>\n",
       "      <td>25.0</td>\n",
       "      <td>31.39</td>\n",
       "      <td>3.94</td>\n",
       "      <td>36.265</td>\n",
       "      <td>28.05</td>\n",
       "      <td>26.55</td>\n",
       "      <td>0.98</td>\n",
       "      <td>0.745</td>\n",
       "      <td>1015.15</td>\n",
       "      <td>91.2</td>\n",
       "      <td>9.3</td>\n",
       "      <td>1.0</td>\n",
       "      <td>20.0</td>\n",
       "    </tr>\n",
       "  </tbody>\n",
       "</table>\n",
       "</div>"
      ],
      "text/plain": [
       "      风向   PM10  室内温度   室内湿度   SO2      O3    NOx    NO2    NO     CO  \\\n",
       "0  338.0  32.70  25.0  31.35  3.74  38.230  28.54  27.04  0.98  0.760   \n",
       "1  173.5  31.85  25.0  31.39  3.94  36.265  28.05  26.55  0.98  0.745   \n",
       "\n",
       "        气压  大气湿度  大气温度   风速  duration  \n",
       "0  1015.20  91.0   9.3  1.4      10.0  \n",
       "1  1015.15  91.2   9.3  1.0      20.0  "
      ]
     },
     "execution_count": 12,
     "metadata": {},
     "output_type": "execute_result"
    }
   ],
   "source": [
    "X.head(2)"
   ]
  },
  {
   "cell_type": "code",
   "execution_count": 13,
   "metadata": {},
   "outputs": [
    {
     "data": {
      "text/plain": [
       "0    23.4\n",
       "Name: PM2.5, dtype: float64"
      ]
     },
     "execution_count": 13,
     "metadata": {},
     "output_type": "execute_result"
    }
   ],
   "source": [
    "y.head(1)"
   ]
  },
  {
   "cell_type": "markdown",
   "metadata": {},
   "source": [
    "# build a more complex model-random forest"
   ]
  },
  {
   "cell_type": "code",
   "execution_count": 14,
   "metadata": {},
   "outputs": [],
   "source": [
    "# 80% train, 20% test  \n",
    "# split the dataset in training set and test set\n",
    "from sklearn.model_selection import train_test_split\n",
    "X_train_rf, X_test_rf, y_train_rf, y_test_rf = train_test_split(X, y, test_size=0.2, random_state=1)\n",
    "#X_val_rf, X_test_rf, y_val_rf, y_test_rf = train_test_split(X_test_rf, y_test_rf, test_size=0.5, random_state=1)"
   ]
  },
  {
   "cell_type": "code",
   "execution_count": 15,
   "metadata": {},
   "outputs": [],
   "source": [
    "# 计算均值和方差，用于之后的标准化\n",
    "training_mean = np.mean(X_train_rf,axis=0)\n",
    "training_std=np.std(X_train_rf,axis=0)"
   ]
  },
  {
   "cell_type": "code",
   "execution_count": 16,
   "metadata": {},
   "outputs": [
    {
     "data": {
      "text/plain": [
       "Index(['风向', 'PM10', '室内温度', '室内湿度', 'SO2', 'O3', 'NOx', 'NO2', 'NO', 'CO',\n",
       "       '气压', '大气湿度', '大气温度', '风速', 'duration'],\n",
       "      dtype='object')"
      ]
     },
     "execution_count": 16,
     "metadata": {},
     "output_type": "execute_result"
    }
   ],
   "source": [
    "X_train_rf.columns"
   ]
  },
  {
   "cell_type": "code",
   "execution_count": 17,
   "metadata": {
    "scrolled": true
   },
   "outputs": [
    {
     "name": "stderr",
     "output_type": "stream",
     "text": [
      "<ipython-input-17-0988a327dae6>:5: SettingWithCopyWarning: \n",
      "A value is trying to be set on a copy of a slice from a DataFrame.\n",
      "Try using .loc[row_indexer,col_indexer] = value instead\n",
      "\n",
      "See the caveats in the documentation: https://pandas.pydata.org/pandas-docs/stable/user_guide/indexing.html#returning-a-view-versus-a-copy\n",
      "  X_train_rf[i]=(X_train_rf[i]-training_mean[i])/training_std[i]\n",
      "<ipython-input-17-0988a327dae6>:8: SettingWithCopyWarning: \n",
      "A value is trying to be set on a copy of a slice from a DataFrame.\n",
      "Try using .loc[row_indexer,col_indexer] = value instead\n",
      "\n",
      "See the caveats in the documentation: https://pandas.pydata.org/pandas-docs/stable/user_guide/indexing.html#returning-a-view-versus-a-copy\n",
      "  X_test_rf[i]=(X_test_rf[i]-training_mean[i])/training_std[i]\n"
     ]
    }
   ],
   "source": [
    "data_columns=['风向', 'PM10', '室内温度', '室内湿度', 'SO2', 'O3', 'NOx', 'NO2', 'NO',\n",
    "       'CO', '气压', '大气湿度', '大气温度', '风速', 'duration']\n",
    "# 标准化training data\n",
    "for i in data_columns:\n",
    "    X_train_rf[i]=(X_train_rf[i]-training_mean[i])/training_std[i]\n",
    "# 标准化test data\n",
    "for i in data_columns:\n",
    "    X_test_rf[i]=(X_test_rf[i]-training_mean[i])/training_std[i]"
   ]
  },
  {
   "cell_type": "code",
   "execution_count": 19,
   "metadata": {},
   "outputs": [],
   "source": [
    "'''\n",
    "for col in ['风向', 'PM10', 'PM2.5', '室内温度', '室内湿度', 'SO2', 'O3', 'NOx',\n",
    "       'NO2', 'NO', 'CO', '气压', '大气湿度', '大气温度', '风速']:\n",
    "    stdscl = StandardScaler()\n",
    "    d_train[col] = stdscl.fit_transform(d_train[col].values.reshape(-1,1))'''"
   ]
  },
  {
   "cell_type": "code",
   "execution_count": 18,
   "metadata": {},
   "outputs": [
    {
     "data": {
      "text/html": [
       "<div>\n",
       "<style scoped>\n",
       "    .dataframe tbody tr th:only-of-type {\n",
       "        vertical-align: middle;\n",
       "    }\n",
       "\n",
       "    .dataframe tbody tr th {\n",
       "        vertical-align: top;\n",
       "    }\n",
       "\n",
       "    .dataframe thead th {\n",
       "        text-align: right;\n",
       "    }\n",
       "</style>\n",
       "<table border=\"1\" class=\"dataframe\">\n",
       "  <thead>\n",
       "    <tr style=\"text-align: right;\">\n",
       "      <th></th>\n",
       "      <th>t_ob</th>\n",
       "      <th>风向</th>\n",
       "      <th>PM10</th>\n",
       "      <th>PM2.5</th>\n",
       "      <th>室内温度</th>\n",
       "      <th>室内湿度</th>\n",
       "      <th>SO2</th>\n",
       "      <th>O3</th>\n",
       "      <th>NOx</th>\n",
       "      <th>NO2</th>\n",
       "      <th>NO</th>\n",
       "      <th>CO</th>\n",
       "      <th>气压</th>\n",
       "      <th>大气湿度</th>\n",
       "      <th>大气温度</th>\n",
       "      <th>风速</th>\n",
       "      <th>time</th>\n",
       "      <th>duration</th>\n",
       "    </tr>\n",
       "  </thead>\n",
       "  <tbody>\n",
       "    <tr>\n",
       "      <th>0</th>\n",
       "      <td>2020-03-01 00:10:00</td>\n",
       "      <td>338.0</td>\n",
       "      <td>32.7</td>\n",
       "      <td>23.4</td>\n",
       "      <td>25.0</td>\n",
       "      <td>31.35</td>\n",
       "      <td>3.74</td>\n",
       "      <td>38.23</td>\n",
       "      <td>28.54</td>\n",
       "      <td>27.04</td>\n",
       "      <td>0.98</td>\n",
       "      <td>0.76</td>\n",
       "      <td>1015.2</td>\n",
       "      <td>91.0</td>\n",
       "      <td>9.3</td>\n",
       "      <td>1.4</td>\n",
       "      <td>0 days 00:10:00</td>\n",
       "      <td>10.0</td>\n",
       "    </tr>\n",
       "  </tbody>\n",
       "</table>\n",
       "</div>"
      ],
      "text/plain": [
       "                 t_ob     风向  PM10  PM2.5  室内温度   室内湿度   SO2     O3    NOx  \\\n",
       "0 2020-03-01 00:10:00  338.0  32.7   23.4  25.0  31.35  3.74  38.23  28.54   \n",
       "\n",
       "     NO2    NO    CO      气压  大气湿度  大气温度   风速            time  duration  \n",
       "0  27.04  0.98  0.76  1015.2  91.0   9.3  1.4 0 days 00:10:00      10.0  "
      ]
     },
     "execution_count": 18,
     "metadata": {},
     "output_type": "execute_result"
    }
   ],
   "source": [
    "d_train.head(1)"
   ]
  },
  {
   "cell_type": "code",
   "execution_count": 19,
   "metadata": {},
   "outputs": [
    {
     "data": {
      "text/html": [
       "<div>\n",
       "<style scoped>\n",
       "    .dataframe tbody tr th:only-of-type {\n",
       "        vertical-align: middle;\n",
       "    }\n",
       "\n",
       "    .dataframe tbody tr th {\n",
       "        vertical-align: top;\n",
       "    }\n",
       "\n",
       "    .dataframe thead th {\n",
       "        text-align: right;\n",
       "    }\n",
       "</style>\n",
       "<table border=\"1\" class=\"dataframe\">\n",
       "  <thead>\n",
       "    <tr style=\"text-align: right;\">\n",
       "      <th></th>\n",
       "      <th>风向</th>\n",
       "      <th>PM10</th>\n",
       "      <th>室内温度</th>\n",
       "      <th>室内湿度</th>\n",
       "      <th>SO2</th>\n",
       "      <th>O3</th>\n",
       "      <th>NOx</th>\n",
       "      <th>NO2</th>\n",
       "      <th>NO</th>\n",
       "      <th>CO</th>\n",
       "      <th>气压</th>\n",
       "      <th>大气湿度</th>\n",
       "      <th>大气温度</th>\n",
       "      <th>风速</th>\n",
       "      <th>duration</th>\n",
       "    </tr>\n",
       "  </thead>\n",
       "  <tbody>\n",
       "    <tr>\n",
       "      <th>3283</th>\n",
       "      <td>-0.924784</td>\n",
       "      <td>-0.946577</td>\n",
       "      <td>0.861878</td>\n",
       "      <td>-1.304804</td>\n",
       "      <td>-0.442527</td>\n",
       "      <td>-0.446259</td>\n",
       "      <td>0.560918</td>\n",
       "      <td>0.807657</td>\n",
       "      <td>-0.567475</td>\n",
       "      <td>-1.245937</td>\n",
       "      <td>0.606049</td>\n",
       "      <td>-1.366499</td>\n",
       "      <td>-0.16642</td>\n",
       "      <td>0.786297</td>\n",
       "      <td>-0.761526</td>\n",
       "    </tr>\n",
       "  </tbody>\n",
       "</table>\n",
       "</div>"
      ],
      "text/plain": [
       "            风向      PM10      室内温度      室内湿度       SO2        O3       NOx  \\\n",
       "3283 -0.924784 -0.946577  0.861878 -1.304804 -0.442527 -0.446259  0.560918   \n",
       "\n",
       "           NO2        NO        CO        气压      大气湿度     大气温度        风速  \\\n",
       "3283  0.807657 -0.567475 -1.245937  0.606049 -1.366499 -0.16642  0.786297   \n",
       "\n",
       "      duration  \n",
       "3283 -0.761526  "
      ]
     },
     "execution_count": 19,
     "metadata": {},
     "output_type": "execute_result"
    }
   ],
   "source": [
    "X_train_rf.head(1)"
   ]
  },
  {
   "cell_type": "code",
   "execution_count": 20,
   "metadata": {},
   "outputs": [],
   "source": [
    "# random forest\n",
    "# 1.import the model\n",
    "from sklearn.ensemble import RandomForestRegressor"
   ]
  },
  {
   "cell_type": "code",
   "execution_count": 21,
   "metadata": {},
   "outputs": [],
   "source": [
    "# 2.initialize the random forest model\n",
    "# 之前的方法training set和test set上R2都比较高，0.99+，但是最终在X_ind_test上计算的R2只有0.83+\n",
    "# 考虑是否为过拟合问题，增加min_samples_leaf进行修剪，先设为5\n",
    "# 未修剪之前：training set 0.99815, test set 0.98692\n",
    "# 修剪之后：training set 0.99645 test set 0.98329\n",
    "rf = RandomForestRegressor(n_estimators=100,max_depth=30,max_features='sqrt')  #n_estimators: hyper-parameter, represent the number of trees, default=100,test it\n",
    "#the number of trees in the forest (n_estimators) and the number of features considered for splitting at each leaf node (max_features)\n",
    "#n_estimators = number of trees in the foreset\n",
    "#max_features = max number of features considered for splitting a node, auto/sqrt/log2\n",
    "#max_depth = max number of levels in each decision tree\n",
    "#min_samples_split = min number of data points placed in a node before the node is split\n",
    "#min_samples_leaf = min number of data points allowed in a leaf node\n",
    "#bootstrap = method for sampling data points (with or without replacement)"
   ]
  },
  {
   "cell_type": "code",
   "execution_count": 22,
   "metadata": {},
   "outputs": [
    {
     "data": {
      "text/plain": [
       "0.9987394779463152"
      ]
     },
     "execution_count": 22,
     "metadata": {},
     "output_type": "execute_result"
    }
   ],
   "source": [
    "#3.fit the model to the training set\n",
    "model_rf=rf.fit(X_train_rf,y_train_rf)\n",
    "#4. evaluate the performance of the model\n",
    "rf.score(X_train_rf,y_train_rf)"
   ]
  },
  {
   "cell_type": "code",
   "execution_count": 23,
   "metadata": {},
   "outputs": [
    {
     "name": "stdout",
     "output_type": "stream",
     "text": [
      "0.9986057063699388\n"
     ]
    }
   ],
   "source": [
    "# test n_estimators as 80,120 manually\n",
    "rf2 = RandomForestRegressor(n_estimators=80,max_depth=50,max_features='sqrt')\n",
    "# fit the model to the training set\n",
    "model_rf2=rf2.fit(X_train_rf,y_train_rf)\n",
    "print(rf2.score(X_train_rf, y_train_rf))"
   ]
  },
  {
   "cell_type": "markdown",
   "metadata": {},
   "source": [
    "#### hyper-parameter tuning"
   ]
  },
  {
   "cell_type": "markdown",
   "metadata": {},
   "source": [
    "###### method 2: cross validation"
   ]
  },
  {
   "cell_type": "code",
   "execution_count": 65,
   "metadata": {
    "collapsed": true
   },
   "outputs": [
    {
     "ename": "KeyboardInterrupt",
     "evalue": "",
     "output_type": "error",
     "traceback": [
      "\u001b[1;31m---------------------------------------------------------------------------\u001b[0m",
      "\u001b[1;31mKeyboardInterrupt\u001b[0m                         Traceback (most recent call last)",
      "\u001b[1;32m<ipython-input-65-42c7d0863609>\u001b[0m in \u001b[0;36m<module>\u001b[1;34m\u001b[0m\n\u001b[0;32m     17\u001b[0m \u001b[1;33m\u001b[0m\u001b[0m\n\u001b[0;32m     18\u001b[0m \u001b[1;31m# fit the model on the training set\u001b[0m\u001b[1;33m\u001b[0m\u001b[1;33m\u001b[0m\u001b[1;33m\u001b[0m\u001b[0m\n\u001b[1;32m---> 19\u001b[1;33m \u001b[0mclf\u001b[0m\u001b[1;33m.\u001b[0m\u001b[0mfit\u001b[0m\u001b[1;33m(\u001b[0m\u001b[0mX_train_rf\u001b[0m\u001b[1;33m,\u001b[0m \u001b[0my_train_rf\u001b[0m\u001b[1;33m)\u001b[0m\u001b[1;33m\u001b[0m\u001b[1;33m\u001b[0m\u001b[0m\n\u001b[0m\u001b[0;32m     20\u001b[0m \u001b[1;33m\u001b[0m\u001b[0m\n\u001b[0;32m     21\u001b[0m \u001b[1;31m# we can query the best parameter value and its accuracy score\u001b[0m\u001b[1;33m\u001b[0m\u001b[1;33m\u001b[0m\u001b[1;33m\u001b[0m\u001b[0m\n",
      "\u001b[1;32mD:\\anaconda\\envs\\sds2020\\lib\\site-packages\\sklearn\\utils\\validation.py\u001b[0m in \u001b[0;36minner_f\u001b[1;34m(*args, **kwargs)\u001b[0m\n\u001b[0;32m     61\u001b[0m             \u001b[0mextra_args\u001b[0m \u001b[1;33m=\u001b[0m \u001b[0mlen\u001b[0m\u001b[1;33m(\u001b[0m\u001b[0margs\u001b[0m\u001b[1;33m)\u001b[0m \u001b[1;33m-\u001b[0m \u001b[0mlen\u001b[0m\u001b[1;33m(\u001b[0m\u001b[0mall_args\u001b[0m\u001b[1;33m)\u001b[0m\u001b[1;33m\u001b[0m\u001b[1;33m\u001b[0m\u001b[0m\n\u001b[0;32m     62\u001b[0m             \u001b[1;32mif\u001b[0m \u001b[0mextra_args\u001b[0m \u001b[1;33m<=\u001b[0m \u001b[1;36m0\u001b[0m\u001b[1;33m:\u001b[0m\u001b[1;33m\u001b[0m\u001b[1;33m\u001b[0m\u001b[0m\n\u001b[1;32m---> 63\u001b[1;33m                 \u001b[1;32mreturn\u001b[0m \u001b[0mf\u001b[0m\u001b[1;33m(\u001b[0m\u001b[1;33m*\u001b[0m\u001b[0margs\u001b[0m\u001b[1;33m,\u001b[0m \u001b[1;33m**\u001b[0m\u001b[0mkwargs\u001b[0m\u001b[1;33m)\u001b[0m\u001b[1;33m\u001b[0m\u001b[1;33m\u001b[0m\u001b[0m\n\u001b[0m\u001b[0;32m     64\u001b[0m \u001b[1;33m\u001b[0m\u001b[0m\n\u001b[0;32m     65\u001b[0m             \u001b[1;31m# extra_args > 0\u001b[0m\u001b[1;33m\u001b[0m\u001b[1;33m\u001b[0m\u001b[1;33m\u001b[0m\u001b[0m\n",
      "\u001b[1;32mD:\\anaconda\\envs\\sds2020\\lib\\site-packages\\sklearn\\model_selection\\_search.py\u001b[0m in \u001b[0;36mfit\u001b[1;34m(self, X, y, groups, **fit_params)\u001b[0m\n\u001b[0;32m    839\u001b[0m                 \u001b[1;32mreturn\u001b[0m \u001b[0mresults\u001b[0m\u001b[1;33m\u001b[0m\u001b[1;33m\u001b[0m\u001b[0m\n\u001b[0;32m    840\u001b[0m \u001b[1;33m\u001b[0m\u001b[0m\n\u001b[1;32m--> 841\u001b[1;33m             \u001b[0mself\u001b[0m\u001b[1;33m.\u001b[0m\u001b[0m_run_search\u001b[0m\u001b[1;33m(\u001b[0m\u001b[0mevaluate_candidates\u001b[0m\u001b[1;33m)\u001b[0m\u001b[1;33m\u001b[0m\u001b[1;33m\u001b[0m\u001b[0m\n\u001b[0m\u001b[0;32m    842\u001b[0m \u001b[1;33m\u001b[0m\u001b[0m\n\u001b[0;32m    843\u001b[0m             \u001b[1;31m# multimetric is determined here because in the case of a callable\u001b[0m\u001b[1;33m\u001b[0m\u001b[1;33m\u001b[0m\u001b[1;33m\u001b[0m\u001b[0m\n",
      "\u001b[1;32mD:\\anaconda\\envs\\sds2020\\lib\\site-packages\\sklearn\\model_selection\\_search.py\u001b[0m in \u001b[0;36m_run_search\u001b[1;34m(self, evaluate_candidates)\u001b[0m\n\u001b[0;32m   1286\u001b[0m     \u001b[1;32mdef\u001b[0m \u001b[0m_run_search\u001b[0m\u001b[1;33m(\u001b[0m\u001b[0mself\u001b[0m\u001b[1;33m,\u001b[0m \u001b[0mevaluate_candidates\u001b[0m\u001b[1;33m)\u001b[0m\u001b[1;33m:\u001b[0m\u001b[1;33m\u001b[0m\u001b[1;33m\u001b[0m\u001b[0m\n\u001b[0;32m   1287\u001b[0m         \u001b[1;34m\"\"\"Search all candidates in param_grid\"\"\"\u001b[0m\u001b[1;33m\u001b[0m\u001b[1;33m\u001b[0m\u001b[0m\n\u001b[1;32m-> 1288\u001b[1;33m         \u001b[0mevaluate_candidates\u001b[0m\u001b[1;33m(\u001b[0m\u001b[0mParameterGrid\u001b[0m\u001b[1;33m(\u001b[0m\u001b[0mself\u001b[0m\u001b[1;33m.\u001b[0m\u001b[0mparam_grid\u001b[0m\u001b[1;33m)\u001b[0m\u001b[1;33m)\u001b[0m\u001b[1;33m\u001b[0m\u001b[1;33m\u001b[0m\u001b[0m\n\u001b[0m\u001b[0;32m   1289\u001b[0m \u001b[1;33m\u001b[0m\u001b[0m\n\u001b[0;32m   1290\u001b[0m \u001b[1;33m\u001b[0m\u001b[0m\n",
      "\u001b[1;32mD:\\anaconda\\envs\\sds2020\\lib\\site-packages\\sklearn\\model_selection\\_search.py\u001b[0m in \u001b[0;36mevaluate_candidates\u001b[1;34m(candidate_params, cv, more_results)\u001b[0m\n\u001b[0;32m    793\u001b[0m                               n_splits, n_candidates, n_candidates * n_splits))\n\u001b[0;32m    794\u001b[0m \u001b[1;33m\u001b[0m\u001b[0m\n\u001b[1;32m--> 795\u001b[1;33m                 out = parallel(delayed(_fit_and_score)(clone(base_estimator),\n\u001b[0m\u001b[0;32m    796\u001b[0m                                                        \u001b[0mX\u001b[0m\u001b[1;33m,\u001b[0m \u001b[0my\u001b[0m\u001b[1;33m,\u001b[0m\u001b[1;33m\u001b[0m\u001b[1;33m\u001b[0m\u001b[0m\n\u001b[0;32m    797\u001b[0m                                                        \u001b[0mtrain\u001b[0m\u001b[1;33m=\u001b[0m\u001b[0mtrain\u001b[0m\u001b[1;33m,\u001b[0m \u001b[0mtest\u001b[0m\u001b[1;33m=\u001b[0m\u001b[0mtest\u001b[0m\u001b[1;33m,\u001b[0m\u001b[1;33m\u001b[0m\u001b[1;33m\u001b[0m\u001b[0m\n",
      "\u001b[1;32mD:\\anaconda\\envs\\sds2020\\lib\\site-packages\\joblib\\parallel.py\u001b[0m in \u001b[0;36m__call__\u001b[1;34m(self, iterable)\u001b[0m\n\u001b[0;32m   1042\u001b[0m                 \u001b[0mself\u001b[0m\u001b[1;33m.\u001b[0m\u001b[0m_iterating\u001b[0m \u001b[1;33m=\u001b[0m \u001b[0mself\u001b[0m\u001b[1;33m.\u001b[0m\u001b[0m_original_iterator\u001b[0m \u001b[1;32mis\u001b[0m \u001b[1;32mnot\u001b[0m \u001b[1;32mNone\u001b[0m\u001b[1;33m\u001b[0m\u001b[1;33m\u001b[0m\u001b[0m\n\u001b[0;32m   1043\u001b[0m \u001b[1;33m\u001b[0m\u001b[0m\n\u001b[1;32m-> 1044\u001b[1;33m             \u001b[1;32mwhile\u001b[0m \u001b[0mself\u001b[0m\u001b[1;33m.\u001b[0m\u001b[0mdispatch_one_batch\u001b[0m\u001b[1;33m(\u001b[0m\u001b[0miterator\u001b[0m\u001b[1;33m)\u001b[0m\u001b[1;33m:\u001b[0m\u001b[1;33m\u001b[0m\u001b[1;33m\u001b[0m\u001b[0m\n\u001b[0m\u001b[0;32m   1045\u001b[0m                 \u001b[1;32mpass\u001b[0m\u001b[1;33m\u001b[0m\u001b[1;33m\u001b[0m\u001b[0m\n\u001b[0;32m   1046\u001b[0m \u001b[1;33m\u001b[0m\u001b[0m\n",
      "\u001b[1;32mD:\\anaconda\\envs\\sds2020\\lib\\site-packages\\joblib\\parallel.py\u001b[0m in \u001b[0;36mdispatch_one_batch\u001b[1;34m(self, iterator)\u001b[0m\n\u001b[0;32m    857\u001b[0m                 \u001b[1;32mreturn\u001b[0m \u001b[1;32mFalse\u001b[0m\u001b[1;33m\u001b[0m\u001b[1;33m\u001b[0m\u001b[0m\n\u001b[0;32m    858\u001b[0m             \u001b[1;32melse\u001b[0m\u001b[1;33m:\u001b[0m\u001b[1;33m\u001b[0m\u001b[1;33m\u001b[0m\u001b[0m\n\u001b[1;32m--> 859\u001b[1;33m                 \u001b[0mself\u001b[0m\u001b[1;33m.\u001b[0m\u001b[0m_dispatch\u001b[0m\u001b[1;33m(\u001b[0m\u001b[0mtasks\u001b[0m\u001b[1;33m)\u001b[0m\u001b[1;33m\u001b[0m\u001b[1;33m\u001b[0m\u001b[0m\n\u001b[0m\u001b[0;32m    860\u001b[0m                 \u001b[1;32mreturn\u001b[0m \u001b[1;32mTrue\u001b[0m\u001b[1;33m\u001b[0m\u001b[1;33m\u001b[0m\u001b[0m\n\u001b[0;32m    861\u001b[0m \u001b[1;33m\u001b[0m\u001b[0m\n",
      "\u001b[1;32mD:\\anaconda\\envs\\sds2020\\lib\\site-packages\\joblib\\parallel.py\u001b[0m in \u001b[0;36m_dispatch\u001b[1;34m(self, batch)\u001b[0m\n\u001b[0;32m    775\u001b[0m         \u001b[1;32mwith\u001b[0m \u001b[0mself\u001b[0m\u001b[1;33m.\u001b[0m\u001b[0m_lock\u001b[0m\u001b[1;33m:\u001b[0m\u001b[1;33m\u001b[0m\u001b[1;33m\u001b[0m\u001b[0m\n\u001b[0;32m    776\u001b[0m             \u001b[0mjob_idx\u001b[0m \u001b[1;33m=\u001b[0m \u001b[0mlen\u001b[0m\u001b[1;33m(\u001b[0m\u001b[0mself\u001b[0m\u001b[1;33m.\u001b[0m\u001b[0m_jobs\u001b[0m\u001b[1;33m)\u001b[0m\u001b[1;33m\u001b[0m\u001b[1;33m\u001b[0m\u001b[0m\n\u001b[1;32m--> 777\u001b[1;33m             \u001b[0mjob\u001b[0m \u001b[1;33m=\u001b[0m \u001b[0mself\u001b[0m\u001b[1;33m.\u001b[0m\u001b[0m_backend\u001b[0m\u001b[1;33m.\u001b[0m\u001b[0mapply_async\u001b[0m\u001b[1;33m(\u001b[0m\u001b[0mbatch\u001b[0m\u001b[1;33m,\u001b[0m \u001b[0mcallback\u001b[0m\u001b[1;33m=\u001b[0m\u001b[0mcb\u001b[0m\u001b[1;33m)\u001b[0m\u001b[1;33m\u001b[0m\u001b[1;33m\u001b[0m\u001b[0m\n\u001b[0m\u001b[0;32m    778\u001b[0m             \u001b[1;31m# A job can complete so quickly than its callback is\u001b[0m\u001b[1;33m\u001b[0m\u001b[1;33m\u001b[0m\u001b[1;33m\u001b[0m\u001b[0m\n\u001b[0;32m    779\u001b[0m             \u001b[1;31m# called before we get here, causing self._jobs to\u001b[0m\u001b[1;33m\u001b[0m\u001b[1;33m\u001b[0m\u001b[1;33m\u001b[0m\u001b[0m\n",
      "\u001b[1;32mD:\\anaconda\\envs\\sds2020\\lib\\site-packages\\joblib\\_parallel_backends.py\u001b[0m in \u001b[0;36mapply_async\u001b[1;34m(self, func, callback)\u001b[0m\n\u001b[0;32m    206\u001b[0m     \u001b[1;32mdef\u001b[0m \u001b[0mapply_async\u001b[0m\u001b[1;33m(\u001b[0m\u001b[0mself\u001b[0m\u001b[1;33m,\u001b[0m \u001b[0mfunc\u001b[0m\u001b[1;33m,\u001b[0m \u001b[0mcallback\u001b[0m\u001b[1;33m=\u001b[0m\u001b[1;32mNone\u001b[0m\u001b[1;33m)\u001b[0m\u001b[1;33m:\u001b[0m\u001b[1;33m\u001b[0m\u001b[1;33m\u001b[0m\u001b[0m\n\u001b[0;32m    207\u001b[0m         \u001b[1;34m\"\"\"Schedule a func to be run\"\"\"\u001b[0m\u001b[1;33m\u001b[0m\u001b[1;33m\u001b[0m\u001b[0m\n\u001b[1;32m--> 208\u001b[1;33m         \u001b[0mresult\u001b[0m \u001b[1;33m=\u001b[0m \u001b[0mImmediateResult\u001b[0m\u001b[1;33m(\u001b[0m\u001b[0mfunc\u001b[0m\u001b[1;33m)\u001b[0m\u001b[1;33m\u001b[0m\u001b[1;33m\u001b[0m\u001b[0m\n\u001b[0m\u001b[0;32m    209\u001b[0m         \u001b[1;32mif\u001b[0m \u001b[0mcallback\u001b[0m\u001b[1;33m:\u001b[0m\u001b[1;33m\u001b[0m\u001b[1;33m\u001b[0m\u001b[0m\n\u001b[0;32m    210\u001b[0m             \u001b[0mcallback\u001b[0m\u001b[1;33m(\u001b[0m\u001b[0mresult\u001b[0m\u001b[1;33m)\u001b[0m\u001b[1;33m\u001b[0m\u001b[1;33m\u001b[0m\u001b[0m\n",
      "\u001b[1;32mD:\\anaconda\\envs\\sds2020\\lib\\site-packages\\joblib\\_parallel_backends.py\u001b[0m in \u001b[0;36m__init__\u001b[1;34m(self, batch)\u001b[0m\n\u001b[0;32m    570\u001b[0m         \u001b[1;31m# Don't delay the application, to avoid keeping the input\u001b[0m\u001b[1;33m\u001b[0m\u001b[1;33m\u001b[0m\u001b[1;33m\u001b[0m\u001b[0m\n\u001b[0;32m    571\u001b[0m         \u001b[1;31m# arguments in memory\u001b[0m\u001b[1;33m\u001b[0m\u001b[1;33m\u001b[0m\u001b[1;33m\u001b[0m\u001b[0m\n\u001b[1;32m--> 572\u001b[1;33m         \u001b[0mself\u001b[0m\u001b[1;33m.\u001b[0m\u001b[0mresults\u001b[0m \u001b[1;33m=\u001b[0m \u001b[0mbatch\u001b[0m\u001b[1;33m(\u001b[0m\u001b[1;33m)\u001b[0m\u001b[1;33m\u001b[0m\u001b[1;33m\u001b[0m\u001b[0m\n\u001b[0m\u001b[0;32m    573\u001b[0m \u001b[1;33m\u001b[0m\u001b[0m\n\u001b[0;32m    574\u001b[0m     \u001b[1;32mdef\u001b[0m \u001b[0mget\u001b[0m\u001b[1;33m(\u001b[0m\u001b[0mself\u001b[0m\u001b[1;33m)\u001b[0m\u001b[1;33m:\u001b[0m\u001b[1;33m\u001b[0m\u001b[1;33m\u001b[0m\u001b[0m\n",
      "\u001b[1;32mD:\\anaconda\\envs\\sds2020\\lib\\site-packages\\joblib\\parallel.py\u001b[0m in \u001b[0;36m__call__\u001b[1;34m(self)\u001b[0m\n\u001b[0;32m    260\u001b[0m         \u001b[1;31m# change the default number of processes to -1\u001b[0m\u001b[1;33m\u001b[0m\u001b[1;33m\u001b[0m\u001b[1;33m\u001b[0m\u001b[0m\n\u001b[0;32m    261\u001b[0m         \u001b[1;32mwith\u001b[0m \u001b[0mparallel_backend\u001b[0m\u001b[1;33m(\u001b[0m\u001b[0mself\u001b[0m\u001b[1;33m.\u001b[0m\u001b[0m_backend\u001b[0m\u001b[1;33m,\u001b[0m \u001b[0mn_jobs\u001b[0m\u001b[1;33m=\u001b[0m\u001b[0mself\u001b[0m\u001b[1;33m.\u001b[0m\u001b[0m_n_jobs\u001b[0m\u001b[1;33m)\u001b[0m\u001b[1;33m:\u001b[0m\u001b[1;33m\u001b[0m\u001b[1;33m\u001b[0m\u001b[0m\n\u001b[1;32m--> 262\u001b[1;33m             return [func(*args, **kwargs)\n\u001b[0m\u001b[0;32m    263\u001b[0m                     for func, args, kwargs in self.items]\n\u001b[0;32m    264\u001b[0m \u001b[1;33m\u001b[0m\u001b[0m\n",
      "\u001b[1;32mD:\\anaconda\\envs\\sds2020\\lib\\site-packages\\joblib\\parallel.py\u001b[0m in \u001b[0;36m<listcomp>\u001b[1;34m(.0)\u001b[0m\n\u001b[0;32m    260\u001b[0m         \u001b[1;31m# change the default number of processes to -1\u001b[0m\u001b[1;33m\u001b[0m\u001b[1;33m\u001b[0m\u001b[1;33m\u001b[0m\u001b[0m\n\u001b[0;32m    261\u001b[0m         \u001b[1;32mwith\u001b[0m \u001b[0mparallel_backend\u001b[0m\u001b[1;33m(\u001b[0m\u001b[0mself\u001b[0m\u001b[1;33m.\u001b[0m\u001b[0m_backend\u001b[0m\u001b[1;33m,\u001b[0m \u001b[0mn_jobs\u001b[0m\u001b[1;33m=\u001b[0m\u001b[0mself\u001b[0m\u001b[1;33m.\u001b[0m\u001b[0m_n_jobs\u001b[0m\u001b[1;33m)\u001b[0m\u001b[1;33m:\u001b[0m\u001b[1;33m\u001b[0m\u001b[1;33m\u001b[0m\u001b[0m\n\u001b[1;32m--> 262\u001b[1;33m             return [func(*args, **kwargs)\n\u001b[0m\u001b[0;32m    263\u001b[0m                     for func, args, kwargs in self.items]\n\u001b[0;32m    264\u001b[0m \u001b[1;33m\u001b[0m\u001b[0m\n",
      "\u001b[1;32mD:\\anaconda\\envs\\sds2020\\lib\\site-packages\\sklearn\\utils\\fixes.py\u001b[0m in \u001b[0;36m__call__\u001b[1;34m(self, *args, **kwargs)\u001b[0m\n\u001b[0;32m    220\u001b[0m     \u001b[1;32mdef\u001b[0m \u001b[0m__call__\u001b[0m\u001b[1;33m(\u001b[0m\u001b[0mself\u001b[0m\u001b[1;33m,\u001b[0m \u001b[1;33m*\u001b[0m\u001b[0margs\u001b[0m\u001b[1;33m,\u001b[0m \u001b[1;33m**\u001b[0m\u001b[0mkwargs\u001b[0m\u001b[1;33m)\u001b[0m\u001b[1;33m:\u001b[0m\u001b[1;33m\u001b[0m\u001b[1;33m\u001b[0m\u001b[0m\n\u001b[0;32m    221\u001b[0m         \u001b[1;32mwith\u001b[0m \u001b[0mconfig_context\u001b[0m\u001b[1;33m(\u001b[0m\u001b[1;33m**\u001b[0m\u001b[0mself\u001b[0m\u001b[1;33m.\u001b[0m\u001b[0mconfig\u001b[0m\u001b[1;33m)\u001b[0m\u001b[1;33m:\u001b[0m\u001b[1;33m\u001b[0m\u001b[1;33m\u001b[0m\u001b[0m\n\u001b[1;32m--> 222\u001b[1;33m             \u001b[1;32mreturn\u001b[0m \u001b[0mself\u001b[0m\u001b[1;33m.\u001b[0m\u001b[0mfunction\u001b[0m\u001b[1;33m(\u001b[0m\u001b[1;33m*\u001b[0m\u001b[0margs\u001b[0m\u001b[1;33m,\u001b[0m \u001b[1;33m**\u001b[0m\u001b[0mkwargs\u001b[0m\u001b[1;33m)\u001b[0m\u001b[1;33m\u001b[0m\u001b[1;33m\u001b[0m\u001b[0m\n\u001b[0m",
      "\u001b[1;32mD:\\anaconda\\envs\\sds2020\\lib\\site-packages\\sklearn\\model_selection\\_validation.py\u001b[0m in \u001b[0;36m_fit_and_score\u001b[1;34m(estimator, X, y, scorer, train, test, verbose, parameters, fit_params, return_train_score, return_parameters, return_n_test_samples, return_times, return_estimator, split_progress, candidate_progress, error_score)\u001b[0m\n\u001b[0;32m    591\u001b[0m             \u001b[0mestimator\u001b[0m\u001b[1;33m.\u001b[0m\u001b[0mfit\u001b[0m\u001b[1;33m(\u001b[0m\u001b[0mX_train\u001b[0m\u001b[1;33m,\u001b[0m \u001b[1;33m**\u001b[0m\u001b[0mfit_params\u001b[0m\u001b[1;33m)\u001b[0m\u001b[1;33m\u001b[0m\u001b[1;33m\u001b[0m\u001b[0m\n\u001b[0;32m    592\u001b[0m         \u001b[1;32melse\u001b[0m\u001b[1;33m:\u001b[0m\u001b[1;33m\u001b[0m\u001b[1;33m\u001b[0m\u001b[0m\n\u001b[1;32m--> 593\u001b[1;33m             \u001b[0mestimator\u001b[0m\u001b[1;33m.\u001b[0m\u001b[0mfit\u001b[0m\u001b[1;33m(\u001b[0m\u001b[0mX_train\u001b[0m\u001b[1;33m,\u001b[0m \u001b[0my_train\u001b[0m\u001b[1;33m,\u001b[0m \u001b[1;33m**\u001b[0m\u001b[0mfit_params\u001b[0m\u001b[1;33m)\u001b[0m\u001b[1;33m\u001b[0m\u001b[1;33m\u001b[0m\u001b[0m\n\u001b[0m\u001b[0;32m    594\u001b[0m \u001b[1;33m\u001b[0m\u001b[0m\n\u001b[0;32m    595\u001b[0m     \u001b[1;32mexcept\u001b[0m \u001b[0mException\u001b[0m \u001b[1;32mas\u001b[0m \u001b[0me\u001b[0m\u001b[1;33m:\u001b[0m\u001b[1;33m\u001b[0m\u001b[1;33m\u001b[0m\u001b[0m\n",
      "\u001b[1;32mD:\\anaconda\\envs\\sds2020\\lib\\site-packages\\sklearn\\ensemble\\_forest.py\u001b[0m in \u001b[0;36mfit\u001b[1;34m(self, X, y, sample_weight)\u001b[0m\n\u001b[0;32m    385\u001b[0m             \u001b[1;31m# parallel_backend contexts set at a higher level,\u001b[0m\u001b[1;33m\u001b[0m\u001b[1;33m\u001b[0m\u001b[1;33m\u001b[0m\u001b[0m\n\u001b[0;32m    386\u001b[0m             \u001b[1;31m# since correctness does not rely on using threads.\u001b[0m\u001b[1;33m\u001b[0m\u001b[1;33m\u001b[0m\u001b[1;33m\u001b[0m\u001b[0m\n\u001b[1;32m--> 387\u001b[1;33m             trees = Parallel(n_jobs=self.n_jobs, verbose=self.verbose,\n\u001b[0m\u001b[0;32m    388\u001b[0m                              \u001b[1;33m**\u001b[0m\u001b[0m_joblib_parallel_args\u001b[0m\u001b[1;33m(\u001b[0m\u001b[0mprefer\u001b[0m\u001b[1;33m=\u001b[0m\u001b[1;34m'threads'\u001b[0m\u001b[1;33m)\u001b[0m\u001b[1;33m)\u001b[0m\u001b[1;33m(\u001b[0m\u001b[1;33m\u001b[0m\u001b[1;33m\u001b[0m\u001b[0m\n\u001b[0;32m    389\u001b[0m                 delayed(_parallel_build_trees)(\n",
      "\u001b[1;32mD:\\anaconda\\envs\\sds2020\\lib\\site-packages\\joblib\\parallel.py\u001b[0m in \u001b[0;36m__call__\u001b[1;34m(self, iterable)\u001b[0m\n\u001b[0;32m   1042\u001b[0m                 \u001b[0mself\u001b[0m\u001b[1;33m.\u001b[0m\u001b[0m_iterating\u001b[0m \u001b[1;33m=\u001b[0m \u001b[0mself\u001b[0m\u001b[1;33m.\u001b[0m\u001b[0m_original_iterator\u001b[0m \u001b[1;32mis\u001b[0m \u001b[1;32mnot\u001b[0m \u001b[1;32mNone\u001b[0m\u001b[1;33m\u001b[0m\u001b[1;33m\u001b[0m\u001b[0m\n\u001b[0;32m   1043\u001b[0m \u001b[1;33m\u001b[0m\u001b[0m\n\u001b[1;32m-> 1044\u001b[1;33m             \u001b[1;32mwhile\u001b[0m \u001b[0mself\u001b[0m\u001b[1;33m.\u001b[0m\u001b[0mdispatch_one_batch\u001b[0m\u001b[1;33m(\u001b[0m\u001b[0miterator\u001b[0m\u001b[1;33m)\u001b[0m\u001b[1;33m:\u001b[0m\u001b[1;33m\u001b[0m\u001b[1;33m\u001b[0m\u001b[0m\n\u001b[0m\u001b[0;32m   1045\u001b[0m                 \u001b[1;32mpass\u001b[0m\u001b[1;33m\u001b[0m\u001b[1;33m\u001b[0m\u001b[0m\n\u001b[0;32m   1046\u001b[0m \u001b[1;33m\u001b[0m\u001b[0m\n",
      "\u001b[1;32mD:\\anaconda\\envs\\sds2020\\lib\\site-packages\\joblib\\parallel.py\u001b[0m in \u001b[0;36mdispatch_one_batch\u001b[1;34m(self, iterator)\u001b[0m\n\u001b[0;32m    857\u001b[0m                 \u001b[1;32mreturn\u001b[0m \u001b[1;32mFalse\u001b[0m\u001b[1;33m\u001b[0m\u001b[1;33m\u001b[0m\u001b[0m\n\u001b[0;32m    858\u001b[0m             \u001b[1;32melse\u001b[0m\u001b[1;33m:\u001b[0m\u001b[1;33m\u001b[0m\u001b[1;33m\u001b[0m\u001b[0m\n\u001b[1;32m--> 859\u001b[1;33m                 \u001b[0mself\u001b[0m\u001b[1;33m.\u001b[0m\u001b[0m_dispatch\u001b[0m\u001b[1;33m(\u001b[0m\u001b[0mtasks\u001b[0m\u001b[1;33m)\u001b[0m\u001b[1;33m\u001b[0m\u001b[1;33m\u001b[0m\u001b[0m\n\u001b[0m\u001b[0;32m    860\u001b[0m                 \u001b[1;32mreturn\u001b[0m \u001b[1;32mTrue\u001b[0m\u001b[1;33m\u001b[0m\u001b[1;33m\u001b[0m\u001b[0m\n\u001b[0;32m    861\u001b[0m \u001b[1;33m\u001b[0m\u001b[0m\n",
      "\u001b[1;32mD:\\anaconda\\envs\\sds2020\\lib\\site-packages\\joblib\\parallel.py\u001b[0m in \u001b[0;36m_dispatch\u001b[1;34m(self, batch)\u001b[0m\n\u001b[0;32m    775\u001b[0m         \u001b[1;32mwith\u001b[0m \u001b[0mself\u001b[0m\u001b[1;33m.\u001b[0m\u001b[0m_lock\u001b[0m\u001b[1;33m:\u001b[0m\u001b[1;33m\u001b[0m\u001b[1;33m\u001b[0m\u001b[0m\n\u001b[0;32m    776\u001b[0m             \u001b[0mjob_idx\u001b[0m \u001b[1;33m=\u001b[0m \u001b[0mlen\u001b[0m\u001b[1;33m(\u001b[0m\u001b[0mself\u001b[0m\u001b[1;33m.\u001b[0m\u001b[0m_jobs\u001b[0m\u001b[1;33m)\u001b[0m\u001b[1;33m\u001b[0m\u001b[1;33m\u001b[0m\u001b[0m\n\u001b[1;32m--> 777\u001b[1;33m             \u001b[0mjob\u001b[0m \u001b[1;33m=\u001b[0m \u001b[0mself\u001b[0m\u001b[1;33m.\u001b[0m\u001b[0m_backend\u001b[0m\u001b[1;33m.\u001b[0m\u001b[0mapply_async\u001b[0m\u001b[1;33m(\u001b[0m\u001b[0mbatch\u001b[0m\u001b[1;33m,\u001b[0m \u001b[0mcallback\u001b[0m\u001b[1;33m=\u001b[0m\u001b[0mcb\u001b[0m\u001b[1;33m)\u001b[0m\u001b[1;33m\u001b[0m\u001b[1;33m\u001b[0m\u001b[0m\n\u001b[0m\u001b[0;32m    778\u001b[0m             \u001b[1;31m# A job can complete so quickly than its callback is\u001b[0m\u001b[1;33m\u001b[0m\u001b[1;33m\u001b[0m\u001b[1;33m\u001b[0m\u001b[0m\n\u001b[0;32m    779\u001b[0m             \u001b[1;31m# called before we get here, causing self._jobs to\u001b[0m\u001b[1;33m\u001b[0m\u001b[1;33m\u001b[0m\u001b[1;33m\u001b[0m\u001b[0m\n",
      "\u001b[1;32mD:\\anaconda\\envs\\sds2020\\lib\\site-packages\\joblib\\_parallel_backends.py\u001b[0m in \u001b[0;36mapply_async\u001b[1;34m(self, func, callback)\u001b[0m\n\u001b[0;32m    206\u001b[0m     \u001b[1;32mdef\u001b[0m \u001b[0mapply_async\u001b[0m\u001b[1;33m(\u001b[0m\u001b[0mself\u001b[0m\u001b[1;33m,\u001b[0m \u001b[0mfunc\u001b[0m\u001b[1;33m,\u001b[0m \u001b[0mcallback\u001b[0m\u001b[1;33m=\u001b[0m\u001b[1;32mNone\u001b[0m\u001b[1;33m)\u001b[0m\u001b[1;33m:\u001b[0m\u001b[1;33m\u001b[0m\u001b[1;33m\u001b[0m\u001b[0m\n\u001b[0;32m    207\u001b[0m         \u001b[1;34m\"\"\"Schedule a func to be run\"\"\"\u001b[0m\u001b[1;33m\u001b[0m\u001b[1;33m\u001b[0m\u001b[0m\n\u001b[1;32m--> 208\u001b[1;33m         \u001b[0mresult\u001b[0m \u001b[1;33m=\u001b[0m \u001b[0mImmediateResult\u001b[0m\u001b[1;33m(\u001b[0m\u001b[0mfunc\u001b[0m\u001b[1;33m)\u001b[0m\u001b[1;33m\u001b[0m\u001b[1;33m\u001b[0m\u001b[0m\n\u001b[0m\u001b[0;32m    209\u001b[0m         \u001b[1;32mif\u001b[0m \u001b[0mcallback\u001b[0m\u001b[1;33m:\u001b[0m\u001b[1;33m\u001b[0m\u001b[1;33m\u001b[0m\u001b[0m\n\u001b[0;32m    210\u001b[0m             \u001b[0mcallback\u001b[0m\u001b[1;33m(\u001b[0m\u001b[0mresult\u001b[0m\u001b[1;33m)\u001b[0m\u001b[1;33m\u001b[0m\u001b[1;33m\u001b[0m\u001b[0m\n",
      "\u001b[1;32mD:\\anaconda\\envs\\sds2020\\lib\\site-packages\\joblib\\_parallel_backends.py\u001b[0m in \u001b[0;36m__init__\u001b[1;34m(self, batch)\u001b[0m\n\u001b[0;32m    570\u001b[0m         \u001b[1;31m# Don't delay the application, to avoid keeping the input\u001b[0m\u001b[1;33m\u001b[0m\u001b[1;33m\u001b[0m\u001b[1;33m\u001b[0m\u001b[0m\n\u001b[0;32m    571\u001b[0m         \u001b[1;31m# arguments in memory\u001b[0m\u001b[1;33m\u001b[0m\u001b[1;33m\u001b[0m\u001b[1;33m\u001b[0m\u001b[0m\n\u001b[1;32m--> 572\u001b[1;33m         \u001b[0mself\u001b[0m\u001b[1;33m.\u001b[0m\u001b[0mresults\u001b[0m \u001b[1;33m=\u001b[0m \u001b[0mbatch\u001b[0m\u001b[1;33m(\u001b[0m\u001b[1;33m)\u001b[0m\u001b[1;33m\u001b[0m\u001b[1;33m\u001b[0m\u001b[0m\n\u001b[0m\u001b[0;32m    573\u001b[0m \u001b[1;33m\u001b[0m\u001b[0m\n\u001b[0;32m    574\u001b[0m     \u001b[1;32mdef\u001b[0m \u001b[0mget\u001b[0m\u001b[1;33m(\u001b[0m\u001b[0mself\u001b[0m\u001b[1;33m)\u001b[0m\u001b[1;33m:\u001b[0m\u001b[1;33m\u001b[0m\u001b[1;33m\u001b[0m\u001b[0m\n",
      "\u001b[1;32mD:\\anaconda\\envs\\sds2020\\lib\\site-packages\\joblib\\parallel.py\u001b[0m in \u001b[0;36m__call__\u001b[1;34m(self)\u001b[0m\n\u001b[0;32m    260\u001b[0m         \u001b[1;31m# change the default number of processes to -1\u001b[0m\u001b[1;33m\u001b[0m\u001b[1;33m\u001b[0m\u001b[1;33m\u001b[0m\u001b[0m\n\u001b[0;32m    261\u001b[0m         \u001b[1;32mwith\u001b[0m \u001b[0mparallel_backend\u001b[0m\u001b[1;33m(\u001b[0m\u001b[0mself\u001b[0m\u001b[1;33m.\u001b[0m\u001b[0m_backend\u001b[0m\u001b[1;33m,\u001b[0m \u001b[0mn_jobs\u001b[0m\u001b[1;33m=\u001b[0m\u001b[0mself\u001b[0m\u001b[1;33m.\u001b[0m\u001b[0m_n_jobs\u001b[0m\u001b[1;33m)\u001b[0m\u001b[1;33m:\u001b[0m\u001b[1;33m\u001b[0m\u001b[1;33m\u001b[0m\u001b[0m\n\u001b[1;32m--> 262\u001b[1;33m             return [func(*args, **kwargs)\n\u001b[0m\u001b[0;32m    263\u001b[0m                     for func, args, kwargs in self.items]\n\u001b[0;32m    264\u001b[0m \u001b[1;33m\u001b[0m\u001b[0m\n",
      "\u001b[1;32mD:\\anaconda\\envs\\sds2020\\lib\\site-packages\\joblib\\parallel.py\u001b[0m in \u001b[0;36m<listcomp>\u001b[1;34m(.0)\u001b[0m\n\u001b[0;32m    260\u001b[0m         \u001b[1;31m# change the default number of processes to -1\u001b[0m\u001b[1;33m\u001b[0m\u001b[1;33m\u001b[0m\u001b[1;33m\u001b[0m\u001b[0m\n\u001b[0;32m    261\u001b[0m         \u001b[1;32mwith\u001b[0m \u001b[0mparallel_backend\u001b[0m\u001b[1;33m(\u001b[0m\u001b[0mself\u001b[0m\u001b[1;33m.\u001b[0m\u001b[0m_backend\u001b[0m\u001b[1;33m,\u001b[0m \u001b[0mn_jobs\u001b[0m\u001b[1;33m=\u001b[0m\u001b[0mself\u001b[0m\u001b[1;33m.\u001b[0m\u001b[0m_n_jobs\u001b[0m\u001b[1;33m)\u001b[0m\u001b[1;33m:\u001b[0m\u001b[1;33m\u001b[0m\u001b[1;33m\u001b[0m\u001b[0m\n\u001b[1;32m--> 262\u001b[1;33m             return [func(*args, **kwargs)\n\u001b[0m\u001b[0;32m    263\u001b[0m                     for func, args, kwargs in self.items]\n\u001b[0;32m    264\u001b[0m \u001b[1;33m\u001b[0m\u001b[0m\n",
      "\u001b[1;32mD:\\anaconda\\envs\\sds2020\\lib\\site-packages\\sklearn\\utils\\fixes.py\u001b[0m in \u001b[0;36m__call__\u001b[1;34m(self, *args, **kwargs)\u001b[0m\n\u001b[0;32m    220\u001b[0m     \u001b[1;32mdef\u001b[0m \u001b[0m__call__\u001b[0m\u001b[1;33m(\u001b[0m\u001b[0mself\u001b[0m\u001b[1;33m,\u001b[0m \u001b[1;33m*\u001b[0m\u001b[0margs\u001b[0m\u001b[1;33m,\u001b[0m \u001b[1;33m**\u001b[0m\u001b[0mkwargs\u001b[0m\u001b[1;33m)\u001b[0m\u001b[1;33m:\u001b[0m\u001b[1;33m\u001b[0m\u001b[1;33m\u001b[0m\u001b[0m\n\u001b[0;32m    221\u001b[0m         \u001b[1;32mwith\u001b[0m \u001b[0mconfig_context\u001b[0m\u001b[1;33m(\u001b[0m\u001b[1;33m**\u001b[0m\u001b[0mself\u001b[0m\u001b[1;33m.\u001b[0m\u001b[0mconfig\u001b[0m\u001b[1;33m)\u001b[0m\u001b[1;33m:\u001b[0m\u001b[1;33m\u001b[0m\u001b[1;33m\u001b[0m\u001b[0m\n\u001b[1;32m--> 222\u001b[1;33m             \u001b[1;32mreturn\u001b[0m \u001b[0mself\u001b[0m\u001b[1;33m.\u001b[0m\u001b[0mfunction\u001b[0m\u001b[1;33m(\u001b[0m\u001b[1;33m*\u001b[0m\u001b[0margs\u001b[0m\u001b[1;33m,\u001b[0m \u001b[1;33m**\u001b[0m\u001b[0mkwargs\u001b[0m\u001b[1;33m)\u001b[0m\u001b[1;33m\u001b[0m\u001b[1;33m\u001b[0m\u001b[0m\n\u001b[0m",
      "\u001b[1;32mD:\\anaconda\\envs\\sds2020\\lib\\site-packages\\sklearn\\ensemble\\_forest.py\u001b[0m in \u001b[0;36m_parallel_build_trees\u001b[1;34m(tree, forest, X, y, sample_weight, tree_idx, n_trees, verbose, class_weight, n_samples_bootstrap)\u001b[0m\n\u001b[0;32m    153\u001b[0m             \u001b[0mcurr_sample_weight\u001b[0m \u001b[1;33m=\u001b[0m \u001b[0msample_weight\u001b[0m\u001b[1;33m.\u001b[0m\u001b[0mcopy\u001b[0m\u001b[1;33m(\u001b[0m\u001b[1;33m)\u001b[0m\u001b[1;33m\u001b[0m\u001b[1;33m\u001b[0m\u001b[0m\n\u001b[0;32m    154\u001b[0m \u001b[1;33m\u001b[0m\u001b[0m\n\u001b[1;32m--> 155\u001b[1;33m         indices = _generate_sample_indices(tree.random_state, n_samples,\n\u001b[0m\u001b[0;32m    156\u001b[0m                                            n_samples_bootstrap)\n\u001b[0;32m    157\u001b[0m         \u001b[0msample_counts\u001b[0m \u001b[1;33m=\u001b[0m \u001b[0mnp\u001b[0m\u001b[1;33m.\u001b[0m\u001b[0mbincount\u001b[0m\u001b[1;33m(\u001b[0m\u001b[0mindices\u001b[0m\u001b[1;33m,\u001b[0m \u001b[0mminlength\u001b[0m\u001b[1;33m=\u001b[0m\u001b[0mn_samples\u001b[0m\u001b[1;33m)\u001b[0m\u001b[1;33m\u001b[0m\u001b[1;33m\u001b[0m\u001b[0m\n",
      "\u001b[1;32mD:\\anaconda\\envs\\sds2020\\lib\\site-packages\\sklearn\\ensemble\\_forest.py\u001b[0m in \u001b[0;36m_generate_sample_indices\u001b[1;34m(random_state, n_samples, n_samples_bootstrap)\u001b[0m\n\u001b[0;32m    119\u001b[0m     Private function used to _parallel_build_trees function.\"\"\"\n\u001b[0;32m    120\u001b[0m \u001b[1;33m\u001b[0m\u001b[0m\n\u001b[1;32m--> 121\u001b[1;33m     \u001b[0mrandom_instance\u001b[0m \u001b[1;33m=\u001b[0m \u001b[0mcheck_random_state\u001b[0m\u001b[1;33m(\u001b[0m\u001b[0mrandom_state\u001b[0m\u001b[1;33m)\u001b[0m\u001b[1;33m\u001b[0m\u001b[1;33m\u001b[0m\u001b[0m\n\u001b[0m\u001b[0;32m    122\u001b[0m     \u001b[0msample_indices\u001b[0m \u001b[1;33m=\u001b[0m \u001b[0mrandom_instance\u001b[0m\u001b[1;33m.\u001b[0m\u001b[0mrandint\u001b[0m\u001b[1;33m(\u001b[0m\u001b[1;36m0\u001b[0m\u001b[1;33m,\u001b[0m \u001b[0mn_samples\u001b[0m\u001b[1;33m,\u001b[0m \u001b[0mn_samples_bootstrap\u001b[0m\u001b[1;33m)\u001b[0m\u001b[1;33m\u001b[0m\u001b[1;33m\u001b[0m\u001b[0m\n\u001b[0;32m    123\u001b[0m \u001b[1;33m\u001b[0m\u001b[0m\n",
      "\u001b[1;32mD:\\anaconda\\envs\\sds2020\\lib\\site-packages\\sklearn\\utils\\validation.py\u001b[0m in \u001b[0;36mcheck_random_state\u001b[1;34m(seed)\u001b[0m\n\u001b[0;32m    881\u001b[0m         \u001b[1;32mreturn\u001b[0m \u001b[0mnp\u001b[0m\u001b[1;33m.\u001b[0m\u001b[0mrandom\u001b[0m\u001b[1;33m.\u001b[0m\u001b[0mmtrand\u001b[0m\u001b[1;33m.\u001b[0m\u001b[0m_rand\u001b[0m\u001b[1;33m\u001b[0m\u001b[1;33m\u001b[0m\u001b[0m\n\u001b[0;32m    882\u001b[0m     \u001b[1;32mif\u001b[0m \u001b[0misinstance\u001b[0m\u001b[1;33m(\u001b[0m\u001b[0mseed\u001b[0m\u001b[1;33m,\u001b[0m \u001b[0mnumbers\u001b[0m\u001b[1;33m.\u001b[0m\u001b[0mIntegral\u001b[0m\u001b[1;33m)\u001b[0m\u001b[1;33m:\u001b[0m\u001b[1;33m\u001b[0m\u001b[1;33m\u001b[0m\u001b[0m\n\u001b[1;32m--> 883\u001b[1;33m         \u001b[1;32mreturn\u001b[0m \u001b[0mnp\u001b[0m\u001b[1;33m.\u001b[0m\u001b[0mrandom\u001b[0m\u001b[1;33m.\u001b[0m\u001b[0mRandomState\u001b[0m\u001b[1;33m(\u001b[0m\u001b[0mseed\u001b[0m\u001b[1;33m)\u001b[0m\u001b[1;33m\u001b[0m\u001b[1;33m\u001b[0m\u001b[0m\n\u001b[0m\u001b[0;32m    884\u001b[0m     \u001b[1;32mif\u001b[0m \u001b[0misinstance\u001b[0m\u001b[1;33m(\u001b[0m\u001b[0mseed\u001b[0m\u001b[1;33m,\u001b[0m \u001b[0mnp\u001b[0m\u001b[1;33m.\u001b[0m\u001b[0mrandom\u001b[0m\u001b[1;33m.\u001b[0m\u001b[0mRandomState\u001b[0m\u001b[1;33m)\u001b[0m\u001b[1;33m:\u001b[0m\u001b[1;33m\u001b[0m\u001b[1;33m\u001b[0m\u001b[0m\n\u001b[0;32m    885\u001b[0m         \u001b[1;32mreturn\u001b[0m \u001b[0mseed\u001b[0m\u001b[1;33m\u001b[0m\u001b[1;33m\u001b[0m\u001b[0m\n",
      "\u001b[1;32mmtrand.pyx\u001b[0m in \u001b[0;36mnumpy.random.mtrand.RandomState.__init__\u001b[1;34m()\u001b[0m\n",
      "\u001b[1;32m_mt19937.pyx\u001b[0m in \u001b[0;36mnumpy.random._mt19937.MT19937.__init__\u001b[1;34m()\u001b[0m\n",
      "\u001b[1;32mD:\\anaconda\\envs\\sds2020\\lib\\contextlib.py\u001b[0m in \u001b[0;36minner\u001b[1;34m(*args, **kwds)\u001b[0m\n\u001b[0;32m     73\u001b[0m         \u001b[1;32mdef\u001b[0m \u001b[0minner\u001b[0m\u001b[1;33m(\u001b[0m\u001b[1;33m*\u001b[0m\u001b[0margs\u001b[0m\u001b[1;33m,\u001b[0m \u001b[1;33m**\u001b[0m\u001b[0mkwds\u001b[0m\u001b[1;33m)\u001b[0m\u001b[1;33m:\u001b[0m\u001b[1;33m\u001b[0m\u001b[1;33m\u001b[0m\u001b[0m\n\u001b[0;32m     74\u001b[0m             \u001b[1;32mwith\u001b[0m \u001b[0mself\u001b[0m\u001b[1;33m.\u001b[0m\u001b[0m_recreate_cm\u001b[0m\u001b[1;33m(\u001b[0m\u001b[1;33m)\u001b[0m\u001b[1;33m:\u001b[0m\u001b[1;33m\u001b[0m\u001b[1;33m\u001b[0m\u001b[0m\n\u001b[1;32m---> 75\u001b[1;33m                 \u001b[1;32mreturn\u001b[0m \u001b[0mfunc\u001b[0m\u001b[1;33m(\u001b[0m\u001b[1;33m*\u001b[0m\u001b[0margs\u001b[0m\u001b[1;33m,\u001b[0m \u001b[1;33m**\u001b[0m\u001b[0mkwds\u001b[0m\u001b[1;33m)\u001b[0m\u001b[1;33m\u001b[0m\u001b[1;33m\u001b[0m\u001b[0m\n\u001b[0m\u001b[0;32m     76\u001b[0m         \u001b[1;32mreturn\u001b[0m \u001b[0minner\u001b[0m\u001b[1;33m\u001b[0m\u001b[1;33m\u001b[0m\u001b[0m\n\u001b[0;32m     77\u001b[0m \u001b[1;33m\u001b[0m\u001b[0m\n",
      "\u001b[1;31mKeyboardInterrupt\u001b[0m: "
     ]
    }
   ],
   "source": [
    "# 第一次cross validation，最优结果都在区间端点处取得\n",
    "# 可能不是最优，但数量过多，时间很久，所以在第一次获得的结果上，扩大范围进行第二次cross validation\n",
    "import time\n",
    "from sklearn import model_selection\n",
    "start_cv=time.time()\n",
    "# values of n_estimators and max_depth\n",
    "parameters = {'n_estimators':[80,100,120,150,180,200,220,240], #[122,123,124,125,126,127,128,129,130],\n",
    "              'max_depth':[24,25,26,27,28,29],#[19,21,23,25,27,29,31,33],\n",
    "              'max_features':['auto','sqrt','log2'],\n",
    "             'min_samples_leaf':[1,5,10]}\n",
    "\n",
    "# initialize the random forest model\n",
    "rf = RandomForestRegressor()\n",
    "\n",
    "#Exhaustive search over specified parameter values for an estimator\n",
    "clf = model_selection.GridSearchCV(rf, parameters,cv=5)\n",
    "\n",
    "# fit the model on the training set\n",
    "clf.fit(X_train_rf, y_train_rf)\n",
    "\n",
    "# we can query the best parameter value and its accuracy score\n",
    "print (\"The best parameter value is: \")\n",
    "print (clf.best_params_)\n",
    "print (\"The best score is: \")\n",
    "print (clf.best_score_)\n",
    "end_cv=time.time()"
   ]
  },
  {
   "cell_type": "code",
   "execution_count": 24,
   "metadata": {},
   "outputs": [
    {
     "name": "stdout",
     "output_type": "stream",
     "text": [
      "The best parameter value is: \n",
      "{'max_depth': 33, 'max_features': 'auto', 'n_estimators': 230}\n",
      "The best score is: \n",
      "0.9882540412673163\n"
     ]
    }
   ],
   "source": [
    "# 第二次cross validation，改变n_estimators和max_depth的数值，240与29作为中间值\n",
    "import time\n",
    "from sklearn import model_selection\n",
    "start_cv=time.time()\n",
    "# values of n_estimators and max_depth\n",
    "parameters = {'n_estimators':[200,220,230,240,250,260,270,280,290,300], #[122,123,124,125,126,127,128,129,130],\n",
    "              'max_depth':[26,27,28,29,30,31,32,33,34,35],#[19,21,23,25,27,29,31,33],\n",
    "              'max_features':['auto','sqrt','log2']}\n",
    "\n",
    "# initialize the random forest model\n",
    "rf = RandomForestRegressor()\n",
    "\n",
    "#Exhaustive search over specified parameter values for an estimator\n",
    "clf = model_selection.GridSearchCV(rf, parameters,cv=5)\n",
    "\n",
    "# fit the model on the training set\n",
    "clf.fit(X_train_rf, y_train_rf)\n",
    "\n",
    "# we can query the best parameter value and its accuracy score\n",
    "print (\"The best parameter value is: \")\n",
    "print (clf.best_params_)\n",
    "print (\"The best score is: \")\n",
    "print (clf.best_score_)\n",
    "end_cv=time.time()"
   ]
  },
  {
   "cell_type": "code",
   "execution_count": 26,
   "metadata": {},
   "outputs": [
    {
     "data": {
      "text/plain": [
       "{'max_depth': 33, 'max_features': 'auto', 'n_estimators': 230}"
      ]
     },
     "execution_count": 26,
     "metadata": {},
     "output_type": "execute_result"
    }
   ],
   "source": [
    "clf.best_params_"
   ]
  },
  {
   "cell_type": "code",
   "execution_count": 39,
   "metadata": {},
   "outputs": [
    {
     "name": "stdout",
     "output_type": "stream",
     "text": [
      "The score on the training data:\n",
      "0.9989692887522308\n"
     ]
    }
   ],
   "source": [
    "rf_final_cv = RandomForestRegressor(n_estimators = clf.best_params_['n_estimators'],max_depth=clf.best_params_['max_depth'],max_features=clf.best_params_['max_features']) #把通过上面测试得到的最优值带进去\n",
    "rf_final_cv.fit(X_train_rf, y_train_rf) \n",
    "\n",
    "print('The score on the training data:')\n",
    "print(rf_final_cv.score(X_train_rf, y_train_rf))"
   ]
  },
  {
   "cell_type": "markdown",
   "metadata": {},
   "source": [
    "# use the final model for prediction"
   ]
  },
  {
   "cell_type": "code",
   "execution_count": 56,
   "metadata": {
    "scrolled": false
   },
   "outputs": [
    {
     "data": {
      "text/plain": [
       "0.9933567474723087"
      ]
     },
     "execution_count": 56,
     "metadata": {},
     "output_type": "execute_result"
    }
   ],
   "source": [
    "# get final estimate\n",
    "rf_final_cv.score(X_test_rf, y_test_rf)"
   ]
  },
  {
   "cell_type": "code",
   "execution_count": 25,
   "metadata": {},
   "outputs": [
    {
     "data": {
      "text/html": [
       "<div>\n",
       "<style scoped>\n",
       "    .dataframe tbody tr th:only-of-type {\n",
       "        vertical-align: middle;\n",
       "    }\n",
       "\n",
       "    .dataframe tbody tr th {\n",
       "        vertical-align: top;\n",
       "    }\n",
       "\n",
       "    .dataframe thead th {\n",
       "        text-align: right;\n",
       "    }\n",
       "</style>\n",
       "<table border=\"1\" class=\"dataframe\">\n",
       "  <thead>\n",
       "    <tr style=\"text-align: right;\">\n",
       "      <th></th>\n",
       "      <th>t_ob</th>\n",
       "      <th>风向</th>\n",
       "      <th>PM10</th>\n",
       "      <th>室内温度</th>\n",
       "      <th>室内湿度</th>\n",
       "      <th>SO2</th>\n",
       "      <th>O3</th>\n",
       "      <th>NOx</th>\n",
       "      <th>NO2</th>\n",
       "      <th>NO</th>\n",
       "      <th>CO</th>\n",
       "      <th>气压</th>\n",
       "      <th>大气湿度</th>\n",
       "      <th>大气温度</th>\n",
       "      <th>风速</th>\n",
       "      <th>time</th>\n",
       "      <th>duration</th>\n",
       "    </tr>\n",
       "  </thead>\n",
       "  <tbody>\n",
       "    <tr>\n",
       "      <th>0</th>\n",
       "      <td>2020-06-01 00:00:00</td>\n",
       "      <td>129.500000</td>\n",
       "      <td>50.266667</td>\n",
       "      <td>26.851667</td>\n",
       "      <td>52.270000</td>\n",
       "      <td>5.965000</td>\n",
       "      <td>180.263333</td>\n",
       "      <td>7.696667</td>\n",
       "      <td>6.688333</td>\n",
       "      <td>0.656667</td>\n",
       "      <td>0.653333</td>\n",
       "      <td>1006.800000</td>\n",
       "      <td>76.333333</td>\n",
       "      <td>24.916667</td>\n",
       "      <td>1.483333</td>\n",
       "      <td>92 days 00:00:00</td>\n",
       "      <td>132480.0</td>\n",
       "    </tr>\n",
       "    <tr>\n",
       "      <th>1</th>\n",
       "      <td>2020-06-01 00:10:00</td>\n",
       "      <td>134.333333</td>\n",
       "      <td>49.266667</td>\n",
       "      <td>26.870000</td>\n",
       "      <td>54.566667</td>\n",
       "      <td>6.213333</td>\n",
       "      <td>181.400000</td>\n",
       "      <td>7.388333</td>\n",
       "      <td>6.356667</td>\n",
       "      <td>0.671667</td>\n",
       "      <td>0.640000</td>\n",
       "      <td>1006.716667</td>\n",
       "      <td>74.866667</td>\n",
       "      <td>24.883333</td>\n",
       "      <td>1.466667</td>\n",
       "      <td>92 days 00:10:00</td>\n",
       "      <td>132490.0</td>\n",
       "    </tr>\n",
       "  </tbody>\n",
       "</table>\n",
       "</div>"
      ],
      "text/plain": [
       "                 t_ob          风向       PM10       室内温度       室内湿度       SO2  \\\n",
       "0 2020-06-01 00:00:00  129.500000  50.266667  26.851667  52.270000  5.965000   \n",
       "1 2020-06-01 00:10:00  134.333333  49.266667  26.870000  54.566667  6.213333   \n",
       "\n",
       "           O3       NOx       NO2        NO        CO           气压       大气湿度  \\\n",
       "0  180.263333  7.696667  6.688333  0.656667  0.653333  1006.800000  76.333333   \n",
       "1  181.400000  7.388333  6.356667  0.671667  0.640000  1006.716667  74.866667   \n",
       "\n",
       "        大气温度        风速             time  duration  \n",
       "0  24.916667  1.483333 92 days 00:00:00  132480.0  \n",
       "1  24.883333  1.466667 92 days 00:10:00  132490.0  "
      ]
     },
     "execution_count": 25,
     "metadata": {},
     "output_type": "execute_result"
    }
   ],
   "source": [
    "X_ind_test.head(2)"
   ]
  },
  {
   "cell_type": "code",
   "execution_count": 26,
   "metadata": {},
   "outputs": [
    {
     "data": {
      "text/html": [
       "<div>\n",
       "<style scoped>\n",
       "    .dataframe tbody tr th:only-of-type {\n",
       "        vertical-align: middle;\n",
       "    }\n",
       "\n",
       "    .dataframe tbody tr th {\n",
       "        vertical-align: top;\n",
       "    }\n",
       "\n",
       "    .dataframe thead th {\n",
       "        text-align: right;\n",
       "    }\n",
       "</style>\n",
       "<table border=\"1\" class=\"dataframe\">\n",
       "  <thead>\n",
       "    <tr style=\"text-align: right;\">\n",
       "      <th></th>\n",
       "      <th>风向</th>\n",
       "      <th>PM10</th>\n",
       "      <th>室内温度</th>\n",
       "      <th>室内湿度</th>\n",
       "      <th>SO2</th>\n",
       "      <th>O3</th>\n",
       "      <th>NOx</th>\n",
       "      <th>NO2</th>\n",
       "      <th>NO</th>\n",
       "      <th>CO</th>\n",
       "      <th>气压</th>\n",
       "      <th>大气湿度</th>\n",
       "      <th>大气温度</th>\n",
       "      <th>风速</th>\n",
       "      <th>duration</th>\n",
       "    </tr>\n",
       "  </thead>\n",
       "  <tbody>\n",
       "    <tr>\n",
       "      <th>0</th>\n",
       "      <td>129.5</td>\n",
       "      <td>50.266667</td>\n",
       "      <td>26.851667</td>\n",
       "      <td>52.27</td>\n",
       "      <td>5.965</td>\n",
       "      <td>180.263333</td>\n",
       "      <td>7.696667</td>\n",
       "      <td>6.688333</td>\n",
       "      <td>0.656667</td>\n",
       "      <td>0.653333</td>\n",
       "      <td>1006.8</td>\n",
       "      <td>76.333333</td>\n",
       "      <td>24.916667</td>\n",
       "      <td>1.483333</td>\n",
       "      <td>132480.0</td>\n",
       "    </tr>\n",
       "  </tbody>\n",
       "</table>\n",
       "</div>"
      ],
      "text/plain": [
       "      风向       PM10       室内温度   室内湿度    SO2          O3       NOx       NO2  \\\n",
       "0  129.5  50.266667  26.851667  52.27  5.965  180.263333  7.696667  6.688333   \n",
       "\n",
       "         NO        CO      气压       大气湿度       大气温度        风速  duration  \n",
       "0  0.656667  0.653333  1006.8  76.333333  24.916667  1.483333  132480.0  "
      ]
     },
     "execution_count": 26,
     "metadata": {},
     "output_type": "execute_result"
    }
   ],
   "source": [
    "# x for prediction\n",
    "# training set和test set是标准化过的，用到新的数据集上怎么处理\n",
    "x_for_prediction=X_ind_test.drop(['t_ob','time'], axis=1) \n",
    "#x_for_prediction=X_ind_test.drop(['t_ob','time'], axis=1) \n",
    "x_for_prediction.head(1)"
   ]
  },
  {
   "cell_type": "code",
   "execution_count": 27,
   "metadata": {},
   "outputs": [],
   "source": [
    "for i in data_columns:\n",
    "    x_for_prediction[i]=(x_for_prediction[i]-training_mean[i])/training_std[i]"
   ]
  },
  {
   "cell_type": "code",
   "execution_count": 178,
   "metadata": {},
   "outputs": [],
   "source": [
    "'''\n",
    "for col in ['风向', 'PM10', '室内温度', '室内湿度', 'SO2', 'O3', 'NOx',\n",
    "       'NO2', 'NO', 'CO', '气压', '大气湿度', '大气温度', '风速', 'duration']:\n",
    "    stdscl = StandardScaler()\n",
    "    x_for_prediction[col] = stdscl.fit_transform(x_for_prediction[col].values.reshape(-1,1))'''"
   ]
  },
  {
   "cell_type": "code",
   "execution_count": 28,
   "metadata": {},
   "outputs": [
    {
     "data": {
      "text/html": [
       "<div>\n",
       "<style scoped>\n",
       "    .dataframe tbody tr th:only-of-type {\n",
       "        vertical-align: middle;\n",
       "    }\n",
       "\n",
       "    .dataframe tbody tr th {\n",
       "        vertical-align: top;\n",
       "    }\n",
       "\n",
       "    .dataframe thead th {\n",
       "        text-align: right;\n",
       "    }\n",
       "</style>\n",
       "<table border=\"1\" class=\"dataframe\">\n",
       "  <thead>\n",
       "    <tr style=\"text-align: right;\">\n",
       "      <th></th>\n",
       "      <th>风向</th>\n",
       "      <th>PM10</th>\n",
       "      <th>室内温度</th>\n",
       "      <th>室内湿度</th>\n",
       "      <th>SO2</th>\n",
       "      <th>O3</th>\n",
       "      <th>NOx</th>\n",
       "      <th>NO2</th>\n",
       "      <th>NO</th>\n",
       "      <th>CO</th>\n",
       "      <th>气压</th>\n",
       "      <th>大气湿度</th>\n",
       "      <th>大气温度</th>\n",
       "      <th>风速</th>\n",
       "      <th>duration</th>\n",
       "    </tr>\n",
       "  </thead>\n",
       "  <tbody>\n",
       "    <tr>\n",
       "      <th>0</th>\n",
       "      <td>-0.115908</td>\n",
       "      <td>-0.431478</td>\n",
       "      <td>0.206668</td>\n",
       "      <td>2.058730</td>\n",
       "      <td>-0.682613</td>\n",
       "      <td>1.477192</td>\n",
       "      <td>-1.533499</td>\n",
       "      <td>-1.601987</td>\n",
       "      <td>-0.614970</td>\n",
       "      <td>-0.586760</td>\n",
       "      <td>-0.908456</td>\n",
       "      <td>0.504777</td>\n",
       "      <td>1.489458</td>\n",
       "      <td>-0.744894</td>\n",
       "      <td>1.831749</td>\n",
       "    </tr>\n",
       "    <tr>\n",
       "      <th>1</th>\n",
       "      <td>-0.053687</td>\n",
       "      <td>-0.466321</td>\n",
       "      <td>0.217930</td>\n",
       "      <td>2.292546</td>\n",
       "      <td>-0.601311</td>\n",
       "      <td>1.498694</td>\n",
       "      <td>-1.554201</td>\n",
       "      <td>-1.627749</td>\n",
       "      <td>-0.608590</td>\n",
       "      <td>-0.639495</td>\n",
       "      <td>-0.921718</td>\n",
       "      <td>0.435089</td>\n",
       "      <td>1.483708</td>\n",
       "      <td>-0.757654</td>\n",
       "      <td>1.832010</td>\n",
       "    </tr>\n",
       "    <tr>\n",
       "      <th>2</th>\n",
       "      <td>0.105085</td>\n",
       "      <td>-0.510456</td>\n",
       "      <td>0.157528</td>\n",
       "      <td>2.313926</td>\n",
       "      <td>-0.605676</td>\n",
       "      <td>1.513796</td>\n",
       "      <td>-1.567070</td>\n",
       "      <td>-1.642896</td>\n",
       "      <td>-0.607881</td>\n",
       "      <td>-0.646086</td>\n",
       "      <td>-0.934980</td>\n",
       "      <td>0.362233</td>\n",
       "      <td>1.489458</td>\n",
       "      <td>-0.859733</td>\n",
       "      <td>1.832270</td>\n",
       "    </tr>\n",
       "    <tr>\n",
       "      <th>3</th>\n",
       "      <td>0.124395</td>\n",
       "      <td>-0.526136</td>\n",
       "      <td>0.147290</td>\n",
       "      <td>2.092835</td>\n",
       "      <td>-0.486724</td>\n",
       "      <td>1.466409</td>\n",
       "      <td>-1.540549</td>\n",
       "      <td>-1.611567</td>\n",
       "      <td>-0.610008</td>\n",
       "      <td>-0.626311</td>\n",
       "      <td>-0.948242</td>\n",
       "      <td>0.351939</td>\n",
       "      <td>1.489458</td>\n",
       "      <td>-0.987333</td>\n",
       "      <td>1.832530</td>\n",
       "    </tr>\n",
       "    <tr>\n",
       "      <th>4</th>\n",
       "      <td>0.107230</td>\n",
       "      <td>-0.538911</td>\n",
       "      <td>0.187217</td>\n",
       "      <td>2.035144</td>\n",
       "      <td>-0.424520</td>\n",
       "      <td>1.435984</td>\n",
       "      <td>-1.533387</td>\n",
       "      <td>-1.603799</td>\n",
       "      <td>-0.607881</td>\n",
       "      <td>-0.665862</td>\n",
       "      <td>-0.958852</td>\n",
       "      <td>0.359066</td>\n",
       "      <td>1.480833</td>\n",
       "      <td>-1.051132</td>\n",
       "      <td>1.832791</td>\n",
       "    </tr>\n",
       "    <tr>\n",
       "      <th>...</th>\n",
       "      <td>...</td>\n",
       "      <td>...</td>\n",
       "      <td>...</td>\n",
       "      <td>...</td>\n",
       "      <td>...</td>\n",
       "      <td>...</td>\n",
       "      <td>...</td>\n",
       "      <td>...</td>\n",
       "      <td>...</td>\n",
       "      <td>...</td>\n",
       "      <td>...</td>\n",
       "      <td>...</td>\n",
       "      <td>...</td>\n",
       "      <td>...</td>\n",
       "      <td>...</td>\n",
       "    </tr>\n",
       "    <tr>\n",
       "      <th>2934</th>\n",
       "      <td>-0.918347</td>\n",
       "      <td>-1.889086</td>\n",
       "      <td>1.690103</td>\n",
       "      <td>2.196678</td>\n",
       "      <td>-2.234445</td>\n",
       "      <td>-0.334207</td>\n",
       "      <td>-0.508000</td>\n",
       "      <td>-0.566952</td>\n",
       "      <td>-0.072674</td>\n",
       "      <td>-1.259121</td>\n",
       "      <td>-1.693559</td>\n",
       "      <td>1.311729</td>\n",
       "      <td>0.951872</td>\n",
       "      <td>0.582138</td>\n",
       "      <td>2.596790</td>\n",
       "    </tr>\n",
       "    <tr>\n",
       "      <th>2935</th>\n",
       "      <td>-0.890455</td>\n",
       "      <td>-1.897797</td>\n",
       "      <td>1.687032</td>\n",
       "      <td>2.151374</td>\n",
       "      <td>-2.181517</td>\n",
       "      <td>-0.315290</td>\n",
       "      <td>-0.504419</td>\n",
       "      <td>-0.559314</td>\n",
       "      <td>-0.086143</td>\n",
       "      <td>-1.272304</td>\n",
       "      <td>-1.704169</td>\n",
       "      <td>1.268174</td>\n",
       "      <td>0.986370</td>\n",
       "      <td>0.582138</td>\n",
       "      <td>2.597050</td>\n",
       "    </tr>\n",
       "    <tr>\n",
       "      <th>2936</th>\n",
       "      <td>-0.821797</td>\n",
       "      <td>-1.901281</td>\n",
       "      <td>1.691127</td>\n",
       "      <td>2.034296</td>\n",
       "      <td>-2.079480</td>\n",
       "      <td>-0.310372</td>\n",
       "      <td>-0.511469</td>\n",
       "      <td>-0.556077</td>\n",
       "      <td>-0.126550</td>\n",
       "      <td>-1.298672</td>\n",
       "      <td>-1.709474</td>\n",
       "      <td>1.232539</td>\n",
       "      <td>1.009368</td>\n",
       "      <td>0.505578</td>\n",
       "      <td>2.597311</td>\n",
       "    </tr>\n",
       "    <tr>\n",
       "      <th>2937</th>\n",
       "      <td>-0.791759</td>\n",
       "      <td>-1.900700</td>\n",
       "      <td>1.680889</td>\n",
       "      <td>1.815920</td>\n",
       "      <td>-2.041285</td>\n",
       "      <td>-0.294576</td>\n",
       "      <td>-0.537431</td>\n",
       "      <td>-0.572648</td>\n",
       "      <td>-0.174045</td>\n",
       "      <td>-1.311855</td>\n",
       "      <td>-1.706821</td>\n",
       "      <td>1.210365</td>\n",
       "      <td>1.032366</td>\n",
       "      <td>0.518338</td>\n",
       "      <td>2.597571</td>\n",
       "    </tr>\n",
       "    <tr>\n",
       "      <th>2938</th>\n",
       "      <td>-0.873290</td>\n",
       "      <td>-1.900120</td>\n",
       "      <td>1.673723</td>\n",
       "      <td>1.615360</td>\n",
       "      <td>-1.941430</td>\n",
       "      <td>-0.280546</td>\n",
       "      <td>-0.576150</td>\n",
       "      <td>-0.607732</td>\n",
       "      <td>-0.208780</td>\n",
       "      <td>-1.305263</td>\n",
       "      <td>-1.709474</td>\n",
       "      <td>1.180273</td>\n",
       "      <td>1.058240</td>\n",
       "      <td>0.263140</td>\n",
       "      <td>2.597832</td>\n",
       "    </tr>\n",
       "  </tbody>\n",
       "</table>\n",
       "<p>2939 rows × 15 columns</p>\n",
       "</div>"
      ],
      "text/plain": [
       "            风向      PM10      室内温度      室内湿度       SO2        O3       NOx  \\\n",
       "0    -0.115908 -0.431478  0.206668  2.058730 -0.682613  1.477192 -1.533499   \n",
       "1    -0.053687 -0.466321  0.217930  2.292546 -0.601311  1.498694 -1.554201   \n",
       "2     0.105085 -0.510456  0.157528  2.313926 -0.605676  1.513796 -1.567070   \n",
       "3     0.124395 -0.526136  0.147290  2.092835 -0.486724  1.466409 -1.540549   \n",
       "4     0.107230 -0.538911  0.187217  2.035144 -0.424520  1.435984 -1.533387   \n",
       "...        ...       ...       ...       ...       ...       ...       ...   \n",
       "2934 -0.918347 -1.889086  1.690103  2.196678 -2.234445 -0.334207 -0.508000   \n",
       "2935 -0.890455 -1.897797  1.687032  2.151374 -2.181517 -0.315290 -0.504419   \n",
       "2936 -0.821797 -1.901281  1.691127  2.034296 -2.079480 -0.310372 -0.511469   \n",
       "2937 -0.791759 -1.900700  1.680889  1.815920 -2.041285 -0.294576 -0.537431   \n",
       "2938 -0.873290 -1.900120  1.673723  1.615360 -1.941430 -0.280546 -0.576150   \n",
       "\n",
       "           NO2        NO        CO        气压      大气湿度      大气温度        风速  \\\n",
       "0    -1.601987 -0.614970 -0.586760 -0.908456  0.504777  1.489458 -0.744894   \n",
       "1    -1.627749 -0.608590 -0.639495 -0.921718  0.435089  1.483708 -0.757654   \n",
       "2    -1.642896 -0.607881 -0.646086 -0.934980  0.362233  1.489458 -0.859733   \n",
       "3    -1.611567 -0.610008 -0.626311 -0.948242  0.351939  1.489458 -0.987333   \n",
       "4    -1.603799 -0.607881 -0.665862 -0.958852  0.359066  1.480833 -1.051132   \n",
       "...        ...       ...       ...       ...       ...       ...       ...   \n",
       "2934 -0.566952 -0.072674 -1.259121 -1.693559  1.311729  0.951872  0.582138   \n",
       "2935 -0.559314 -0.086143 -1.272304 -1.704169  1.268174  0.986370  0.582138   \n",
       "2936 -0.556077 -0.126550 -1.298672 -1.709474  1.232539  1.009368  0.505578   \n",
       "2937 -0.572648 -0.174045 -1.311855 -1.706821  1.210365  1.032366  0.518338   \n",
       "2938 -0.607732 -0.208780 -1.305263 -1.709474  1.180273  1.058240  0.263140   \n",
       "\n",
       "      duration  \n",
       "0     1.831749  \n",
       "1     1.832010  \n",
       "2     1.832270  \n",
       "3     1.832530  \n",
       "4     1.832791  \n",
       "...        ...  \n",
       "2934  2.596790  \n",
       "2935  2.597050  \n",
       "2936  2.597311  \n",
       "2937  2.597571  \n",
       "2938  2.597832  \n",
       "\n",
       "[2939 rows x 15 columns]"
      ]
     },
     "execution_count": 28,
     "metadata": {},
     "output_type": "execute_result"
    }
   ],
   "source": [
    "x_for_prediction"
   ]
  },
  {
   "cell_type": "code",
   "execution_count": 185,
   "metadata": {},
   "outputs": [],
   "source": [
    "# 最终结果如何处理\n",
    "'''\n",
    "mean=X_ind_test['prediction'].mean()\n",
    "std_value=X_ind_test['prediction'].std()\n",
    "std_value\n",
    "X_ind_test['final_prediction']=std_value* X_ind_test['prediction']+mean\n",
    "X_ind_test['prediction']\n",
    "X_ind_test['final_prediction']'''"
   ]
  },
  {
   "cell_type": "code",
   "execution_count": 61,
   "metadata": {},
   "outputs": [],
   "source": [
    "X_ind_test['prediction'] = rf_final_cv.predict(x_for_prediction)\n",
    "result=X_ind_test[['t_ob','prediction']] #提取出需要的列\n",
    "result = result.rename(columns={ 'prediction': 'PM2.5'})  #修改列名\n",
    "result.to_csv('submission_rf.csv',index=False)  #保存文件"
   ]
  },
  {
   "cell_type": "code",
   "execution_count": 62,
   "metadata": {},
   "outputs": [
    {
     "name": "stdout",
     "output_type": "stream",
     "text": [
      "[Enter] to confirm your submission file is placed at D:\\code_own\\CodingTest-SunyuWang\\to_players\\submission_rf.csv)\n",
      "\n",
      "Submission time: 2022-05-23 11:08:27.793620\n",
      " - RMSE: 4.878\n",
      " - R sq.: 0.839\n",
      " - Max. abs. residual: 25.421\n",
      " - Min. abs. residual: 0.005\n",
      " - Logging results. [Enter] to make sure 'submission_history.csv' is closed: \n",
      " - Notes for this submission: \n",
      " ! Results logged in 'submission_history.csv'.\n",
      " ! Submission file saved to '/old_submissions/submission_2022_05_23_11_08_27.csv'.\n",
      "Evaluation Successful. Press to quit...\n"
     ]
    }
   ],
   "source": [
    "# R2 improved a little bit\n",
    "# max residual is big, outlier?\n",
    "# try to tune more hyper-parameters, like max_depth\n",
    "autoGrader(fd/'submission_rf.csv')"
   ]
  },
  {
   "cell_type": "markdown",
   "metadata": {},
   "source": [
    "### GBRT"
   ]
  },
  {
   "cell_type": "code",
   "execution_count": 29,
   "metadata": {},
   "outputs": [],
   "source": [
    "# 1. import the model\n",
    "from sklearn.ensemble import GradientBoostingRegressor \n",
    "# learning rate=0.1, shrink the contribution of each tree\n",
    "# n_estimators=100, the number of boosting stages to perform\n",
    "# Gradient boosting is fairly robust to over-fitting so a large number usually results in better performance."
   ]
  },
  {
   "cell_type": "code",
   "execution_count": 31,
   "metadata": {},
   "outputs": [],
   "source": [
    "?gbrt"
   ]
  },
  {
   "cell_type": "code",
   "execution_count": 32,
   "metadata": {},
   "outputs": [],
   "source": [
    "# 2. initialize the model\n",
    "# learning rate: shrink the contribution of each tree\n",
    "# n_estimators: the number of boosting stages, GBRT一般对overfit较为robust，该值越大，一般model performance越好\n",
    "# max_depth: 每棵regression tree的深度\n",
    "gbrt = GradientBoostingRegressor( max_depth=10, n_estimators = 250, learning_rate = 0.1) "
   ]
  },
  {
   "cell_type": "code",
   "execution_count": 34,
   "metadata": {},
   "outputs": [
    {
     "data": {
      "text/plain": [
       "0.9999895458085911"
      ]
     },
     "execution_count": 34,
     "metadata": {},
     "output_type": "execute_result"
    }
   ],
   "source": [
    "# 3. fit the model\n",
    "gbrt.fit(X_train_rf, y_train_rf)\n",
    "# 4. evaluate the model performance\n",
    "gbrt.score(X_train_rf, y_train_rf)"
   ]
  },
  {
   "cell_type": "code",
   "execution_count": null,
   "metadata": {},
   "outputs": [],
   "source": []
  },
  {
   "cell_type": "code",
   "execution_count": 36,
   "metadata": {},
   "outputs": [
    {
     "name": "stdout",
     "output_type": "stream",
     "text": [
      "The best parameter value is: \n",
      "{'learning_rate': 0.15, 'max_depth': 5, 'n_estimators': 350}\n",
      "The best score is: \n",
      "0.992353711327042\n"
     ]
    }
   ],
   "source": [
    "import time\n",
    "from sklearn import model_selection\n",
    "start_cv=time.time()\n",
    "# values of n_estimators and max_depth\n",
    "parameters = {'n_estimators':[150,200,250,300,350], #[122,123,124,125,126,127,128,129,130],\n",
    "              'max_depth':[5,10,15,20,25],#[19,21,23,25,27,29,31,33],\n",
    "             'learning_rate':[0.05,0.1,0.15]}\n",
    "\n",
    "# initialize the random forest model\n",
    "gbrt = GradientBoostingRegressor()\n",
    "\n",
    "#Exhaustive search over specified parameter values for an estimator\n",
    "clf = model_selection.GridSearchCV(gbrt, parameters)\n",
    "\n",
    "# fit the model on the training set\n",
    "clf.fit(X_train_rf, y_train_rf)\n",
    "\n",
    "# we can query the best parameter value and its accuracy score\n",
    "print (\"The best parameter value is: \")\n",
    "print (clf.best_params_)\n",
    "print (\"The best score is: \")\n",
    "print (clf.best_score_)\n",
    "end_cv=time.time()"
   ]
  },
  {
   "cell_type": "code",
   "execution_count": 38,
   "metadata": {},
   "outputs": [
    {
     "data": {
      "text/plain": [
       "GradientBoostingRegressor(learning_rate=0.15, max_depth=5, n_estimators=350)"
      ]
     },
     "execution_count": 38,
     "metadata": {},
     "output_type": "execute_result"
    }
   ],
   "source": [
    "gbrt_final = GradientBoostingRegressor(n_estimators = clf.best_params_['n_estimators'],max_depth=clf.best_params_['max_depth'],learning_rate=clf.best_params_['learning_rate']) #把通过上面测试得到的最优值带进去\n",
    "gbrt_final.fit(X_train_rf, y_train_rf)"
   ]
  },
  {
   "cell_type": "code",
   "execution_count": 39,
   "metadata": {},
   "outputs": [
    {
     "data": {
      "text/plain": [
       "0.9988513469806678"
      ]
     },
     "execution_count": 39,
     "metadata": {},
     "output_type": "execute_result"
    }
   ],
   "source": [
    "gbrt_final.score(X_train_rf, y_train_rf)"
   ]
  },
  {
   "cell_type": "code",
   "execution_count": 41,
   "metadata": {},
   "outputs": [
    {
     "data": {
      "text/plain": [
       "0.9945937509584963"
      ]
     },
     "execution_count": 41,
     "metadata": {},
     "output_type": "execute_result"
    }
   ],
   "source": [
    "gbrt_final.score(X_test_rf, y_test_rf)"
   ]
  },
  {
   "cell_type": "code",
   "execution_count": 46,
   "metadata": {},
   "outputs": [],
   "source": [
    "X_ind_test['prediction_gbrt'] = gbrt_final.predict(x_for_prediction)\n",
    "result_gbrt=X_ind_test[['t_ob','prediction_gbrt']] #提取出需要的列\n",
    "result_gbrt= result_gbrt.rename(columns={ 'prediction_gbrt': 'PM2.5'})  #修改列名\n",
    "result_gbrt.to_csv('submission_gbrt.csv',index=False)  #保存文件"
   ]
  },
  {
   "cell_type": "code",
   "execution_count": 47,
   "metadata": {},
   "outputs": [
    {
     "data": {
      "text/html": [
       "<div>\n",
       "<style scoped>\n",
       "    .dataframe tbody tr th:only-of-type {\n",
       "        vertical-align: middle;\n",
       "    }\n",
       "\n",
       "    .dataframe tbody tr th {\n",
       "        vertical-align: top;\n",
       "    }\n",
       "\n",
       "    .dataframe thead th {\n",
       "        text-align: right;\n",
       "    }\n",
       "</style>\n",
       "<table border=\"1\" class=\"dataframe\">\n",
       "  <thead>\n",
       "    <tr style=\"text-align: right;\">\n",
       "      <th></th>\n",
       "      <th>t_ob</th>\n",
       "      <th>PM2.5</th>\n",
       "    </tr>\n",
       "  </thead>\n",
       "  <tbody>\n",
       "    <tr>\n",
       "      <th>0</th>\n",
       "      <td>2020-06-01 00:00:00</td>\n",
       "      <td>35.148101</td>\n",
       "    </tr>\n",
       "    <tr>\n",
       "      <th>1</th>\n",
       "      <td>2020-06-01 00:10:00</td>\n",
       "      <td>35.110478</td>\n",
       "    </tr>\n",
       "    <tr>\n",
       "      <th>2</th>\n",
       "      <td>2020-06-01 00:20:00</td>\n",
       "      <td>34.148238</td>\n",
       "    </tr>\n",
       "    <tr>\n",
       "      <th>3</th>\n",
       "      <td>2020-06-01 00:30:00</td>\n",
       "      <td>31.627540</td>\n",
       "    </tr>\n",
       "    <tr>\n",
       "      <th>4</th>\n",
       "      <td>2020-06-01 00:40:00</td>\n",
       "      <td>32.181889</td>\n",
       "    </tr>\n",
       "    <tr>\n",
       "      <th>...</th>\n",
       "      <td>...</td>\n",
       "      <td>...</td>\n",
       "    </tr>\n",
       "    <tr>\n",
       "      <th>2934</th>\n",
       "      <td>2020-06-21 09:40:00</td>\n",
       "      <td>7.091289</td>\n",
       "    </tr>\n",
       "    <tr>\n",
       "      <th>2935</th>\n",
       "      <td>2020-06-21 09:50:00</td>\n",
       "      <td>6.997168</td>\n",
       "    </tr>\n",
       "    <tr>\n",
       "      <th>2936</th>\n",
       "      <td>2020-06-21 10:00:00</td>\n",
       "      <td>7.152962</td>\n",
       "    </tr>\n",
       "    <tr>\n",
       "      <th>2937</th>\n",
       "      <td>2020-06-21 10:10:00</td>\n",
       "      <td>6.810447</td>\n",
       "    </tr>\n",
       "    <tr>\n",
       "      <th>2938</th>\n",
       "      <td>2020-06-21 10:20:00</td>\n",
       "      <td>8.086374</td>\n",
       "    </tr>\n",
       "  </tbody>\n",
       "</table>\n",
       "<p>2939 rows × 2 columns</p>\n",
       "</div>"
      ],
      "text/plain": [
       "                    t_ob      PM2.5\n",
       "0    2020-06-01 00:00:00  35.148101\n",
       "1    2020-06-01 00:10:00  35.110478\n",
       "2    2020-06-01 00:20:00  34.148238\n",
       "3    2020-06-01 00:30:00  31.627540\n",
       "4    2020-06-01 00:40:00  32.181889\n",
       "...                  ...        ...\n",
       "2934 2020-06-21 09:40:00   7.091289\n",
       "2935 2020-06-21 09:50:00   6.997168\n",
       "2936 2020-06-21 10:00:00   7.152962\n",
       "2937 2020-06-21 10:10:00   6.810447\n",
       "2938 2020-06-21 10:20:00   8.086374\n",
       "\n",
       "[2939 rows x 2 columns]"
      ]
     },
     "execution_count": 47,
     "metadata": {},
     "output_type": "execute_result"
    }
   ],
   "source": [
    "result_gbrt"
   ]
  },
  {
   "cell_type": "code",
   "execution_count": 48,
   "metadata": {},
   "outputs": [
    {
     "name": "stdout",
     "output_type": "stream",
     "text": [
      "[Enter] to confirm your submission file is placed at D:\\code_own\\CodingTest-SunyuWang\\to_players\\submission_gbrt.csv)\n",
      "\n",
      "Submission time: 2022-06-06 17:31:23.518892\n",
      " - RMSE: 5.391\n",
      " - R sq.: 0.803\n",
      " - Max. abs. residual: 30.891\n",
      " - Min. abs. residual: 0.002\n",
      " - Logging results. [Enter] to make sure 'submission_history.csv' is closed: \n",
      " - Notes for this submission: \n",
      " ! Results logged in 'submission_history.csv'.\n",
      " ! Submission file saved to '/old_submissions/submission_2022_06_06_17_31_23.csv'.\n",
      "Evaluation Successful. Press to quit...\n"
     ]
    }
   ],
   "source": [
    "autoGrader(fd/'submission_gbrt.csv')"
   ]
  },
  {
   "cell_type": "markdown",
   "metadata": {},
   "source": [
    "gbrt得到的最终测试结果不如random forest，但在training set/test set上表现很好"
   ]
  }
 ],
 "metadata": {
  "kernelspec": {
   "display_name": "sds2020",
   "language": "python",
   "name": "sds2020"
  },
  "language_info": {
   "codemirror_mode": {
    "name": "ipython",
    "version": 3
   },
   "file_extension": ".py",
   "mimetype": "text/x-python",
   "name": "python",
   "nbconvert_exporter": "python",
   "pygments_lexer": "ipython3",
   "version": "3.8.8"
  }
 },
 "nbformat": 4,
 "nbformat_minor": 2
}
